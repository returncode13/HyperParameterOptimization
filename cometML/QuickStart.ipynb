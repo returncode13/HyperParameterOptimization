{
 "cells": [
  {
   "cell_type": "markdown",
   "metadata": {},
   "source": [
    "Reference #https://colab.research.google.com/drive/1HEcOKFwK-Bk8T3R_IIqBhNjPO5opmCO0#scrollTo=CK6d-kNzO2hX"
   ]
  },
  {
   "cell_type": "code",
   "execution_count": 1,
   "metadata": {},
   "outputs": [
    {
     "name": "stderr",
     "output_type": "stream",
     "text": [
      "C:\\Anaconda\\envs\\py36gpu\\lib\\site-packages\\h5py\\__init__.py:36: FutureWarning: Conversion of the second argument of issubdtype from `float` to `np.floating` is deprecated. In future, it will be treated as `np.float64 == np.dtype(float).type`.\n",
      "  from ._conv import register_converters as _register_converters\n",
      "Using TensorFlow backend.\n"
     ]
    }
   ],
   "source": [
    "from comet_ml import Experiment\n",
    "import keras\n",
    "from keras.datasets import mnist\n",
    "from keras.layers import Dense,Dropout\n",
    "from keras.models import Sequential, Model\n",
    "from keras.optimizers import  RMSprop\n",
    "from keras.callbacks import Callback\n",
    "from keras.preprocessing import image"
   ]
  },
  {
   "cell_type": "code",
   "execution_count": 2,
   "metadata": {},
   "outputs": [],
   "source": [
    "(x_train, y_train),(x_test,y_test)=mnist.load_data()"
   ]
  },
  {
   "cell_type": "code",
   "execution_count": 3,
   "metadata": {},
   "outputs": [
    {
     "data": {
      "text/plain": [
       "(60000, 28, 28)"
      ]
     },
     "execution_count": 3,
     "metadata": {},
     "output_type": "execute_result"
    }
   ],
   "source": [
    "x_train.shape"
   ]
  },
  {
   "cell_type": "code",
   "execution_count": 4,
   "metadata": {},
   "outputs": [
    {
     "name": "stdout",
     "output_type": "stream",
     "text": [
      "60000 train samples\n",
      "10000 test samples\n"
     ]
    }
   ],
   "source": [
    "x_train=x_train.reshape(60000,784)\n",
    "x_test=x_test.reshape(10000,784)\n",
    "x_train = x_train.astype(\"float32\")\n",
    "x_test= x_test.astype(\"float32\")\n",
    "x_train /=255\n",
    "x_test /=255\n",
    "\n",
    "print(x_train.shape[0],\"train samples\")\n",
    "print(x_test.shape[0],\"test samples\")\n"
   ]
  },
  {
   "cell_type": "code",
   "execution_count": 5,
   "metadata": {},
   "outputs": [
    {
     "data": {
      "text/plain": [
       "(60000,)"
      ]
     },
     "execution_count": 5,
     "metadata": {},
     "output_type": "execute_result"
    }
   ],
   "source": [
    "y_train.shape"
   ]
  },
  {
   "cell_type": "code",
   "execution_count": 6,
   "metadata": {},
   "outputs": [
    {
     "data": {
      "text/plain": [
       "array([0., 0., 0., 0., 0., 1., 0., 0., 0., 0.], dtype=float32)"
      ]
     },
     "execution_count": 6,
     "metadata": {},
     "output_type": "execute_result"
    }
   ],
   "source": [
    "y_train=keras.utils.to_categorical(y_train,10)\n",
    "y_test=keras.utils.to_categorical(y_test,10)\n",
    "y_train[0]"
   ]
  },
  {
   "cell_type": "code",
   "execution_count": 7,
   "metadata": {},
   "outputs": [],
   "source": [
    "def build_model(input_shape=(784,)):\n",
    "    model=Sequential()\n",
    "    model.add(Dense(128,activation=\"sigmoid\",input_shape=(784,)))\n",
    "    model.add(Dense(256,activation=\"sigmoid\"))\n",
    "    model.add(Dense(128,activation=\"sigmoid\"))\n",
    "    model.add(Dense(10,activation=\"softmax\"))\n",
    "    model.compile(\n",
    "        loss=\"categorical_crossentropy\",\n",
    "        optimizer=RMSprop(),\n",
    "        metrics=[\"accuracy\"]\n",
    "    )\n",
    "    return model\n",
    "\n",
    "\n",
    "        "
   ]
  },
  {
   "cell_type": "code",
   "execution_count": 8,
   "metadata": {},
   "outputs": [
    {
     "name": "stdout",
     "output_type": "stream",
     "text": [
      "Model: \"sequential_1\"\n",
      "_________________________________________________________________\n",
      "Layer (type)                 Output Shape              Param #   \n",
      "=================================================================\n",
      "dense_1 (Dense)              (None, 128)               100480    \n",
      "_________________________________________________________________\n",
      "dense_2 (Dense)              (None, 256)               33024     \n",
      "_________________________________________________________________\n",
      "dense_3 (Dense)              (None, 128)               32896     \n",
      "_________________________________________________________________\n",
      "dense_4 (Dense)              (None, 10)                1290      \n",
      "=================================================================\n",
      "Total params: 167,690\n",
      "Trainable params: 167,690\n",
      "Non-trainable params: 0\n",
      "_________________________________________________________________\n"
     ]
    }
   ],
   "source": [
    "model = build_model()\n",
    "model.summary()"
   ]
  },
  {
   "cell_type": "code",
   "execution_count": 9,
   "metadata": {},
   "outputs": [],
   "source": [
    "import logging\n",
    "def train(x_train,y_train,x_test,y_test):\n",
    "    model=build_model()\n",
    "    model.fit(\n",
    "        x_train,\n",
    "        y_train,\n",
    "        batch_size=90,\n",
    "        epochs=5,\n",
    "        validation_data=(x_test,y_test)\n",
    "    )\n",
    "    score=model.evaluate(x_test,y_test)\n",
    "    logging.info(\"score %s\",score)\n"
   ]
  },
  {
   "cell_type": "markdown",
   "metadata": {},
   "source": [
    "**Create an  Experiment:**"
   ]
  },
  {
   "cell_type": "code",
   "execution_count": 10,
   "metadata": {},
   "outputs": [
    {
     "name": "stderr",
     "output_type": "stream",
     "text": [
      "COMET INFO: Experiment is live on comet.ml https://www.comet.ml/returncode13/general/e99b894e2d674805a45f29f96aa3cdf4\n",
      "\n"
     ]
    }
   ],
   "source": [
    "experiment = Experiment(api_key=\"6krXLYdn4mMFKPsF8jwrFwXtu\",\n",
    "                        project_name=\"general\", workspace=\"returncode13\")"
   ]
  },
  {
   "cell_type": "code",
   "execution_count": 11,
   "metadata": {},
   "outputs": [],
   "source": [
    "#experiment.display()"
   ]
  },
  {
   "cell_type": "code",
   "execution_count": 12,
   "metadata": {},
   "outputs": [],
   "source": [
    "experiment.log_dataset_hash(x_train)"
   ]
  },
  {
   "cell_type": "code",
   "execution_count": 13,
   "metadata": {},
   "outputs": [
    {
     "name": "stdout",
     "output_type": "stream",
     "text": [
      "WARNING:tensorflow:From C:\\Anaconda\\envs\\py36gpu\\lib\\site-packages\\keras\\backend\\tensorflow_backend.py:422: The name tf.global_variables is deprecated. Please use tf.compat.v1.global_variables instead.\n",
      "\n"
     ]
    },
    {
     "name": "stderr",
     "output_type": "stream",
     "text": [
      "COMET INFO: Ignoring automatic log_parameter('verbose') because 'keras:verbose' is in COMET_LOGGING_PARAMETERS_IGNORE\n",
      "COMET INFO: Ignoring automatic log_parameter('do_validation') because 'keras:do_validation' is in COMET_LOGGING_PARAMETERS_IGNORE\n"
     ]
    },
    {
     "name": "stdout",
     "output_type": "stream",
     "text": [
      "Train on 60000 samples, validate on 10000 samples\n",
      "Epoch 1/5\n",
      "   90/60000 [..............................] - ETA: 3:07 - loss: 2.5691 - accuracy: 0.1444"
     ]
    },
    {
     "name": "stderr",
     "output_type": "stream",
     "text": [
      "COMET INFO: Ignoring automatic log_metric('batch_batch') because 'keras:batch_batch' is in COMET_LOGGING_METRICS_IGNORE\n",
      "COMET INFO: Ignoring automatic log_metric('batch_size') because 'keras:batch_size' is in COMET_LOGGING_METRICS_IGNORE\n"
     ]
    },
    {
     "name": "stdout",
     "output_type": "stream",
     "text": [
      "60000/60000 [==============================] - 3s 46us/step - loss: 0.6572 - accuracy: 0.8025 - val_loss: 0.2794 - val_accuracy: 0.9183\n",
      "Epoch 2/5\n",
      "60000/60000 [==============================] - 2s 41us/step - loss: 0.2363 - accuracy: 0.9290 - val_loss: 0.1865 - val_accuracy: 0.9423\n",
      "Epoch 3/5\n",
      "60000/60000 [==============================] - 2s 41us/step - loss: 0.1695 - accuracy: 0.9488 - val_loss: 0.1521 - val_accuracy: 0.9561\n",
      "Epoch 4/5\n",
      "60000/60000 [==============================] - 2s 41us/step - loss: 0.1341 - accuracy: 0.9591 - val_loss: 0.1435 - val_accuracy: 0.9561\n",
      "Epoch 5/5\n",
      "60000/60000 [==============================] - 2s 41us/step - loss: 0.1108 - accuracy: 0.9670 - val_loss: 0.1357 - val_accuracy: 0.9594\n",
      "10000/10000 [==============================] - 0s 47us/step\n"
     ]
    }
   ],
   "source": [
    "train(x_train,y_train,x_test,y_test)"
   ]
  },
  {
   "cell_type": "code",
   "execution_count": 14,
   "metadata": {},
   "outputs": [
    {
     "name": "stderr",
     "output_type": "stream",
     "text": [
      "COMET INFO: ----------------------------\n",
      "COMET INFO: Comet.ml Experiment Summary:\n",
      "COMET INFO:   Data:\n",
      "COMET INFO:     url: https://www.comet.ml/returncode13/general/e99b894e2d674805a45f29f96aa3cdf4\n",
      "COMET INFO:   Metrics [count] (min, max):\n",
      "COMET INFO:     accuracy [5]                : (0.8024500012397766, 0.9670000076293945)\n",
      "COMET INFO:     batch_accuracy [335]        : (0.11818181723356247, 0.9686868786811829)\n",
      "COMET INFO:     batch_loss [335]            : (0.01485331542789936, 2.5690624713897705)\n",
      "COMET INFO:     epoch_duration [5]          : (2.437999999998283, 2.75)\n",
      "COMET INFO:     loss [5]                    : (0.11079098305711522, 0.6572063507251441)\n",
      "COMET INFO:     step                        : 3895\n",
      "COMET INFO:     sys.gpu.0.free_memory       : (12002066432.0, 12002066432.0)\n",
      "COMET INFO:     sys.gpu.0.gpu_utilization   : (0.0, 0.0)\n",
      "COMET INFO:     sys.gpu.0.total_memory      : (12004491264.0, 12004491264.0)\n",
      "COMET INFO:     sys.gpu.0.used_memory       : (2424832.0, 2424832.0)\n",
      "COMET INFO:     sys.gpu.1.free_memory       : (12003115008.0, 12003115008.0)\n",
      "COMET INFO:     sys.gpu.1.gpu_utilization   : (0.0, 0.0)\n",
      "COMET INFO:     sys.gpu.1.total_memory      : (12004491264.0, 12004491264.0)\n",
      "COMET INFO:     sys.gpu.1.used_memory       : (1376256.0, 1376256.0)\n",
      "COMET INFO:     val_accuracy [5]            : (0.9182999730110168, 0.9593999981880188)\n",
      "COMET INFO:     val_loss [5]                : (0.13573153964988888, 0.27943232760578396)\n",
      "COMET INFO:     validate_batch_accuracy [60]: (0.8960784077644348, 0.9888888597488403)\n",
      "COMET INFO:     validate_batch_loss [60]    : (0.011583455838263035, 0.45453551411628723)\n",
      "COMET INFO:   Other [count]:\n",
      "COMET INFO:     trainable_params: 167690\n",
      "COMET INFO: ----------------------------\n",
      "COMET INFO: Uploading stats to Comet before program termination (may take several seconds)\n"
     ]
    }
   ],
   "source": [
    "experiment.end()"
   ]
  },
  {
   "cell_type": "code",
   "execution_count": null,
   "metadata": {},
   "outputs": [],
   "source": []
  }
 ],
 "metadata": {
  "kernelspec": {
   "display_name": "py36gpu_",
   "language": "python",
   "name": "py36gpu_"
  },
  "language_info": {
   "codemirror_mode": {
    "name": "ipython",
    "version": 3
   },
   "file_extension": ".py",
   "mimetype": "text/x-python",
   "name": "python",
   "nbconvert_exporter": "python",
   "pygments_lexer": "ipython3",
   "version": "3.6.7"
  }
 },
 "nbformat": 4,
 "nbformat_minor": 2
}
