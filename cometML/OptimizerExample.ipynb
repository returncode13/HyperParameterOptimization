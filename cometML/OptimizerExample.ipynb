{
 "cells": [
  {
   "cell_type": "markdown",
   "metadata": {},
   "source": [
    "Reference: https://colab.research.google.com/drive/1HEcOKFwK-Bk8T3R_IIqBhNjPO5opmCO0#scrollTo=CK6d-kNzO2hX  \n",
    "Optimizer Introduction: https://www.comet.ml/docs/python-sdk/introduction-optimizer/"
   ]
  },
  {
   "cell_type": "code",
   "execution_count": 1,
   "metadata": {},
   "outputs": [
    {
     "name": "stderr",
     "output_type": "stream",
     "text": [
      "C:\\Anaconda\\envs\\py36gpu\\lib\\site-packages\\h5py\\__init__.py:36: FutureWarning: Conversion of the second argument of issubdtype from `float` to `np.floating` is deprecated. In future, it will be treated as `np.float64 == np.dtype(float).type`.\n",
      "  from ._conv import register_converters as _register_converters\n",
      "Using TensorFlow backend.\n"
     ]
    }
   ],
   "source": [
    "from comet_ml import Experiment\n",
    "import keras\n",
    "from keras.datasets import mnist\n",
    "from keras.layers import Dense,Dropout\n",
    "from keras.models import Sequential, Model\n",
    "from keras.optimizers import  RMSprop\n",
    "from keras.callbacks import Callback\n",
    "from keras.preprocessing import image"
   ]
  },
  {
   "cell_type": "code",
   "execution_count": 2,
   "metadata": {},
   "outputs": [],
   "source": [
    "(x_train, y_train),(x_test,y_test)=mnist.load_data()"
   ]
  },
  {
   "cell_type": "code",
   "execution_count": 3,
   "metadata": {},
   "outputs": [
    {
     "data": {
      "text/plain": [
       "(60000, 28, 28)"
      ]
     },
     "execution_count": 3,
     "metadata": {},
     "output_type": "execute_result"
    }
   ],
   "source": [
    "x_train.shape"
   ]
  },
  {
   "cell_type": "code",
   "execution_count": 4,
   "metadata": {},
   "outputs": [
    {
     "name": "stdout",
     "output_type": "stream",
     "text": [
      "60000 train samples\n",
      "10000 test samples\n"
     ]
    }
   ],
   "source": [
    "x_train=x_train.reshape(60000,784)\n",
    "x_test=x_test.reshape(10000,784)\n",
    "x_train = x_train.astype(\"float32\")\n",
    "x_test= x_test.astype(\"float32\")\n",
    "x_train /=255\n",
    "x_test /=255\n",
    "\n",
    "print(x_train.shape[0],\"train samples\")\n",
    "print(x_test.shape[0],\"test samples\")\n"
   ]
  },
  {
   "cell_type": "code",
   "execution_count": 5,
   "metadata": {},
   "outputs": [
    {
     "data": {
      "text/plain": [
       "(60000,)"
      ]
     },
     "execution_count": 5,
     "metadata": {},
     "output_type": "execute_result"
    }
   ],
   "source": [
    "y_train.shape"
   ]
  },
  {
   "cell_type": "code",
   "execution_count": 6,
   "metadata": {},
   "outputs": [
    {
     "data": {
      "text/plain": [
       "array([0., 0., 0., 0., 0., 1., 0., 0., 0., 0.], dtype=float32)"
      ]
     },
     "execution_count": 6,
     "metadata": {},
     "output_type": "execute_result"
    }
   ],
   "source": [
    "y_train=keras.utils.to_categorical(y_train,10)\n",
    "y_test=keras.utils.to_categorical(y_test,10)\n",
    "y_train[0]"
   ]
  },
  {
   "cell_type": "code",
   "execution_count": 7,
   "metadata": {},
   "outputs": [],
   "source": [
    "def build_model(input_shape=(784,)):\n",
    "    model=Sequential()\n",
    "    model.add(Dense(128,activation=\"sigmoid\",input_shape=(784,)))\n",
    "    model.add(Dense(256,activation=\"sigmoid\"))\n",
    "    model.add(Dense(128,activation=\"sigmoid\"))\n",
    "    model.add(Dense(10,activation=\"softmax\"))\n",
    "    model.compile(\n",
    "        loss=\"categorical_crossentropy\",\n",
    "        optimizer=RMSprop(),\n",
    "        metrics=[\"accuracy\"]\n",
    "    )\n",
    "    return model\n",
    "\n",
    "\n",
    "        "
   ]
  },
  {
   "cell_type": "code",
   "execution_count": 8,
   "metadata": {},
   "outputs": [
    {
     "name": "stdout",
     "output_type": "stream",
     "text": [
      "Model: \"sequential_1\"\n",
      "_________________________________________________________________\n",
      "Layer (type)                 Output Shape              Param #   \n",
      "=================================================================\n",
      "dense_1 (Dense)              (None, 128)               100480    \n",
      "_________________________________________________________________\n",
      "dense_2 (Dense)              (None, 256)               33024     \n",
      "_________________________________________________________________\n",
      "dense_3 (Dense)              (None, 128)               32896     \n",
      "_________________________________________________________________\n",
      "dense_4 (Dense)              (None, 10)                1290      \n",
      "=================================================================\n",
      "Total params: 167,690\n",
      "Trainable params: 167,690\n",
      "Non-trainable params: 0\n",
      "_________________________________________________________________\n"
     ]
    }
   ],
   "source": [
    "model = build_model()\n",
    "model.summary()"
   ]
  },
  {
   "cell_type": "code",
   "execution_count": 9,
   "metadata": {},
   "outputs": [],
   "source": [
    "import logging\n",
    "def train(x_train,y_train,x_test,y_test,batch,epoch):\n",
    "    model=build_model()\n",
    "    model.fit(\n",
    "        x_train,\n",
    "        y_train,\n",
    "        batch_size=batch,\n",
    "        epochs=epoch,\n",
    "        validation_data=(x_test,y_test)\n",
    "    )\n",
    "    score=model.evaluate(x_test,y_test)\n",
    "    logging.info(\"score %s\",score)\n"
   ]
  },
  {
   "cell_type": "markdown",
   "metadata": {},
   "source": [
    "**Create an  Experiment:**"
   ]
  },
  {
   "cell_type": "code",
   "execution_count": 11,
   "metadata": {},
   "outputs": [
    {
     "name": "stderr",
     "output_type": "stream",
     "text": [
      "COMET WARNING: Passing Experiment through Optimizer constructor is deprecated; pass them to Optimizer.get_experiments or Optimizer.next\n",
      "COMET INFO: COMET_OPTIMIZER_ID=f71cdd9b4b874da2ba7a186c31c380b2\n",
      "COMET INFO: Using optimizer config: {'algorithm': 'bayes', 'configSpaceSize': 'infinite', 'endTime': None, 'id': 'f71cdd9b4b874da2ba7a186c31c380b2', 'lastUpdateTime': None, 'maxCombo': 0, 'name': 'f71cdd9b4b874da2ba7a186c31c380b2', 'parameters': {'batch': {'max': 100, 'min': 60, 'scalingType': 'uniform', 'type': 'integer'}, 'epoch': {'max': 20, 'min': 5, 'scalingType': 'uniform', 'type': 'integer'}}, 'predictor': None, 'spec': {'gridSize': 10, 'maxCombo': 0, 'metric': 'zzxx', 'minSampleSize': 100, 'objective': 'maximize', 'retryAssignLimit': 1, 'retryLimit': 20, 'seed': 419048492}, 'startTime': 20293427104, 'state': {'sequence_i': 0, 'sequence_pid': None, 'sequence_retry': 0}, 'status': 'running', 'suggestion_count': 0, 'trials': 1, 'version': '1.0.24'}\n"
     ]
    }
   ],
   "source": [
    "config={\n",
    "    \"algorithm\" : \"bayes\",\n",
    "    \"parameters\": {\n",
    "        \"batch\":{\"type\":\"integer\", \"min\":60 ,\"max\":100},\n",
    "        \"epoch\":{\"type\":\"integer\", \"min\":5,\"max\":20}\n",
    "    }\n",
    "    ,\n",
    "    \"spec\":{\n",
    "        \"metric\":\"zzxx\",\n",
    "        \"objective\":\"maximize\",\n",
    "        \"retryAssignLimit\":1\n",
    "    }\n",
    "}\n",
    "\n",
    "from comet_ml import Optimizer \n",
    "opt=Optimizer(config,api_key=\"6krXLYdn4mMFKPsF8jwrFwXtu\",project_name=\"optimizer-search-02\")"
   ]
  },
  {
   "cell_type": "markdown",
   "metadata": {},
   "source": [
    "**Start experiments**  \n",
    "https://www.comet.ml/docs/python-sdk/introduction-optimizer/"
   ]
  },
  {
   "cell_type": "code",
   "execution_count": 12,
   "metadata": {},
   "outputs": [
    {
     "name": "stderr",
     "output_type": "stream",
     "text": [
      "COMET INFO: Experiment is live on comet.ml https://www.comet.ml/returncode13/optimizer-search-02/b471ee7163e24903b02cd34128c8cd3d\n",
      "\n"
     ]
    },
    {
     "name": "stdout",
     "output_type": "stream",
     "text": [
      "WARNING:tensorflow:From C:\\Anaconda\\envs\\py36gpu\\lib\\site-packages\\keras\\backend\\tensorflow_backend.py:422: The name tf.global_variables is deprecated. Please use tf.compat.v1.global_variables instead.\n",
      "\n"
     ]
    },
    {
     "name": "stderr",
     "output_type": "stream",
     "text": [
      "COMET INFO: Ignoring automatic log_parameter('verbose') because 'keras:verbose' is in COMET_LOGGING_PARAMETERS_IGNORE\n",
      "COMET INFO: Ignoring automatic log_parameter('do_validation') because 'keras:do_validation' is in COMET_LOGGING_PARAMETERS_IGNORE\n"
     ]
    },
    {
     "name": "stdout",
     "output_type": "stream",
     "text": [
      "Train on 60000 samples, validate on 10000 samples\n",
      "Epoch 1/12\n",
      "   95/60000 [..............................] - ETA: 2:47 - loss: 2.4796 - accuracy: 0.1053"
     ]
    },
    {
     "name": "stderr",
     "output_type": "stream",
     "text": [
      "COMET INFO: Ignoring automatic log_metric('batch_batch') because 'keras:batch_batch' is in COMET_LOGGING_METRICS_IGNORE\n",
      "COMET INFO: Ignoring automatic log_metric('batch_size') because 'keras:batch_size' is in COMET_LOGGING_METRICS_IGNORE\n"
     ]
    },
    {
     "name": "stdout",
     "output_type": "stream",
     "text": [
      "60000/60000 [==============================] - 3s 45us/step - loss: 0.6565 - accuracy: 0.8059 - val_loss: 0.2808 - val_accuracy: 0.9164\n",
      "Epoch 2/12\n",
      "60000/60000 [==============================] - 2s 40us/step - loss: 0.2380 - accuracy: 0.9290 - val_loss: 0.1970 - val_accuracy: 0.9399\n",
      "Epoch 3/12\n",
      "60000/60000 [==============================] - 2s 40us/step - loss: 0.1689 - accuracy: 0.9494 - val_loss: 0.1615 - val_accuracy: 0.9523\n",
      "Epoch 4/12\n",
      "60000/60000 [==============================] - 2s 40us/step - loss: 0.1334 - accuracy: 0.9602 - val_loss: 0.1404 - val_accuracy: 0.9590\n",
      "Epoch 5/12\n",
      "60000/60000 [==============================] - 3s 43us/step - loss: 0.1098 - accuracy: 0.9672 - val_loss: 0.1240 - val_accuracy: 0.9619\n",
      "Epoch 6/12\n",
      "60000/60000 [==============================] - 2s 40us/step - loss: 0.0930 - accuracy: 0.9715 - val_loss: 0.1104 - val_accuracy: 0.9672\n",
      "Epoch 7/12\n",
      "60000/60000 [==============================] - 2s 40us/step - loss: 0.0814 - accuracy: 0.9744 - val_loss: 0.1106 - val_accuracy: 0.9663\n",
      "Epoch 8/12\n",
      "60000/60000 [==============================] - 2s 40us/step - loss: 0.0715 - accuracy: 0.9780 - val_loss: 0.0946 - val_accuracy: 0.9709\n",
      "Epoch 9/12\n",
      "60000/60000 [==============================] - 2s 40us/step - loss: 0.0630 - accuracy: 0.9808 - val_loss: 0.0876 - val_accuracy: 0.9742\n",
      "Epoch 10/12\n",
      "60000/60000 [==============================] - 2s 40us/step - loss: 0.0558 - accuracy: 0.9830 - val_loss: 0.0954 - val_accuracy: 0.9734\n",
      "Epoch 11/12\n",
      "60000/60000 [==============================] - 2s 40us/step - loss: 0.0493 - accuracy: 0.9849 - val_loss: 0.0819 - val_accuracy: 0.9755\n",
      "Epoch 12/12\n",
      "60000/60000 [==============================] - 2s 41us/step - loss: 0.0453 - accuracy: 0.9865 - val_loss: 0.0883 - val_accuracy: 0.9762\n",
      "10000/10000 [==============================] - 1s 53us/step\n"
     ]
    },
    {
     "name": "stderr",
     "output_type": "stream",
     "text": [
      "COMET INFO: Experiment is live on comet.ml https://www.comet.ml/returncode13/optimizer-search-02/a0346da44ca44048b8c485fe3f804181\n",
      "\n"
     ]
    },
    {
     "name": "stdout",
     "output_type": "stream",
     "text": [
      "Train on 60000 samples, validate on 10000 samples\n",
      "Epoch 1/10\n",
      "60000/60000 [==============================] - 2s 41us/step - loss: 0.6597 - accuracy: 0.8076 - val_loss: 0.3446 - val_accuracy: 0.8934\n",
      "Epoch 2/10\n",
      "60000/60000 [==============================] - 2s 39us/step - loss: 0.2369 - accuracy: 0.9301 - val_loss: 0.2229 - val_accuracy: 0.9326\n",
      "Epoch 3/10\n",
      "60000/60000 [==============================] - 2s 39us/step - loss: 0.1694 - accuracy: 0.9491 - val_loss: 0.1648 - val_accuracy: 0.9498\n",
      "Epoch 4/10\n",
      "60000/60000 [==============================] - 2s 39us/step - loss: 0.1315 - accuracy: 0.9606 - val_loss: 0.1392 - val_accuracy: 0.9585\n",
      "Epoch 5/10\n",
      "60000/60000 [==============================] - 2s 39us/step - loss: 0.1095 - accuracy: 0.9674 - val_loss: 0.1216 - val_accuracy: 0.9631\n",
      "Epoch 6/10\n",
      "60000/60000 [==============================] - 2s 39us/step - loss: 0.0937 - accuracy: 0.9721 - val_loss: 0.1039 - val_accuracy: 0.9688\n",
      "Epoch 7/10\n",
      "60000/60000 [==============================] - 2s 38us/step - loss: 0.0801 - accuracy: 0.9762 - val_loss: 0.0958 - val_accuracy: 0.9725\n",
      "Epoch 8/10\n",
      "60000/60000 [==============================] - 2s 39us/step - loss: 0.0712 - accuracy: 0.9785 - val_loss: 0.1462 - val_accuracy: 0.9567\n",
      "Epoch 9/10\n",
      "60000/60000 [==============================] - 2s 39us/step - loss: 0.0630 - accuracy: 0.9813 - val_loss: 0.0848 - val_accuracy: 0.9749\n",
      "Epoch 10/10\n",
      "60000/60000 [==============================] - 2s 39us/step - loss: 0.0553 - accuracy: 0.9834 - val_loss: 0.0874 - val_accuracy: 0.9749\n",
      "10000/10000 [==============================] - 1s 50us/step\n"
     ]
    },
    {
     "name": "stderr",
     "output_type": "stream",
     "text": [
      "COMET INFO: Experiment is live on comet.ml https://www.comet.ml/returncode13/optimizer-search-02/1ec0f32609064bcdb197e70adee3686a\n",
      "\n"
     ]
    },
    {
     "name": "stdout",
     "output_type": "stream",
     "text": [
      "Train on 60000 samples, validate on 10000 samples\n",
      "Epoch 1/12\n",
      "60000/60000 [==============================] - 3s 42us/step - loss: 0.6580 - accuracy: 0.8054 - val_loss: 0.2807 - val_accuracy: 0.9175\n",
      "Epoch 2/12\n",
      "60000/60000 [==============================] - 2s 39us/step - loss: 0.2391 - accuracy: 0.9286 - val_loss: 0.1956 - val_accuracy: 0.9393\n",
      "Epoch 3/12\n",
      "60000/60000 [==============================] - 2s 39us/step - loss: 0.1746 - accuracy: 0.9475 - val_loss: 0.1567 - val_accuracy: 0.9523\n",
      "Epoch 4/12\n",
      "60000/60000 [==============================] - 2s 39us/step - loss: 0.1377 - accuracy: 0.9585 - val_loss: 0.1378 - val_accuracy: 0.9595\n",
      "Epoch 5/12\n",
      "60000/60000 [==============================] - 2s 39us/step - loss: 0.1141 - accuracy: 0.9658 - val_loss: 0.1132 - val_accuracy: 0.9653\n",
      "Epoch 6/12\n",
      "60000/60000 [==============================] - 2s 39us/step - loss: 0.0966 - accuracy: 0.9711 - val_loss: 0.1067 - val_accuracy: 0.9674\n",
      "Epoch 7/12\n",
      "60000/60000 [==============================] - 2s 39us/step - loss: 0.0841 - accuracy: 0.9746 - val_loss: 0.0960 - val_accuracy: 0.9726\n",
      "Epoch 8/12\n",
      "60000/60000 [==============================] - 2s 39us/step - loss: 0.0734 - accuracy: 0.9783 - val_loss: 0.1118 - val_accuracy: 0.9667\n",
      "Epoch 9/12\n",
      "60000/60000 [==============================] - 2s 39us/step - loss: 0.0640 - accuracy: 0.9808 - val_loss: 0.0893 - val_accuracy: 0.9731\n",
      "Epoch 10/12\n",
      "60000/60000 [==============================] - 2s 40us/step - loss: 0.0565 - accuracy: 0.9829 - val_loss: 0.0867 - val_accuracy: 0.9757\n",
      "Epoch 11/12\n",
      "60000/60000 [==============================] - 2s 39us/step - loss: 0.0509 - accuracy: 0.9845 - val_loss: 0.1166 - val_accuracy: 0.9664\n",
      "Epoch 12/12\n",
      "60000/60000 [==============================] - 2s 39us/step - loss: 0.0454 - accuracy: 0.9865 - val_loss: 0.0932 - val_accuracy: 0.9737\n",
      "10000/10000 [==============================] - 1s 52us/step\n"
     ]
    },
    {
     "name": "stderr",
     "output_type": "stream",
     "text": [
      "COMET INFO: Experiment is live on comet.ml https://www.comet.ml/returncode13/optimizer-search-02/b44c2ce4818947adade7166d05a1b030\n",
      "\n"
     ]
    },
    {
     "name": "stdout",
     "output_type": "stream",
     "text": [
      "Train on 60000 samples, validate on 10000 samples\n",
      "Epoch 1/10\n",
      "60000/60000 [==============================] - 2s 41us/step - loss: 0.6658 - accuracy: 0.8022 - val_loss: 0.3469 - val_accuracy: 0.8922\n",
      "Epoch 2/10\n",
      "60000/60000 [==============================] - 2s 38us/step - loss: 0.2373 - accuracy: 0.9293 - val_loss: 0.2391 - val_accuracy: 0.9285\n",
      "Epoch 3/10\n",
      "60000/60000 [==============================] - 2s 39us/step - loss: 0.1710 - accuracy: 0.9483 - val_loss: 0.1700 - val_accuracy: 0.9478\n",
      "Epoch 4/10\n",
      "60000/60000 [==============================] - 2s 38us/step - loss: 0.1341 - accuracy: 0.9595 - val_loss: 0.1227 - val_accuracy: 0.9630\n",
      "Epoch 5/10\n",
      "60000/60000 [==============================] - 2s 39us/step - loss: 0.1107 - accuracy: 0.9667 - val_loss: 0.1684 - val_accuracy: 0.9457\n",
      "Epoch 6/10\n",
      "60000/60000 [==============================] - 2s 41us/step - loss: 0.0949 - accuracy: 0.9716 - val_loss: 0.1057 - val_accuracy: 0.9666\n",
      "Epoch 7/10\n",
      "60000/60000 [==============================] - 2s 39us/step - loss: 0.0824 - accuracy: 0.9751 - val_loss: 0.1013 - val_accuracy: 0.9686\n",
      "Epoch 8/10\n",
      "60000/60000 [==============================] - 2s 39us/step - loss: 0.0723 - accuracy: 0.9783 - val_loss: 0.0905 - val_accuracy: 0.9735\n",
      "Epoch 9/10\n",
      "60000/60000 [==============================] - 2s 39us/step - loss: 0.0637 - accuracy: 0.9806 - val_loss: 0.0929 - val_accuracy: 0.9719\n",
      "Epoch 10/10\n",
      "60000/60000 [==============================] - 2s 39us/step - loss: 0.0573 - accuracy: 0.9821 - val_loss: 0.1393 - val_accuracy: 0.9604\n",
      "10000/10000 [==============================] - 1s 50us/step\n"
     ]
    },
    {
     "name": "stderr",
     "output_type": "stream",
     "text": [
      "COMET INFO: Experiment is live on comet.ml https://www.comet.ml/returncode13/optimizer-search-02/96ec5e5f34da493881250988ebf53c71\n",
      "\n"
     ]
    },
    {
     "name": "stdout",
     "output_type": "stream",
     "text": [
      "Train on 60000 samples, validate on 10000 samples\n",
      "Epoch 1/5\n",
      "60000/60000 [==============================] - 3s 45us/step - loss: 0.6531 - accuracy: 0.8054 - val_loss: 0.3020 - val_accuracy: 0.9090\n",
      "Epoch 2/5\n",
      "60000/60000 [==============================] - 3s 42us/step - loss: 0.2404 - accuracy: 0.9282 - val_loss: 0.1995 - val_accuracy: 0.9394\n",
      "Epoch 3/5\n",
      "60000/60000 [==============================] - 3s 42us/step - loss: 0.1716 - accuracy: 0.9481 - val_loss: 0.1631 - val_accuracy: 0.9504\n",
      "Epoch 4/5\n",
      "60000/60000 [==============================] - 3s 44us/step - loss: 0.1346 - accuracy: 0.9594 - val_loss: 0.1418 - val_accuracy: 0.9572\n",
      "Epoch 5/5\n",
      "60000/60000 [==============================] - 3s 42us/step - loss: 0.1101 - accuracy: 0.9666 - val_loss: 0.1239 - val_accuracy: 0.9598\n",
      "10000/10000 [==============================] - 1s 52us/step\n"
     ]
    },
    {
     "name": "stderr",
     "output_type": "stream",
     "text": [
      "COMET INFO: Experiment is live on comet.ml https://www.comet.ml/returncode13/optimizer-search-02/f8c3f450f6ff4943ab89309e2d641ba8\n",
      "\n"
     ]
    },
    {
     "name": "stdout",
     "output_type": "stream",
     "text": [
      "Train on 60000 samples, validate on 10000 samples\n",
      "Epoch 1/5\n",
      "60000/60000 [==============================] - 3s 44us/step - loss: 0.6445 - accuracy: 0.8073 - val_loss: 0.2844 - val_accuracy: 0.9133\n",
      "Epoch 2/5\n",
      "60000/60000 [==============================] - 3s 42us/step - loss: 0.2402 - accuracy: 0.9284 - val_loss: 0.1967 - val_accuracy: 0.9390\n",
      "Epoch 3/5\n",
      "60000/60000 [==============================] - 2s 41us/step - loss: 0.1731 - accuracy: 0.9478 - val_loss: 0.1790 - val_accuracy: 0.9454\n",
      "Epoch 4/5\n",
      "60000/60000 [==============================] - 3s 42us/step - loss: 0.1370 - accuracy: 0.9593 - val_loss: 0.1509 - val_accuracy: 0.9550\n",
      "Epoch 5/5\n",
      "60000/60000 [==============================] - 2s 41us/step - loss: 0.1132 - accuracy: 0.9658 - val_loss: 0.1548 - val_accuracy: 0.9512\n",
      "10000/10000 [==============================] - 1s 50us/step\n"
     ]
    },
    {
     "name": "stderr",
     "output_type": "stream",
     "text": [
      "COMET INFO: Experiment is live on comet.ml https://www.comet.ml/returncode13/optimizer-search-02/5b8ffabcdb254d5a9c66383bbea9ae28\n",
      "\n"
     ]
    },
    {
     "name": "stdout",
     "output_type": "stream",
     "text": [
      "Train on 60000 samples, validate on 10000 samples\n",
      "Epoch 1/10\n",
      "60000/60000 [==============================] - 3s 55us/step - loss: 0.6158 - accuracy: 0.8165 - val_loss: 0.2626 - val_accuracy: 0.9222\n",
      "Epoch 2/10\n",
      "60000/60000 [==============================] - 3s 53us/step - loss: 0.2257 - accuracy: 0.9331 - val_loss: 0.1844 - val_accuracy: 0.9458\n",
      "Epoch 3/10\n",
      "60000/60000 [==============================] - 3s 52us/step - loss: 0.1620 - accuracy: 0.9506 - val_loss: 0.1553 - val_accuracy: 0.9545\n",
      "Epoch 4/10\n",
      "60000/60000 [==============================] - 3s 52us/step - loss: 0.1271 - accuracy: 0.9617 - val_loss: 0.1271 - val_accuracy: 0.9624\n",
      "Epoch 5/10\n",
      "60000/60000 [==============================] - 3s 52us/step - loss: 0.1049 - accuracy: 0.9682 - val_loss: 0.1099 - val_accuracy: 0.9671\n",
      "Epoch 6/10\n",
      "60000/60000 [==============================] - 3s 52us/step - loss: 0.0888 - accuracy: 0.9730 - val_loss: 0.1026 - val_accuracy: 0.9704\n",
      "Epoch 7/10\n",
      "60000/60000 [==============================] - 3s 53us/step - loss: 0.0774 - accuracy: 0.9768 - val_loss: 0.0994 - val_accuracy: 0.9709\n",
      "Epoch 8/10\n",
      "60000/60000 [==============================] - 3s 53us/step - loss: 0.0678 - accuracy: 0.9795 - val_loss: 0.0890 - val_accuracy: 0.9732\n",
      "Epoch 9/10\n",
      "60000/60000 [==============================] - 3s 53us/step - loss: 0.0606 - accuracy: 0.9813 - val_loss: 0.0914 - val_accuracy: 0.9728\n",
      "Epoch 10/10\n",
      "60000/60000 [==============================] - 3s 52us/step - loss: 0.0534 - accuracy: 0.9840 - val_loss: 0.0892 - val_accuracy: 0.9744\n",
      "10000/10000 [==============================] - 1s 52us/step\n"
     ]
    },
    {
     "name": "stderr",
     "output_type": "stream",
     "text": [
      "COMET INFO: Experiment is live on comet.ml https://www.comet.ml/returncode13/optimizer-search-02/0115aea0cd664933a2a307916e3edd80\n",
      "\n"
     ]
    },
    {
     "name": "stdout",
     "output_type": "stream",
     "text": [
      "Train on 60000 samples, validate on 10000 samples\n",
      "Epoch 1/10\n",
      "60000/60000 [==============================] - 3s 55us/step - loss: 0.6114 - accuracy: 0.8167 - val_loss: 0.2678 - val_accuracy: 0.9178\n",
      "Epoch 2/10\n",
      "60000/60000 [==============================] - 3s 52us/step - loss: 0.2296 - accuracy: 0.9303 - val_loss: 0.1860 - val_accuracy: 0.9431\n",
      "Epoch 3/10\n",
      "60000/60000 [==============================] - 3s 52us/step - loss: 0.1631 - accuracy: 0.9510 - val_loss: 0.1486 - val_accuracy: 0.9563\n",
      "Epoch 4/10\n",
      "60000/60000 [==============================] - 3s 54us/step - loss: 0.1279 - accuracy: 0.9616 - val_loss: 0.1334 - val_accuracy: 0.9611\n",
      "Epoch 5/10\n",
      "60000/60000 [==============================] - 3s 50us/step - loss: 0.1049 - accuracy: 0.9677 - val_loss: 0.1136 - val_accuracy: 0.9666\n",
      "Epoch 6/10\n",
      "60000/60000 [==============================] - 3s 51us/step - loss: 0.0887 - accuracy: 0.9729 - val_loss: 0.1005 - val_accuracy: 0.9710\n",
      "Epoch 7/10\n",
      "60000/60000 [==============================] - 3s 52us/step - loss: 0.0774 - accuracy: 0.9767 - val_loss: 0.0990 - val_accuracy: 0.9703\n",
      "Epoch 8/10\n",
      "60000/60000 [==============================] - 3s 52us/step - loss: 0.0666 - accuracy: 0.9797 - val_loss: 0.0985 - val_accuracy: 0.9702\n",
      "Epoch 9/10\n",
      "60000/60000 [==============================] - 3s 52us/step - loss: 0.0599 - accuracy: 0.9818 - val_loss: 0.0894 - val_accuracy: 0.9732\n",
      "Epoch 10/10\n",
      "60000/60000 [==============================] - 3s 52us/step - loss: 0.0538 - accuracy: 0.9840 - val_loss: 0.0920 - val_accuracy: 0.9725\n",
      "10000/10000 [==============================] - 1s 52us/step\n"
     ]
    },
    {
     "name": "stderr",
     "output_type": "stream",
     "text": [
      "COMET INFO: Experiment is live on comet.ml https://www.comet.ml/returncode13/optimizer-search-02/9d756e9c8a1a4b958eeea9c70f2816eb\n",
      "\n"
     ]
    },
    {
     "name": "stdout",
     "output_type": "stream",
     "text": [
      "Train on 60000 samples, validate on 10000 samples\n",
      "Epoch 1/19\n",
      "60000/60000 [==============================] - 4s 61us/step - loss: 0.5612 - accuracy: 0.8349 - val_loss: 0.2528 - val_accuracy: 0.9218\n",
      "Epoch 2/19\n",
      "60000/60000 [==============================] - 3s 58us/step - loss: 0.2146 - accuracy: 0.9364 - val_loss: 0.1752 - val_accuracy: 0.9463\n",
      "Epoch 3/19\n",
      "60000/60000 [==============================] - 4s 61us/step - loss: 0.1551 - accuracy: 0.9534 - val_loss: 0.1399 - val_accuracy: 0.9578\n",
      "Epoch 4/19\n",
      "60000/60000 [==============================] - 3s 56us/step - loss: 0.1218 - accuracy: 0.9636 - val_loss: 0.1239 - val_accuracy: 0.9639\n",
      "Epoch 5/19\n",
      "60000/60000 [==============================] - 3s 55us/step - loss: 0.1008 - accuracy: 0.9696 - val_loss: 0.1189 - val_accuracy: 0.9655\n",
      "Epoch 6/19\n",
      "60000/60000 [==============================] - 3s 55us/step - loss: 0.0859 - accuracy: 0.9738 - val_loss: 0.1078 - val_accuracy: 0.9674\n",
      "Epoch 7/19\n",
      "60000/60000 [==============================] - 3s 55us/step - loss: 0.0744 - accuracy: 0.9775 - val_loss: 0.1072 - val_accuracy: 0.9696\n",
      "Epoch 8/19\n",
      "60000/60000 [==============================] - 3s 58us/step - loss: 0.0654 - accuracy: 0.9799 - val_loss: 0.1000 - val_accuracy: 0.9708\n",
      "Epoch 9/19\n",
      "60000/60000 [==============================] - 4s 59us/step - loss: 0.0577 - accuracy: 0.9820 - val_loss: 0.0960 - val_accuracy: 0.9714\n",
      "Epoch 10/19\n",
      "60000/60000 [==============================] - 4s 59us/step - loss: 0.0518 - accuracy: 0.9844 - val_loss: 0.0915 - val_accuracy: 0.9740\n",
      "Epoch 11/19\n",
      "60000/60000 [==============================] - 3s 58us/step - loss: 0.0461 - accuracy: 0.9857 - val_loss: 0.0877 - val_accuracy: 0.9739\n",
      "Epoch 12/19\n",
      "60000/60000 [==============================] - 3s 58us/step - loss: 0.0415 - accuracy: 0.9877 - val_loss: 0.0948 - val_accuracy: 0.9729\n",
      "Epoch 13/19\n",
      "60000/60000 [==============================] - 3s 58us/step - loss: 0.0381 - accuracy: 0.9883 - val_loss: 0.0982 - val_accuracy: 0.9734\n",
      "Epoch 14/19\n",
      "60000/60000 [==============================] - 3s 58us/step - loss: 0.0338 - accuracy: 0.9902 - val_loss: 0.1468 - val_accuracy: 0.9639\n",
      "Epoch 15/19\n",
      "60000/60000 [==============================] - 3s 58us/step - loss: 0.0303 - accuracy: 0.9909 - val_loss: 0.1085 - val_accuracy: 0.9739\n",
      "Epoch 16/19\n",
      "60000/60000 [==============================] - 3s 58us/step - loss: 0.0270 - accuracy: 0.9917 - val_loss: 0.0957 - val_accuracy: 0.9761\n",
      "Epoch 17/19\n",
      "60000/60000 [==============================] - 4s 59us/step - loss: 0.0250 - accuracy: 0.9925 - val_loss: 0.1039 - val_accuracy: 0.9763\n",
      "Epoch 18/19\n",
      "60000/60000 [==============================] - 3s 58us/step - loss: 0.0221 - accuracy: 0.9934 - val_loss: 0.0989 - val_accuracy: 0.9778\n",
      "Epoch 19/19\n",
      "60000/60000 [==============================] - 3s 58us/step - loss: 0.0200 - accuracy: 0.9941 - val_loss: 0.1095 - val_accuracy: 0.9758\n",
      "10000/10000 [==============================] - 1s 52us/step\n"
     ]
    },
    {
     "name": "stderr",
     "output_type": "stream",
     "text": [
      "COMET INFO: Experiment is live on comet.ml https://www.comet.ml/returncode13/optimizer-search-02/df896015d2f94e579e9515cca6990f85\n",
      "\n"
     ]
    },
    {
     "name": "stdout",
     "output_type": "stream",
     "text": [
      "Train on 60000 samples, validate on 10000 samples\n",
      "Epoch 1/19\n",
      "60000/60000 [==============================] - 4s 62us/step - loss: 0.5793 - accuracy: 0.8267 - val_loss: 0.2634 - val_accuracy: 0.9199\n",
      "Epoch 2/19\n",
      "60000/60000 [==============================] - 4s 59us/step - loss: 0.2242 - accuracy: 0.9321 - val_loss: 0.1831 - val_accuracy: 0.9429\n",
      "Epoch 3/19\n",
      "60000/60000 [==============================] - 4s 59us/step - loss: 0.1601 - accuracy: 0.9524 - val_loss: 0.1459 - val_accuracy: 0.9548\n",
      "Epoch 4/19\n",
      "60000/60000 [==============================] - 4s 58us/step - loss: 0.1249 - accuracy: 0.9626 - val_loss: 0.1227 - val_accuracy: 0.9638\n",
      "Epoch 5/19\n",
      "60000/60000 [==============================] - 4s 59us/step - loss: 0.1024 - accuracy: 0.9688 - val_loss: 0.1122 - val_accuracy: 0.9650\n",
      "Epoch 6/19\n",
      "60000/60000 [==============================] - 4s 59us/step - loss: 0.0866 - accuracy: 0.9740 - val_loss: 0.0959 - val_accuracy: 0.9707\n",
      "Epoch 7/19\n",
      "60000/60000 [==============================] - 4s 58us/step - loss: 0.0746 - accuracy: 0.9769 - val_loss: 0.0950 - val_accuracy: 0.9720\n",
      "Epoch 8/19\n",
      "60000/60000 [==============================] - 3s 58us/step - loss: 0.0645 - accuracy: 0.9808 - val_loss: 0.0857 - val_accuracy: 0.9746\n",
      "Epoch 9/19\n",
      "60000/60000 [==============================] - 4s 58us/step - loss: 0.0579 - accuracy: 0.9829 - val_loss: 0.0891 - val_accuracy: 0.9745\n",
      "Epoch 10/19\n",
      "60000/60000 [==============================] - 4s 58us/step - loss: 0.0507 - accuracy: 0.9846 - val_loss: 0.0964 - val_accuracy: 0.9725\n",
      "Epoch 11/19\n",
      "60000/60000 [==============================] - 4s 59us/step - loss: 0.0456 - accuracy: 0.9862 - val_loss: 0.0916 - val_accuracy: 0.9746\n",
      "Epoch 12/19\n",
      "60000/60000 [==============================] - 4s 58us/step - loss: 0.0405 - accuracy: 0.9878 - val_loss: 0.0964 - val_accuracy: 0.9733\n",
      "Epoch 13/19\n",
      "60000/60000 [==============================] - 4s 59us/step - loss: 0.0361 - accuracy: 0.9885 - val_loss: 0.1076 - val_accuracy: 0.9721\n",
      "Epoch 14/19\n",
      "60000/60000 [==============================] - 4s 59us/step - loss: 0.0322 - accuracy: 0.9902 - val_loss: 0.0933 - val_accuracy: 0.9757\n",
      "Epoch 15/19\n",
      "60000/60000 [==============================] - 3s 58us/step - loss: 0.0285 - accuracy: 0.9912 - val_loss: 0.1063 - val_accuracy: 0.9748\n",
      "Epoch 16/19\n",
      "60000/60000 [==============================] - 4s 58us/step - loss: 0.0257 - accuracy: 0.9923 - val_loss: 0.1133 - val_accuracy: 0.9743\n",
      "Epoch 17/19\n",
      "60000/60000 [==============================] - 4s 58us/step - loss: 0.0235 - accuracy: 0.9928 - val_loss: 0.1047 - val_accuracy: 0.9755\n",
      "Epoch 18/19\n",
      "60000/60000 [==============================] - 4s 59us/step - loss: 0.0216 - accuracy: 0.9934 - val_loss: 0.1182 - val_accuracy: 0.9726\n",
      "Epoch 19/19\n",
      "60000/60000 [==============================] - 4s 59us/step - loss: 0.0185 - accuracy: 0.9946 - val_loss: 0.1415 - val_accuracy: 0.9712\n",
      "10000/10000 [==============================] - 1s 53us/step\n"
     ]
    },
    {
     "name": "stderr",
     "output_type": "stream",
     "text": [
      "COMET INFO: Experiment is live on comet.ml https://www.comet.ml/returncode13/optimizer-search-02/6d8a751e31b94002961d45ea377a101c\n",
      "\n"
     ]
    },
    {
     "name": "stdout",
     "output_type": "stream",
     "text": [
      "Train on 60000 samples, validate on 10000 samples\n",
      "Epoch 1/10\n",
      "60000/60000 [==============================] - 3s 57us/step - loss: 0.5799 - accuracy: 0.8275 - val_loss: 0.2467 - val_accuracy: 0.9243\n",
      "Epoch 2/10\n",
      "60000/60000 [==============================] - 3s 54us/step - loss: 0.2148 - accuracy: 0.9352 - val_loss: 0.1822 - val_accuracy: 0.9466\n",
      "Epoch 3/10\n",
      "60000/60000 [==============================] - 3s 53us/step - loss: 0.1558 - accuracy: 0.9535 - val_loss: 0.1554 - val_accuracy: 0.9502\n",
      "Epoch 4/10\n",
      "60000/60000 [==============================] - 3s 53us/step - loss: 0.1230 - accuracy: 0.9632 - val_loss: 0.1186 - val_accuracy: 0.9640\n",
      "Epoch 5/10\n",
      "60000/60000 [==============================] - 3s 54us/step - loss: 0.1025 - accuracy: 0.9692 - val_loss: 0.1213 - val_accuracy: 0.9643\n",
      "Epoch 6/10\n",
      "60000/60000 [==============================] - 3s 53us/step - loss: 0.0875 - accuracy: 0.9733 - val_loss: 0.1199 - val_accuracy: 0.9649\n",
      "Epoch 7/10\n",
      "60000/60000 [==============================] - 3s 53us/step - loss: 0.0764 - accuracy: 0.9765 - val_loss: 0.0947 - val_accuracy: 0.9732\n",
      "Epoch 8/10\n",
      "60000/60000 [==============================] - 3s 53us/step - loss: 0.0668 - accuracy: 0.9798 - val_loss: 0.0945 - val_accuracy: 0.9727\n",
      "Epoch 9/10\n",
      "60000/60000 [==============================] - 3s 53us/step - loss: 0.0600 - accuracy: 0.9820 - val_loss: 0.0913 - val_accuracy: 0.9746\n",
      "Epoch 10/10\n",
      "60000/60000 [==============================] - 3s 54us/step - loss: 0.0530 - accuracy: 0.9836 - val_loss: 0.0868 - val_accuracy: 0.9758\n",
      "10000/10000 [==============================] - 1s 52us/step\n"
     ]
    },
    {
     "name": "stderr",
     "output_type": "stream",
     "text": [
      "COMET INFO: Experiment is live on comet.ml https://www.comet.ml/returncode13/optimizer-search-02/e7aeb7bcd069462e85f7933a9e5792fc\n",
      "\n"
     ]
    },
    {
     "name": "stdout",
     "output_type": "stream",
     "text": [
      "Train on 60000 samples, validate on 10000 samples\n",
      "Epoch 1/10\n",
      "60000/60000 [==============================] - 3s 58us/step - loss: 0.5779 - accuracy: 0.8288 - val_loss: 0.3200 - val_accuracy: 0.9025\n",
      "Epoch 2/10\n",
      "60000/60000 [==============================] - 3s 55us/step - loss: 0.2203 - accuracy: 0.9336 - val_loss: 0.1756 - val_accuracy: 0.9451\n",
      "Epoch 3/10\n",
      "60000/60000 [==============================] - 3s 54us/step - loss: 0.1568 - accuracy: 0.9536 - val_loss: 0.1490 - val_accuracy: 0.9556\n",
      "Epoch 4/10\n",
      "60000/60000 [==============================] - 3s 54us/step - loss: 0.1241 - accuracy: 0.9628 - val_loss: 0.1275 - val_accuracy: 0.9602\n",
      "Epoch 5/10\n",
      "60000/60000 [==============================] - 3s 54us/step - loss: 0.1036 - accuracy: 0.9688 - val_loss: 0.1041 - val_accuracy: 0.9682\n",
      "Epoch 6/10\n",
      "60000/60000 [==============================] - 3s 53us/step - loss: 0.0881 - accuracy: 0.9732 - val_loss: 0.1098 - val_accuracy: 0.9647\n",
      "Epoch 7/10\n",
      "26110/60000 [============>.................] - ETA: 1s - loss: 0.0778 - accuracy: 0.9768"
     ]
    },
    {
     "name": "stderr",
     "output_type": "stream",
     "text": [
      "WARNING:urllib3.connectionpool:Retrying (Retry(total=2, connect=None, read=None, redirect=None, status=None)) after connection broken by 'ReadTimeoutError(\"HTTPSConnectionPool(host='www.comet.ml', port=443): Read timed out. (read timeout=10)\",)': /clientlib/status-report/update\n"
     ]
    },
    {
     "name": "stdout",
     "output_type": "stream",
     "text": []
    },
    {
     "name": "stdout",
     "output_type": "stream",
     "text": [
      "28630/60000 [=============>................] - ETA: 1s - loss: 0.0772 - accuracy: 0.9772"
     ]
    },
    {
     "name": "stderr",
     "output_type": "stream",
     "text": [
      "WARNING:urllib3.connectionpool:Retrying (Retry(total=2, connect=None, read=None, redirect=None, status=None)) after connection broken by 'ReadTimeoutError(\"HTTPSConnectionPool(host='www.comet.ml', port=443): Read timed out. (read timeout=10)\",)': /clientlib/status-report/update\n"
     ]
    },
    {
     "name": "stdout",
     "output_type": "stream",
     "text": []
    },
    {
     "name": "stdout",
     "output_type": "stream",
     "text": [
      "60000/60000 [==============================] - 3s 54us/step - loss: 0.0765 - accuracy: 0.9768 - val_loss: 0.1074 - val_accuracy: 0.9679\n",
      "Epoch 8/10\n",
      "60000/60000 [==============================] - 3s 54us/step - loss: 0.0673 - accuracy: 0.9794 - val_loss: 0.0887 - val_accuracy: 0.9730\n",
      "Epoch 9/10\n",
      "60000/60000 [==============================] - 3s 54us/step - loss: 0.0598 - accuracy: 0.9819 - val_loss: 0.1027 - val_accuracy: 0.9711\n",
      "Epoch 10/10\n",
      "60000/60000 [==============================] - 3s 54us/step - loss: 0.0533 - accuracy: 0.9839 - val_loss: 0.1056 - val_accuracy: 0.9677\n",
      "10000/10000 [==============================] - 1s 52us/step\n"
     ]
    },
    {
     "name": "stderr",
     "output_type": "stream",
     "text": [
      "COMET INFO: Experiment is live on comet.ml https://www.comet.ml/returncode13/optimizer-search-02/5e7bb97e96bb43558bee73328702a94b\n",
      "\n"
     ]
    },
    {
     "name": "stdout",
     "output_type": "stream",
     "text": [
      "Train on 60000 samples, validate on 10000 samples\n",
      "Epoch 1/17\n",
      "60000/60000 [==============================] - 3s 55us/step - loss: 0.5861 - accuracy: 0.8260 - val_loss: 0.2670 - val_accuracy: 0.9208\n",
      "Epoch 2/17\n",
      "60000/60000 [==============================] - 3s 51us/step - loss: 0.2209 - accuracy: 0.9338 - val_loss: 0.1909 - val_accuracy: 0.9437\n",
      "Epoch 3/17\n",
      "60000/60000 [==============================] - 3s 51us/step - loss: 0.1584 - accuracy: 0.9529 - val_loss: 0.1478 - val_accuracy: 0.9551\n",
      "Epoch 4/17\n",
      "60000/60000 [==============================] - 3s 52us/step - loss: 0.1243 - accuracy: 0.9623 - val_loss: 0.1387 - val_accuracy: 0.9569\n",
      "Epoch 5/17\n",
      "60000/60000 [==============================] - 3s 51us/step - loss: 0.1030 - accuracy: 0.9690 - val_loss: 0.1060 - val_accuracy: 0.9676\n",
      "Epoch 6/17\n",
      "60000/60000 [==============================] - 3s 51us/step - loss: 0.0867 - accuracy: 0.9736 - val_loss: 0.0994 - val_accuracy: 0.9708\n",
      "Epoch 7/17\n",
      "60000/60000 [==============================] - 3s 51us/step - loss: 0.0761 - accuracy: 0.9768 - val_loss: 0.1074 - val_accuracy: 0.9678\n",
      "Epoch 8/17\n",
      "60000/60000 [==============================] - 3s 51us/step - loss: 0.0680 - accuracy: 0.9789 - val_loss: 0.0947 - val_accuracy: 0.9722\n",
      "Epoch 9/17\n",
      "60000/60000 [==============================] - 3s 51us/step - loss: 0.0596 - accuracy: 0.9819 - val_loss: 0.0861 - val_accuracy: 0.9750\n",
      "Epoch 10/17\n",
      "60000/60000 [==============================] - 3s 50us/step - loss: 0.0530 - accuracy: 0.9840 - val_loss: 0.0916 - val_accuracy: 0.9744\n",
      "Epoch 11/17\n",
      "21075/60000 [=========>....................] - ETA: 1s - loss: 0.0464 - accuracy: 0.9863"
     ]
    },
    {
     "name": "stderr",
     "output_type": "stream",
     "text": [
      "WARNING:urllib3.connectionpool:Retrying (Retry(total=2, connect=None, read=None, redirect=None, status=None)) after connection broken by 'ReadTimeoutError(\"HTTPSConnectionPool(host='www.comet.ml', port=443): Read timed out. (read timeout=10)\",)': /clientlib/status-report/update\n"
     ]
    },
    {
     "name": "stdout",
     "output_type": "stream",
     "text": []
    },
    {
     "name": "stdout",
     "output_type": "stream",
     "text": [
      "59100/60000 [============================>.] - ETA: 0s - loss: 0.0476 - accuracy: 0.9857"
     ]
    },
    {
     "name": "stderr",
     "output_type": "stream",
     "text": [
      "WARNING:urllib3.connectionpool:Retrying (Retry(total=2, connect=None, read=None, redirect=None, status=None)) after connection broken by 'ReadTimeoutError(\"HTTPSConnectionPool(host='www.comet.ml', port=443): Read timed out. (read timeout=10)\",)': /clientlib/status-report/update\n"
     ]
    },
    {
     "name": "stdout",
     "output_type": "stream",
     "text": [
      "60000/60000 [==============================] - 3s 53us/step - loss: 0.0478 - accuracy: 0.9856 - val_loss: 0.0846 - val_accuracy: 0.9754\n",
      "Epoch 12/17\n",
      "22050/60000 [==========>...................] - ETA: 1s - loss: 0.0396 - accuracy: 0.9883"
     ]
    },
    {
     "name": "stderr",
     "output_type": "stream",
     "text": [
      "WARNING:urllib3.connectionpool:Retrying (Retry(total=2, connect=None, read=None, redirect=None, status=None)) after connection broken by 'ReadTimeoutError(\"HTTPSConnectionPool(host='www.comet.ml', port=443): Read timed out. (read timeout=10)\",)': /clientlib/status-report/update\n"
     ]
    },
    {
     "name": "stdout",
     "output_type": "stream",
     "text": [
      "37050/60000 [=================>............] - ETA: 1s - loss: 0.0410 - accuracy: 0.9878"
     ]
    },
    {
     "name": "stderr",
     "output_type": "stream",
     "text": [
      "WARNING:urllib3.connectionpool:Retrying (Retry(total=2, connect=None, read=None, redirect=None, status=None)) after connection broken by 'ReadTimeoutError(\"HTTPSConnectionPool(host='www.comet.ml', port=443): Read timed out. (read timeout=10)\",)': /clientlib/status-report/update\n"
     ]
    },
    {
     "name": "stdout",
     "output_type": "stream",
     "text": []
    },
    {
     "name": "stdout",
     "output_type": "stream",
     "text": [
      "41025/60000 [===================>..........] - ETA: 0s - loss: 0.0409 - accuracy: 0.9877"
     ]
    },
    {
     "name": "stderr",
     "output_type": "stream",
     "text": [
      "WARNING:urllib3.connectionpool:Retrying (Retry(total=2, connect=None, read=None, redirect=None, status=None)) after connection broken by 'ReadTimeoutError(\"HTTPSConnectionPool(host='www.comet.ml', port=443): Read timed out. (read timeout=10)\",)': /clientlib/status-report/update\n",
      "WARNING:urllib3.connectionpool:Retrying (Retry(total=2, connect=None, read=None, redirect=None, status=None)) after connection broken by 'ReadTimeoutError(\"HTTPSConnectionPool(host='www.comet.ml', port=443): Read timed out. (read timeout=10)\",)': /clientlib/status-report/update\n"
     ]
    },
    {
     "name": "stdout",
     "output_type": "stream",
     "text": [
      "60000/60000 [==============================] - 3s 50us/step - loss: 0.0427 - accuracy: 0.9872 - val_loss: 0.0964 - val_accuracy: 0.9734\n",
      "Epoch 13/17\n",
      "12225/60000 [=====>........................] - ETA: 2s - loss: 0.0351 - accuracy: 0.9906"
     ]
    },
    {
     "name": "stderr",
     "output_type": "stream",
     "text": [
      "WARNING:urllib3.connectionpool:Retrying (Retry(total=2, connect=None, read=None, redirect=None, status=None)) after connection broken by 'ReadTimeoutError(\"HTTPSConnectionPool(host='www.comet.ml', port=443): Read timed out. (read timeout=10)\",)': /clientlib/status-report/update\n"
     ]
    },
    {
     "name": "stdout",
     "output_type": "stream",
     "text": [
      "28425/60000 [=============>................] - ETA: 1s - loss: 0.0361 - accuracy: 0.9895"
     ]
    },
    {
     "name": "stderr",
     "output_type": "stream",
     "text": [
      "WARNING:urllib3.connectionpool:Retrying (Retry(total=2, connect=None, read=None, redirect=None, status=None)) after connection broken by 'ReadTimeoutError(\"HTTPSConnectionPool(host='www.comet.ml', port=443): Read timed out. (read timeout=10)\",)': /clientlib/status-report/update\n"
     ]
    },
    {
     "name": "stdout",
     "output_type": "stream",
     "text": [
      "32550/60000 [===============>..............] - ETA: 1s - loss: 0.0378 - accuracy: 0.9889"
     ]
    },
    {
     "name": "stderr",
     "output_type": "stream",
     "text": [
      "WARNING:urllib3.connectionpool:Retrying (Retry(total=2, connect=None, read=None, redirect=None, status=None)) after connection broken by 'ReadTimeoutError(\"HTTPSConnectionPool(host='www.comet.ml', port=443): Read timed out. (read timeout=10)\",)': /clientlib/status-report/update\n"
     ]
    },
    {
     "name": "stdout",
     "output_type": "stream",
     "text": []
    },
    {
     "name": "stdout",
     "output_type": "stream",
     "text": [
      "35250/60000 [================>.............] - ETA: 1s - loss: 0.0381 - accuracy: 0.9885"
     ]
    },
    {
     "name": "stderr",
     "output_type": "stream",
     "text": [
      "WARNING:urllib3.connectionpool:Retrying (Retry(total=2, connect=None, read=None, redirect=None, status=None)) after connection broken by 'ReadTimeoutError(\"HTTPSConnectionPool(host='www.comet.ml', port=443): Read timed out. (read timeout=10)\",)': /clientlib/status-report/update\n"
     ]
    },
    {
     "name": "stdout",
     "output_type": "stream",
     "text": []
    },
    {
     "name": "stdout",
     "output_type": "stream",
     "text": [
      "46275/60000 [======================>.......] - ETA: 0s - loss: 0.0380 - accuracy: 0.9884"
     ]
    },
    {
     "name": "stderr",
     "output_type": "stream",
     "text": [
      "WARNING:urllib3.connectionpool:Retrying (Retry(total=2, connect=None, read=None, redirect=None, status=None)) after connection broken by 'ReadTimeoutError(\"HTTPSConnectionPool(host='www.comet.ml', port=443): Read timed out. (read timeout=10)\",)': /clientlib/status-report/update\n"
     ]
    },
    {
     "name": "stdout",
     "output_type": "stream",
     "text": [
      "60000/60000 [==============================] - 3s 50us/step - loss: 0.0383 - accuracy: 0.9884 - val_loss: 0.0993 - val_accuracy: 0.9748\n",
      "Epoch 14/17\n",
      "59775/60000 [============================>.] - ETA: 0s - loss: 0.0346 - accuracy: 0.9895"
     ]
    },
    {
     "name": "stderr",
     "output_type": "stream",
     "text": [
      "WARNING:urllib3.connectionpool:Retrying (Retry(total=2, connect=None, read=None, redirect=None, status=None)) after connection broken by 'ReadTimeoutError(\"HTTPSConnectionPool(host='www.comet.ml', port=443): Read timed out. (read timeout=10)\",)': /clientlib/status-report/update\n"
     ]
    },
    {
     "name": "stdout",
     "output_type": "stream",
     "text": [
      "60000/60000 [==============================] - 3s 50us/step - loss: 0.0346 - accuracy: 0.9895 - val_loss: 0.0920 - val_accuracy: 0.9772\n",
      "Epoch 15/17\n",
      " 1275/60000 [..............................] - ETA: 2s - loss: 0.0338 - accuracy: 0.9953"
     ]
    },
    {
     "name": "stderr",
     "output_type": "stream",
     "text": [
      "WARNING:urllib3.connectionpool:Retrying (Retry(total=2, connect=None, read=None, redirect=None, status=None)) after connection broken by 'ReadTimeoutError(\"HTTPSConnectionPool(host='www.comet.ml', port=443): Read timed out. (read timeout=10)\",)': /clientlib/status-report/update\n"
     ]
    },
    {
     "name": "stdout",
     "output_type": "stream",
     "text": [
      "59775/60000 [============================>.] - ETA: 0s - loss: 0.0312 - accuracy: 0.9899"
     ]
    },
    {
     "name": "stderr",
     "output_type": "stream",
     "text": [
      "WARNING:urllib3.connectionpool:Retrying (Retry(total=1, connect=None, read=None, redirect=None, status=None)) after connection broken by 'ReadTimeoutError(\"HTTPSConnectionPool(host='www.comet.ml', port=443): Read timed out. (read timeout=10)\",)': /clientlib/status-report/update\n"
     ]
    },
    {
     "name": "stdout",
     "output_type": "stream",
     "text": [
      "60000/60000 [==============================] - 3s 50us/step - loss: 0.0311 - accuracy: 0.9899 - val_loss: 0.0922 - val_accuracy: 0.9764\n",
      "Epoch 16/17\n",
      "45525/60000 [=====================>........] - ETA: 0s - loss: 0.0283 - accuracy: 0.9918"
     ]
    },
    {
     "name": "stderr",
     "output_type": "stream",
     "text": [
      "WARNING:urllib3.connectionpool:Retrying (Retry(total=1, connect=None, read=None, redirect=None, status=None)) after connection broken by 'ReadTimeoutError(\"HTTPSConnectionPool(host='www.comet.ml', port=443): Read timed out. (read timeout=10)\",)': /clientlib/status-report/update\n"
     ]
    },
    {
     "name": "stdout",
     "output_type": "stream",
     "text": []
    },
    {
     "name": "stdout",
     "output_type": "stream",
     "text": [
      "60000/60000 [==============================] - 3s 50us/step - loss: 0.0278 - accuracy: 0.9916 - val_loss: 0.0897 - val_accuracy: 0.9783\n",
      "Epoch 17/17\n",
      " 2850/60000 [>.............................] - ETA: 2s - loss: 0.0256 - accuracy: 0.9933"
     ]
    },
    {
     "name": "stderr",
     "output_type": "stream",
     "text": [
      "WARNING:urllib3.connectionpool:Retrying (Retry(total=1, connect=None, read=None, redirect=None, status=None)) after connection broken by 'ReadTimeoutError(\"HTTPSConnectionPool(host='www.comet.ml', port=443): Read timed out. (read timeout=10)\",)': /clientlib/status-report/update\n"
     ]
    },
    {
     "name": "stdout",
     "output_type": "stream",
     "text": [
      "18075/60000 [========>.....................] - ETA: 1s - loss: 0.0284 - accuracy: 0.9917"
     ]
    },
    {
     "name": "stderr",
     "output_type": "stream",
     "text": [
      "WARNING:urllib3.connectionpool:Retrying (Retry(total=1, connect=None, read=None, redirect=None, status=None)) after connection broken by 'ReadTimeoutError(\"HTTPSConnectionPool(host='www.comet.ml', port=443): Read timed out. (read timeout=10)\",)': /clientlib/status-report/update\n"
     ]
    },
    {
     "name": "stdout",
     "output_type": "stream",
     "text": [
      "22350/60000 [==========>...................] - ETA: 1s - loss: 0.0279 - accuracy: 0.9918"
     ]
    },
    {
     "name": "stderr",
     "output_type": "stream",
     "text": [
      "WARNING:urllib3.connectionpool:Retrying (Retry(total=1, connect=None, read=None, redirect=None, status=None)) after connection broken by 'ReadTimeoutError(\"HTTPSConnectionPool(host='www.comet.ml', port=443): Read timed out. (read timeout=10)\",)': /clientlib/status-report/update\n"
     ]
    },
    {
     "name": "stdout",
     "output_type": "stream",
     "text": [
      "23700/60000 [==========>...................] - ETA: 1s - loss: 0.0271 - accuracy: 0.9919"
     ]
    },
    {
     "name": "stderr",
     "output_type": "stream",
     "text": [
      "WARNING:urllib3.connectionpool:Retrying (Retry(total=1, connect=None, read=None, redirect=None, status=None)) after connection broken by 'ReadTimeoutError(\"HTTPSConnectionPool(host='www.comet.ml', port=443): Read timed out. (read timeout=10)\",)': /clientlib/status-report/update\n"
     ]
    },
    {
     "name": "stdout",
     "output_type": "stream",
     "text": []
    },
    {
     "name": "stdout",
     "output_type": "stream",
     "text": [
      "59325/60000 [============================>.] - ETA: 0s - loss: 0.0250 - accuracy: 0.9925"
     ]
    },
    {
     "name": "stderr",
     "output_type": "stream",
     "text": [
      "WARNING:urllib3.connectionpool:Retrying (Retry(total=1, connect=None, read=None, redirect=None, status=None)) after connection broken by 'ReadTimeoutError(\"HTTPSConnectionPool(host='www.comet.ml', port=443): Read timed out. (read timeout=10)\",)': /clientlib/status-report/update\n"
     ]
    },
    {
     "name": "stdout",
     "output_type": "stream",
     "text": [
      "60000/60000 [==============================] - 3s 50us/step - loss: 0.0251 - accuracy: 0.9924 - val_loss: 0.1061 - val_accuracy: 0.9753\n",
      " 8224/10000 [=======================>......] - ETA: 0s"
     ]
    },
    {
     "name": "stderr",
     "output_type": "stream",
     "text": [
      "WARNING:urllib3.connectionpool:Retrying (Retry(total=1, connect=None, read=None, redirect=None, status=None)) after connection broken by 'ReadTimeoutError(\"HTTPSConnectionPool(host='www.comet.ml', port=443): Read timed out. (read timeout=10)\",)': /clientlib/status-report/update\n"
     ]
    },
    {
     "name": "stdout",
     "output_type": "stream",
     "text": []
    },
    {
     "name": "stdout",
     "output_type": "stream",
     "text": [
      "10000/10000 [==============================] - 1s 53us/step\n"
     ]
    },
    {
     "name": "stderr",
     "output_type": "stream",
     "text": [
      "WARNING:urllib3.connectionpool:Retrying (Retry(total=1, connect=None, read=None, redirect=None, status=None)) after connection broken by 'ReadTimeoutError(\"HTTPSConnectionPool(host='www.comet.ml', port=443): Read timed out. (read timeout=10)\",)': /clientlib/status-report/update\n",
      "WARNING:urllib3.connectionpool:Retrying (Retry(total=1, connect=None, read=None, redirect=None, status=None)) after connection broken by 'ReadTimeoutError(\"HTTPSConnectionPool(host='www.comet.ml', port=443): Read timed out. (read timeout=10)\",)': /clientlib/status-report/update\n",
      "WARNING:urllib3.connectionpool:Retrying (Retry(total=1, connect=None, read=None, redirect=None, status=None)) after connection broken by 'ReadTimeoutError(\"HTTPSConnectionPool(host='www.comet.ml', port=443): Read timed out. (read timeout=10)\",)': /clientlib/status-report/update\n",
      "WARNING:urllib3.connectionpool:Retrying (Retry(total=1, connect=None, read=None, redirect=None, status=None)) after connection broken by 'ReadTimeoutError(\"HTTPSConnectionPool(host='www.comet.ml', port=443): Read timed out. (read timeout=10)\",)': /clientlib/status-report/update\n",
      "WARNING:urllib3.connectionpool:Retrying (Retry(total=1, connect=None, read=None, redirect=None, status=None)) after connection broken by 'ReadTimeoutError(\"HTTPSConnectionPool(host='www.comet.ml', port=443): Read timed out. (read timeout=10)\",)': /clientlib/status-report/update\n",
      "COMET INFO: Experiment is live on comet.ml https://www.comet.ml/returncode13/optimizer-search-02/6b690e85d3c64ad6abd1f8fa67d78672\n",
      "\n",
      "WARNING:urllib3.connectionpool:Retrying (Retry(total=0, connect=None, read=None, redirect=None, status=None)) after connection broken by 'ReadTimeoutError(\"HTTPSConnectionPool(host='www.comet.ml', port=443): Read timed out. (read timeout=10)\",)': /clientlib/status-report/update\n"
     ]
    },
    {
     "name": "stdout",
     "output_type": "stream",
     "text": [
      "Train on 60000 samples, validate on 10000 samples\n",
      "Epoch 1/17\n",
      "60000/60000 [==============================] - 3s 56us/step - loss: 0.6050 - accuracy: 0.8187 - val_loss: 0.2577 - val_accuracy: 0.9217\n",
      "Epoch 2/17\n",
      "60000/60000 [==============================] - 3s 50us/step - loss: 0.2219 - accuracy: 0.9331 - val_loss: 0.1774 - val_accuracy: 0.9456\n",
      "Epoch 3/17\n",
      "60000/60000 [==============================] - 3s 50us/step - loss: 0.1596 - accuracy: 0.9518 - val_loss: 0.1362 - val_accuracy: 0.9594\n",
      "Epoch 4/17\n",
      "53625/60000 [=========================>....] - ETA: 0s - loss: 0.1269 - accuracy: 0.9622"
     ]
    },
    {
     "name": "stderr",
     "output_type": "stream",
     "text": [
      "WARNING:urllib3.connectionpool:Retrying (Retry(total=2, connect=None, read=None, redirect=None, status=None)) after connection broken by 'ReadTimeoutError(\"HTTPSConnectionPool(host='www.comet.ml', port=443): Read timed out. (read timeout=10)\",)': /clientlib/status-report/update\n"
     ]
    },
    {
     "name": "stdout",
     "output_type": "stream",
     "text": [
      "57675/60000 [===========================>..] - ETA: 0s - loss: 0.1263 - accuracy: 0.9622"
     ]
    },
    {
     "name": "stderr",
     "output_type": "stream",
     "text": [
      "WARNING:urllib3.connectionpool:Retrying (Retry(total=2, connect=None, read=None, redirect=None, status=None)) after connection broken by 'ReadTimeoutError(\"HTTPSConnectionPool(host='www.comet.ml', port=443): Read timed out. (read timeout=10)\",)': /clientlib/status-report/update\n"
     ]
    },
    {
     "name": "stdout",
     "output_type": "stream",
     "text": [
      "59025/60000 [============================>.] - ETA: 0s - loss: 0.1261 - accuracy: 0.9623"
     ]
    },
    {
     "name": "stderr",
     "output_type": "stream",
     "text": [
      "WARNING:urllib3.connectionpool:Retrying (Retry(total=2, connect=None, read=None, redirect=None, status=None)) after connection broken by 'ReadTimeoutError(\"HTTPSConnectionPool(host='www.comet.ml', port=443): Read timed out. (read timeout=10)\",)': /clientlib/status-report/update\n"
     ]
    },
    {
     "name": "stdout",
     "output_type": "stream",
     "text": [
      "60000/60000 [==============================] - 3s 51us/step - loss: 0.1261 - accuracy: 0.9623 - val_loss: 0.1201 - val_accuracy: 0.9643\n",
      "Epoch 5/17\n",
      " 4875/60000 [=>............................] - ETA: 2s - loss: 0.1044 - accuracy: 0.9680"
     ]
    },
    {
     "name": "stderr",
     "output_type": "stream",
     "text": [
      "WARNING:urllib3.connectionpool:Retrying (Retry(total=2, connect=None, read=None, redirect=None, status=None)) after connection broken by 'ReadTimeoutError(\"HTTPSConnectionPool(host='www.comet.ml', port=443): Read timed out. (read timeout=10)\",)': /clientlib/status-report/update\n"
     ]
    },
    {
     "name": "stdout",
     "output_type": "stream",
     "text": []
    },
    {
     "name": "stdout",
     "output_type": "stream",
     "text": [
      "10275/60000 [====>.........................] - ETA: 2s - loss: 0.1054 - accuracy: 0.9669"
     ]
    },
    {
     "name": "stderr",
     "output_type": "stream",
     "text": [
      "WARNING:urllib3.connectionpool:Retrying (Retry(total=2, connect=None, read=None, redirect=None, status=None)) after connection broken by 'ReadTimeoutError(\"HTTPSConnectionPool(host='www.comet.ml', port=443): Read timed out. (read timeout=10)\",)': /clientlib/status-report/update\n"
     ]
    },
    {
     "name": "stdout",
     "output_type": "stream",
     "text": [
      "11625/60000 [====>.........................] - ETA: 2s - loss: 0.1050 - accuracy: 0.9675"
     ]
    },
    {
     "name": "stderr",
     "output_type": "stream",
     "text": [
      "WARNING:urllib3.connectionpool:Retrying (Retry(total=2, connect=None, read=None, redirect=None, status=None)) after connection broken by 'ReadTimeoutError(\"HTTPSConnectionPool(host='www.comet.ml', port=443): Read timed out. (read timeout=10)\",)': /clientlib/status-report/update\n"
     ]
    },
    {
     "name": "stdout",
     "output_type": "stream",
     "text": []
    },
    {
     "name": "stdout",
     "output_type": "stream",
     "text": [
      "60000/60000 [==============================] - 3s 51us/step - loss: 0.1043 - accuracy: 0.9675 - val_loss: 0.1072 - val_accuracy: 0.9674\n",
      "Epoch 6/17\n",
      "60000/60000 [==============================] - 3s 50us/step - loss: 0.0886 - accuracy: 0.9735 - val_loss: 0.1045 - val_accuracy: 0.9683\n",
      "Epoch 7/17\n",
      "60000/60000 [==============================] - 3s 52us/step - loss: 0.0766 - accuracy: 0.9766 - val_loss: 0.1008 - val_accuracy: 0.9707\n",
      "Epoch 8/17\n",
      "60000/60000 [==============================] - 3s 50us/step - loss: 0.0683 - accuracy: 0.9794 - val_loss: 0.0817 - val_accuracy: 0.9739\n",
      "Epoch 9/17\n",
      "60000/60000 [==============================] - 3s 52us/step - loss: 0.0608 - accuracy: 0.9820 - val_loss: 0.0915 - val_accuracy: 0.9731\n",
      "Epoch 10/17\n",
      "   75/60000 [..............................] - ETA: 0s - loss: 0.0010 - accuracy: 1.0000"
     ]
    },
    {
     "name": "stderr",
     "output_type": "stream",
     "text": [
      "WARNING:urllib3.connectionpool:Retrying (Retry(total=2, connect=None, read=None, redirect=None, status=None)) after connection broken by 'ReadTimeoutError(\"HTTPSConnectionPool(host='www.comet.ml', port=443): Read timed out. (read timeout=10)\",)': /clientlib/status-report/update\n"
     ]
    },
    {
     "name": "stdout",
     "output_type": "stream",
     "text": [
      " 9300/60000 [===>..........................] - ETA: 2s - loss: 0.0506 - accuracy: 0.9841"
     ]
    },
    {
     "name": "stderr",
     "output_type": "stream",
     "text": [
      "WARNING:urllib3.connectionpool:Retrying (Retry(total=2, connect=None, read=None, redirect=None, status=None)) after connection broken by 'ReadTimeoutError(\"HTTPSConnectionPool(host='www.comet.ml', port=443): Read timed out. (read timeout=10)\",)': /clientlib/status-report/update\n"
     ]
    },
    {
     "name": "stdout",
     "output_type": "stream",
     "text": []
    },
    {
     "name": "stdout",
     "output_type": "stream",
     "text": [
      "13500/60000 [=====>........................] - ETA: 2s - loss: 0.0509 - accuracy: 0.9836"
     ]
    },
    {
     "name": "stderr",
     "output_type": "stream",
     "text": [
      "WARNING:urllib3.connectionpool:Retrying (Retry(total=2, connect=None, read=None, redirect=None, status=None)) after connection broken by 'ReadTimeoutError(\"HTTPSConnectionPool(host='www.comet.ml', port=443): Read timed out. (read timeout=10)\",)': /clientlib/status-report/update\n"
     ]
    },
    {
     "name": "stdout",
     "output_type": "stream",
     "text": []
    },
    {
     "name": "stdout",
     "output_type": "stream",
     "text": [
      "16050/60000 [=======>......................] - ETA: 2s - loss: 0.0507 - accuracy: 0.9839"
     ]
    },
    {
     "name": "stderr",
     "output_type": "stream",
     "text": [
      "WARNING:urllib3.connectionpool:Retrying (Retry(total=2, connect=None, read=None, redirect=None, status=None)) after connection broken by 'ReadTimeoutError(\"HTTPSConnectionPool(host='www.comet.ml', port=443): Read timed out. (read timeout=10)\",)': /clientlib/status-report/update\n"
     ]
    },
    {
     "name": "stdout",
     "output_type": "stream",
     "text": []
    },
    {
     "name": "stdout",
     "output_type": "stream",
     "text": [
      "36975/60000 [=================>............] - ETA: 1s - loss: 0.0533 - accuracy: 0.9834"
     ]
    },
    {
     "name": "stderr",
     "output_type": "stream",
     "text": [
      "WARNING:urllib3.connectionpool:Retrying (Retry(total=2, connect=None, read=None, redirect=None, status=None)) after connection broken by 'ReadTimeoutError(\"HTTPSConnectionPool(host='www.comet.ml', port=443): Read timed out. (read timeout=10)\",)': /clientlib/status-report/update\n"
     ]
    },
    {
     "name": "stdout",
     "output_type": "stream",
     "text": []
    },
    {
     "name": "stdout",
     "output_type": "stream",
     "text": [
      "60000/60000 [==============================] - 3s 50us/step - loss: 0.0548 - accuracy: 0.9833 - val_loss: 0.0919 - val_accuracy: 0.9741\n",
      "Epoch 11/17\n",
      "36450/60000 [=================>............] - ETA: 1s - loss: 0.0470 - accuracy: 0.9854"
     ]
    },
    {
     "name": "stderr",
     "output_type": "stream",
     "text": [
      "WARNING:urllib3.connectionpool:Retrying (Retry(total=2, connect=None, read=None, redirect=None, status=None)) after connection broken by 'ReadTimeoutError(\"HTTPSConnectionPool(host='www.comet.ml', port=443): Read timed out. (read timeout=10)\",)': /clientlib/status-report/update\n"
     ]
    },
    {
     "name": "stdout",
     "output_type": "stream",
     "text": []
    },
    {
     "name": "stdout",
     "output_type": "stream",
     "text": [
      "56025/60000 [===========================>..] - ETA: 0s - loss: 0.0484 - accuracy: 0.9852"
     ]
    },
    {
     "name": "stderr",
     "output_type": "stream",
     "text": [
      "WARNING:urllib3.connectionpool:Retrying (Retry(total=2, connect=None, read=None, redirect=None, status=None)) after connection broken by 'ReadTimeoutError(\"HTTPSConnectionPool(host='www.comet.ml', port=443): Read timed out. (read timeout=10)\",)': /clientlib/status-report/update\n"
     ]
    },
    {
     "name": "stdout",
     "output_type": "stream",
     "text": []
    },
    {
     "name": "stdout",
     "output_type": "stream",
     "text": [
      "60000/60000 [==============================] - 3s 55us/step - loss: 0.0485 - accuracy: 0.9852 - val_loss: 0.1123 - val_accuracy: 0.9689\n",
      "Epoch 12/17\n",
      "60000/60000 [==============================] - 3s 51us/step - loss: 0.0439 - accuracy: 0.9864 - val_loss: 0.0858 - val_accuracy: 0.9749\n",
      "Epoch 13/17\n",
      "17250/60000 [=======>......................] - ETA: 2s - loss: 0.0341 - accuracy: 0.9895"
     ]
    },
    {
     "name": "stderr",
     "output_type": "stream",
     "text": [
      "WARNING:urllib3.connectionpool:Retrying (Retry(total=2, connect=None, read=None, redirect=None, status=None)) after connection broken by 'ReadTimeoutError(\"HTTPSConnectionPool(host='www.comet.ml', port=443): Read timed out. (read timeout=10)\",)': /clientlib/status-report/update\n"
     ]
    },
    {
     "name": "stdout",
     "output_type": "stream",
     "text": []
    },
    {
     "name": "stdout",
     "output_type": "stream",
     "text": [
      "60000/60000 [==============================] - 3s 51us/step - loss: 0.0389 - accuracy: 0.9883 - val_loss: 0.0788 - val_accuracy: 0.9784\n",
      "Epoch 14/17\n",
      "38850/60000 [==================>...........] - ETA: 0s - loss: 0.0340 - accuracy: 0.9899"
     ]
    },
    {
     "name": "stderr",
     "output_type": "stream",
     "text": [
      "WARNING:urllib3.connectionpool:Retrying (Retry(total=1, connect=None, read=None, redirect=None, status=None)) after connection broken by 'ReadTimeoutError(\"HTTPSConnectionPool(host='www.comet.ml', port=443): Read timed out. (read timeout=10)\",)': /clientlib/status-report/update\n"
     ]
    },
    {
     "name": "stdout",
     "output_type": "stream",
     "text": []
    },
    {
     "name": "stdout",
     "output_type": "stream",
     "text": [
      "51150/60000 [========================>.....] - ETA: 0s - loss: 0.0351 - accuracy: 0.9895"
     ]
    },
    {
     "name": "stderr",
     "output_type": "stream",
     "text": [
      "WARNING:urllib3.connectionpool:Retrying (Retry(total=1, connect=None, read=None, redirect=None, status=None)) after connection broken by 'ReadTimeoutError(\"HTTPSConnectionPool(host='www.comet.ml', port=443): Read timed out. (read timeout=10)\",)': /clientlib/status-report/update\n"
     ]
    },
    {
     "name": "stdout",
     "output_type": "stream",
     "text": []
    },
    {
     "name": "stdout",
     "output_type": "stream",
     "text": [
      "59250/60000 [============================>.] - ETA: 0s - loss: 0.0359 - accuracy: 0.9894"
     ]
    },
    {
     "name": "stderr",
     "output_type": "stream",
     "text": [
      "WARNING:urllib3.connectionpool:Retrying (Retry(total=2, connect=None, read=None, redirect=None, status=None)) after connection broken by 'ReadTimeoutError(\"HTTPSConnectionPool(host='www.comet.ml', port=443): Read timed out. (read timeout=10)\",)': /clientlib/status-report/update\n"
     ]
    },
    {
     "name": "stdout",
     "output_type": "stream",
     "text": [
      "60000/60000 [==============================] - 3s 51us/step - loss: 0.0358 - accuracy: 0.9894 - val_loss: 0.0851 - val_accuracy: 0.9787\n",
      "Epoch 15/17\n",
      "60000/60000 [==============================] - 3s 50us/step - loss: 0.0318 - accuracy: 0.9901 - val_loss: 0.0777 - val_accuracy: 0.9796\n",
      "Epoch 16/17\n",
      "60000/60000 [==============================] - 3s 50us/step - loss: 0.0287 - accuracy: 0.9909 - val_loss: 0.0791 - val_accuracy: 0.9786\n",
      "Epoch 17/17\n",
      "60000/60000 [==============================] - 3s 51us/step - loss: 0.0251 - accuracy: 0.9924 - val_loss: 0.1039 - val_accuracy: 0.9719\n",
      "10000/10000 [==============================] - 1s 53us/step\n"
     ]
    },
    {
     "name": "stderr",
     "output_type": "stream",
     "text": [
      "WARNING:urllib3.connectionpool:Retrying (Retry(total=2, connect=None, read=None, redirect=None, status=None)) after connection broken by 'ReadTimeoutError(\"HTTPSConnectionPool(host='www.comet.ml', port=443): Read timed out. (read timeout=10)\",)': /clientlib/status-report/update\n",
      "WARNING:urllib3.connectionpool:Retrying (Retry(total=2, connect=None, read=None, redirect=None, status=None)) after connection broken by 'ReadTimeoutError(\"HTTPSConnectionPool(host='www.comet.ml', port=443): Read timed out. (read timeout=10)\",)': /clientlib/status-report/update\n",
      "WARNING:urllib3.connectionpool:Retrying (Retry(total=2, connect=None, read=None, redirect=None, status=None)) after connection broken by 'ReadTimeoutError(\"HTTPSConnectionPool(host='www.comet.ml', port=443): Read timed out. (read timeout=10)\",)': /clientlib/status-report/update\n"
     ]
    },
    {
     "ename": "ReadTimeout",
     "evalue": "HTTPSConnectionPool(host='optimizer.comet.ml', port=443): Read timed out. (read timeout=10)",
     "output_type": "error",
     "traceback": [
      "\u001b[1;31m---------------------------------------------------------------------------\u001b[0m",
      "\u001b[1;31mtimeout\u001b[0m                                   Traceback (most recent call last)",
      "\u001b[1;32mC:\\Anaconda\\envs\\py36gpu\\lib\\site-packages\\urllib3\\connectionpool.py\u001b[0m in \u001b[0;36m_make_request\u001b[1;34m(self, conn, method, url, timeout, chunked, **httplib_request_kw)\u001b[0m\n\u001b[0;32m    420\u001b[0m                     \u001b[1;31m# Otherwise it looks like a bug in the code.\u001b[0m\u001b[1;33m\u001b[0m\u001b[1;33m\u001b[0m\u001b[1;33m\u001b[0m\u001b[0m\n\u001b[1;32m--> 421\u001b[1;33m                     \u001b[0msix\u001b[0m\u001b[1;33m.\u001b[0m\u001b[0mraise_from\u001b[0m\u001b[1;33m(\u001b[0m\u001b[0me\u001b[0m\u001b[1;33m,\u001b[0m \u001b[1;32mNone\u001b[0m\u001b[1;33m)\u001b[0m\u001b[1;33m\u001b[0m\u001b[1;33m\u001b[0m\u001b[0m\n\u001b[0m\u001b[0;32m    422\u001b[0m         \u001b[1;32mexcept\u001b[0m \u001b[1;33m(\u001b[0m\u001b[0mSocketTimeout\u001b[0m\u001b[1;33m,\u001b[0m \u001b[0mBaseSSLError\u001b[0m\u001b[1;33m,\u001b[0m \u001b[0mSocketError\u001b[0m\u001b[1;33m)\u001b[0m \u001b[1;32mas\u001b[0m \u001b[0me\u001b[0m\u001b[1;33m:\u001b[0m\u001b[1;33m\u001b[0m\u001b[1;33m\u001b[0m\u001b[0m\n",
      "\u001b[1;32mC:\\Anaconda\\envs\\py36gpu\\lib\\site-packages\\urllib3\\packages\\six.py\u001b[0m in \u001b[0;36mraise_from\u001b[1;34m(value, from_value)\u001b[0m\n",
      "\u001b[1;32mC:\\Anaconda\\envs\\py36gpu\\lib\\site-packages\\urllib3\\connectionpool.py\u001b[0m in \u001b[0;36m_make_request\u001b[1;34m(self, conn, method, url, timeout, chunked, **httplib_request_kw)\u001b[0m\n\u001b[0;32m    415\u001b[0m                 \u001b[1;32mtry\u001b[0m\u001b[1;33m:\u001b[0m\u001b[1;33m\u001b[0m\u001b[1;33m\u001b[0m\u001b[0m\n\u001b[1;32m--> 416\u001b[1;33m                     \u001b[0mhttplib_response\u001b[0m \u001b[1;33m=\u001b[0m \u001b[0mconn\u001b[0m\u001b[1;33m.\u001b[0m\u001b[0mgetresponse\u001b[0m\u001b[1;33m(\u001b[0m\u001b[1;33m)\u001b[0m\u001b[1;33m\u001b[0m\u001b[1;33m\u001b[0m\u001b[0m\n\u001b[0m\u001b[0;32m    417\u001b[0m                 \u001b[1;32mexcept\u001b[0m \u001b[0mBaseException\u001b[0m \u001b[1;32mas\u001b[0m \u001b[0me\u001b[0m\u001b[1;33m:\u001b[0m\u001b[1;33m\u001b[0m\u001b[1;33m\u001b[0m\u001b[0m\n",
      "\u001b[1;32mC:\\Anaconda\\envs\\py36gpu\\lib\\http\\client.py\u001b[0m in \u001b[0;36mgetresponse\u001b[1;34m(self)\u001b[0m\n\u001b[0;32m   1330\u001b[0m             \u001b[1;32mtry\u001b[0m\u001b[1;33m:\u001b[0m\u001b[1;33m\u001b[0m\u001b[1;33m\u001b[0m\u001b[0m\n\u001b[1;32m-> 1331\u001b[1;33m                 \u001b[0mresponse\u001b[0m\u001b[1;33m.\u001b[0m\u001b[0mbegin\u001b[0m\u001b[1;33m(\u001b[0m\u001b[1;33m)\u001b[0m\u001b[1;33m\u001b[0m\u001b[1;33m\u001b[0m\u001b[0m\n\u001b[0m\u001b[0;32m   1332\u001b[0m             \u001b[1;32mexcept\u001b[0m \u001b[0mConnectionError\u001b[0m\u001b[1;33m:\u001b[0m\u001b[1;33m\u001b[0m\u001b[1;33m\u001b[0m\u001b[0m\n",
      "\u001b[1;32mC:\\Anaconda\\envs\\py36gpu\\lib\\http\\client.py\u001b[0m in \u001b[0;36mbegin\u001b[1;34m(self)\u001b[0m\n\u001b[0;32m    296\u001b[0m         \u001b[1;32mwhile\u001b[0m \u001b[1;32mTrue\u001b[0m\u001b[1;33m:\u001b[0m\u001b[1;33m\u001b[0m\u001b[1;33m\u001b[0m\u001b[0m\n\u001b[1;32m--> 297\u001b[1;33m             \u001b[0mversion\u001b[0m\u001b[1;33m,\u001b[0m \u001b[0mstatus\u001b[0m\u001b[1;33m,\u001b[0m \u001b[0mreason\u001b[0m \u001b[1;33m=\u001b[0m \u001b[0mself\u001b[0m\u001b[1;33m.\u001b[0m\u001b[0m_read_status\u001b[0m\u001b[1;33m(\u001b[0m\u001b[1;33m)\u001b[0m\u001b[1;33m\u001b[0m\u001b[1;33m\u001b[0m\u001b[0m\n\u001b[0m\u001b[0;32m    298\u001b[0m             \u001b[1;32mif\u001b[0m \u001b[0mstatus\u001b[0m \u001b[1;33m!=\u001b[0m \u001b[0mCONTINUE\u001b[0m\u001b[1;33m:\u001b[0m\u001b[1;33m\u001b[0m\u001b[1;33m\u001b[0m\u001b[0m\n",
      "\u001b[1;32mC:\\Anaconda\\envs\\py36gpu\\lib\\http\\client.py\u001b[0m in \u001b[0;36m_read_status\u001b[1;34m(self)\u001b[0m\n\u001b[0;32m    257\u001b[0m     \u001b[1;32mdef\u001b[0m \u001b[0m_read_status\u001b[0m\u001b[1;33m(\u001b[0m\u001b[0mself\u001b[0m\u001b[1;33m)\u001b[0m\u001b[1;33m:\u001b[0m\u001b[1;33m\u001b[0m\u001b[1;33m\u001b[0m\u001b[0m\n\u001b[1;32m--> 258\u001b[1;33m         \u001b[0mline\u001b[0m \u001b[1;33m=\u001b[0m \u001b[0mstr\u001b[0m\u001b[1;33m(\u001b[0m\u001b[0mself\u001b[0m\u001b[1;33m.\u001b[0m\u001b[0mfp\u001b[0m\u001b[1;33m.\u001b[0m\u001b[0mreadline\u001b[0m\u001b[1;33m(\u001b[0m\u001b[0m_MAXLINE\u001b[0m \u001b[1;33m+\u001b[0m \u001b[1;36m1\u001b[0m\u001b[1;33m)\u001b[0m\u001b[1;33m,\u001b[0m \u001b[1;34m\"iso-8859-1\"\u001b[0m\u001b[1;33m)\u001b[0m\u001b[1;33m\u001b[0m\u001b[1;33m\u001b[0m\u001b[0m\n\u001b[0m\u001b[0;32m    259\u001b[0m         \u001b[1;32mif\u001b[0m \u001b[0mlen\u001b[0m\u001b[1;33m(\u001b[0m\u001b[0mline\u001b[0m\u001b[1;33m)\u001b[0m \u001b[1;33m>\u001b[0m \u001b[0m_MAXLINE\u001b[0m\u001b[1;33m:\u001b[0m\u001b[1;33m\u001b[0m\u001b[1;33m\u001b[0m\u001b[0m\n",
      "\u001b[1;32mC:\\Anaconda\\envs\\py36gpu\\lib\\socket.py\u001b[0m in \u001b[0;36mreadinto\u001b[1;34m(self, b)\u001b[0m\n\u001b[0;32m    585\u001b[0m             \u001b[1;32mtry\u001b[0m\u001b[1;33m:\u001b[0m\u001b[1;33m\u001b[0m\u001b[1;33m\u001b[0m\u001b[0m\n\u001b[1;32m--> 586\u001b[1;33m                 \u001b[1;32mreturn\u001b[0m \u001b[0mself\u001b[0m\u001b[1;33m.\u001b[0m\u001b[0m_sock\u001b[0m\u001b[1;33m.\u001b[0m\u001b[0mrecv_into\u001b[0m\u001b[1;33m(\u001b[0m\u001b[0mb\u001b[0m\u001b[1;33m)\u001b[0m\u001b[1;33m\u001b[0m\u001b[1;33m\u001b[0m\u001b[0m\n\u001b[0m\u001b[0;32m    587\u001b[0m             \u001b[1;32mexcept\u001b[0m \u001b[0mtimeout\u001b[0m\u001b[1;33m:\u001b[0m\u001b[1;33m\u001b[0m\u001b[1;33m\u001b[0m\u001b[0m\n",
      "\u001b[1;32mC:\\Anaconda\\envs\\py36gpu\\lib\\site-packages\\urllib3\\contrib\\pyopenssl.py\u001b[0m in \u001b[0;36mrecv_into\u001b[1;34m(self, *args, **kwargs)\u001b[0m\n\u001b[0;32m    325\u001b[0m             \u001b[1;32mif\u001b[0m \u001b[1;32mnot\u001b[0m \u001b[0mutil\u001b[0m\u001b[1;33m.\u001b[0m\u001b[0mwait_for_read\u001b[0m\u001b[1;33m(\u001b[0m\u001b[0mself\u001b[0m\u001b[1;33m.\u001b[0m\u001b[0msocket\u001b[0m\u001b[1;33m,\u001b[0m \u001b[0mself\u001b[0m\u001b[1;33m.\u001b[0m\u001b[0msocket\u001b[0m\u001b[1;33m.\u001b[0m\u001b[0mgettimeout\u001b[0m\u001b[1;33m(\u001b[0m\u001b[1;33m)\u001b[0m\u001b[1;33m)\u001b[0m\u001b[1;33m:\u001b[0m\u001b[1;33m\u001b[0m\u001b[1;33m\u001b[0m\u001b[0m\n\u001b[1;32m--> 326\u001b[1;33m                 \u001b[1;32mraise\u001b[0m \u001b[0mtimeout\u001b[0m\u001b[1;33m(\u001b[0m\u001b[1;34m\"The read operation timed out\"\u001b[0m\u001b[1;33m)\u001b[0m\u001b[1;33m\u001b[0m\u001b[1;33m\u001b[0m\u001b[0m\n\u001b[0m\u001b[0;32m    327\u001b[0m             \u001b[1;32melse\u001b[0m\u001b[1;33m:\u001b[0m\u001b[1;33m\u001b[0m\u001b[1;33m\u001b[0m\u001b[0m\n",
      "\u001b[1;31mtimeout\u001b[0m: The read operation timed out",
      "\nDuring handling of the above exception, another exception occurred:\n",
      "\u001b[1;31mReadTimeoutError\u001b[0m                          Traceback (most recent call last)",
      "\u001b[1;32mC:\\Anaconda\\envs\\py36gpu\\lib\\site-packages\\requests\\adapters.py\u001b[0m in \u001b[0;36msend\u001b[1;34m(self, request, stream, timeout, verify, cert, proxies)\u001b[0m\n\u001b[0;32m    448\u001b[0m                     \u001b[0mretries\u001b[0m\u001b[1;33m=\u001b[0m\u001b[0mself\u001b[0m\u001b[1;33m.\u001b[0m\u001b[0mmax_retries\u001b[0m\u001b[1;33m,\u001b[0m\u001b[1;33m\u001b[0m\u001b[1;33m\u001b[0m\u001b[0m\n\u001b[1;32m--> 449\u001b[1;33m                     \u001b[0mtimeout\u001b[0m\u001b[1;33m=\u001b[0m\u001b[0mtimeout\u001b[0m\u001b[1;33m\u001b[0m\u001b[1;33m\u001b[0m\u001b[0m\n\u001b[0m\u001b[0;32m    450\u001b[0m                 )\n",
      "\u001b[1;32mC:\\Anaconda\\envs\\py36gpu\\lib\\site-packages\\urllib3\\connectionpool.py\u001b[0m in \u001b[0;36murlopen\u001b[1;34m(self, method, url, body, headers, retries, redirect, assert_same_host, timeout, pool_timeout, release_conn, chunked, body_pos, **response_kw)\u001b[0m\n\u001b[0;32m    719\u001b[0m             retries = retries.increment(\n\u001b[1;32m--> 720\u001b[1;33m                 \u001b[0mmethod\u001b[0m\u001b[1;33m,\u001b[0m \u001b[0murl\u001b[0m\u001b[1;33m,\u001b[0m \u001b[0merror\u001b[0m\u001b[1;33m=\u001b[0m\u001b[0me\u001b[0m\u001b[1;33m,\u001b[0m \u001b[0m_pool\u001b[0m\u001b[1;33m=\u001b[0m\u001b[0mself\u001b[0m\u001b[1;33m,\u001b[0m \u001b[0m_stacktrace\u001b[0m\u001b[1;33m=\u001b[0m\u001b[0msys\u001b[0m\u001b[1;33m.\u001b[0m\u001b[0mexc_info\u001b[0m\u001b[1;33m(\u001b[0m\u001b[1;33m)\u001b[0m\u001b[1;33m[\u001b[0m\u001b[1;36m2\u001b[0m\u001b[1;33m]\u001b[0m\u001b[1;33m\u001b[0m\u001b[1;33m\u001b[0m\u001b[0m\n\u001b[0m\u001b[0;32m    721\u001b[0m             )\n",
      "\u001b[1;32mC:\\Anaconda\\envs\\py36gpu\\lib\\site-packages\\urllib3\\util\\retry.py\u001b[0m in \u001b[0;36mincrement\u001b[1;34m(self, method, url, response, error, _pool, _stacktrace)\u001b[0m\n\u001b[0;32m    399\u001b[0m             \u001b[1;32mif\u001b[0m \u001b[0mread\u001b[0m \u001b[1;32mis\u001b[0m \u001b[1;32mFalse\u001b[0m \u001b[1;32mor\u001b[0m \u001b[1;32mnot\u001b[0m \u001b[0mself\u001b[0m\u001b[1;33m.\u001b[0m\u001b[0m_is_method_retryable\u001b[0m\u001b[1;33m(\u001b[0m\u001b[0mmethod\u001b[0m\u001b[1;33m)\u001b[0m\u001b[1;33m:\u001b[0m\u001b[1;33m\u001b[0m\u001b[1;33m\u001b[0m\u001b[0m\n\u001b[1;32m--> 400\u001b[1;33m                 \u001b[1;32mraise\u001b[0m \u001b[0msix\u001b[0m\u001b[1;33m.\u001b[0m\u001b[0mreraise\u001b[0m\u001b[1;33m(\u001b[0m\u001b[0mtype\u001b[0m\u001b[1;33m(\u001b[0m\u001b[0merror\u001b[0m\u001b[1;33m)\u001b[0m\u001b[1;33m,\u001b[0m \u001b[0merror\u001b[0m\u001b[1;33m,\u001b[0m \u001b[0m_stacktrace\u001b[0m\u001b[1;33m)\u001b[0m\u001b[1;33m\u001b[0m\u001b[1;33m\u001b[0m\u001b[0m\n\u001b[0m\u001b[0;32m    401\u001b[0m             \u001b[1;32melif\u001b[0m \u001b[0mread\u001b[0m \u001b[1;32mis\u001b[0m \u001b[1;32mnot\u001b[0m \u001b[1;32mNone\u001b[0m\u001b[1;33m:\u001b[0m\u001b[1;33m\u001b[0m\u001b[1;33m\u001b[0m\u001b[0m\n",
      "\u001b[1;32mC:\\Anaconda\\envs\\py36gpu\\lib\\site-packages\\urllib3\\packages\\six.py\u001b[0m in \u001b[0;36mreraise\u001b[1;34m(tp, value, tb)\u001b[0m\n\u001b[0;32m    734\u001b[0m                 \u001b[1;32mraise\u001b[0m \u001b[0mvalue\u001b[0m\u001b[1;33m.\u001b[0m\u001b[0mwith_traceback\u001b[0m\u001b[1;33m(\u001b[0m\u001b[0mtb\u001b[0m\u001b[1;33m)\u001b[0m\u001b[1;33m\u001b[0m\u001b[1;33m\u001b[0m\u001b[0m\n\u001b[1;32m--> 735\u001b[1;33m             \u001b[1;32mraise\u001b[0m \u001b[0mvalue\u001b[0m\u001b[1;33m\u001b[0m\u001b[1;33m\u001b[0m\u001b[0m\n\u001b[0m\u001b[0;32m    736\u001b[0m         \u001b[1;32mfinally\u001b[0m\u001b[1;33m:\u001b[0m\u001b[1;33m\u001b[0m\u001b[1;33m\u001b[0m\u001b[0m\n",
      "\u001b[1;32mC:\\Anaconda\\envs\\py36gpu\\lib\\site-packages\\urllib3\\connectionpool.py\u001b[0m in \u001b[0;36murlopen\u001b[1;34m(self, method, url, body, headers, retries, redirect, assert_same_host, timeout, pool_timeout, release_conn, chunked, body_pos, **response_kw)\u001b[0m\n\u001b[0;32m    671\u001b[0m                 \u001b[0mheaders\u001b[0m\u001b[1;33m=\u001b[0m\u001b[0mheaders\u001b[0m\u001b[1;33m,\u001b[0m\u001b[1;33m\u001b[0m\u001b[1;33m\u001b[0m\u001b[0m\n\u001b[1;32m--> 672\u001b[1;33m                 \u001b[0mchunked\u001b[0m\u001b[1;33m=\u001b[0m\u001b[0mchunked\u001b[0m\u001b[1;33m,\u001b[0m\u001b[1;33m\u001b[0m\u001b[1;33m\u001b[0m\u001b[0m\n\u001b[0m\u001b[0;32m    673\u001b[0m             )\n",
      "\u001b[1;32mC:\\Anaconda\\envs\\py36gpu\\lib\\site-packages\\urllib3\\connectionpool.py\u001b[0m in \u001b[0;36m_make_request\u001b[1;34m(self, conn, method, url, timeout, chunked, **httplib_request_kw)\u001b[0m\n\u001b[0;32m    422\u001b[0m         \u001b[1;32mexcept\u001b[0m \u001b[1;33m(\u001b[0m\u001b[0mSocketTimeout\u001b[0m\u001b[1;33m,\u001b[0m \u001b[0mBaseSSLError\u001b[0m\u001b[1;33m,\u001b[0m \u001b[0mSocketError\u001b[0m\u001b[1;33m)\u001b[0m \u001b[1;32mas\u001b[0m \u001b[0me\u001b[0m\u001b[1;33m:\u001b[0m\u001b[1;33m\u001b[0m\u001b[1;33m\u001b[0m\u001b[0m\n\u001b[1;32m--> 423\u001b[1;33m             \u001b[0mself\u001b[0m\u001b[1;33m.\u001b[0m\u001b[0m_raise_timeout\u001b[0m\u001b[1;33m(\u001b[0m\u001b[0merr\u001b[0m\u001b[1;33m=\u001b[0m\u001b[0me\u001b[0m\u001b[1;33m,\u001b[0m \u001b[0murl\u001b[0m\u001b[1;33m=\u001b[0m\u001b[0murl\u001b[0m\u001b[1;33m,\u001b[0m \u001b[0mtimeout_value\u001b[0m\u001b[1;33m=\u001b[0m\u001b[0mread_timeout\u001b[0m\u001b[1;33m)\u001b[0m\u001b[1;33m\u001b[0m\u001b[1;33m\u001b[0m\u001b[0m\n\u001b[0m\u001b[0;32m    424\u001b[0m             \u001b[1;32mraise\u001b[0m\u001b[1;33m\u001b[0m\u001b[1;33m\u001b[0m\u001b[0m\n",
      "\u001b[1;32mC:\\Anaconda\\envs\\py36gpu\\lib\\site-packages\\urllib3\\connectionpool.py\u001b[0m in \u001b[0;36m_raise_timeout\u001b[1;34m(self, err, url, timeout_value)\u001b[0m\n\u001b[0;32m    330\u001b[0m             raise ReadTimeoutError(\n\u001b[1;32m--> 331\u001b[1;33m                 \u001b[0mself\u001b[0m\u001b[1;33m,\u001b[0m \u001b[0murl\u001b[0m\u001b[1;33m,\u001b[0m \u001b[1;34m\"Read timed out. (read timeout=%s)\"\u001b[0m \u001b[1;33m%\u001b[0m \u001b[0mtimeout_value\u001b[0m\u001b[1;33m\u001b[0m\u001b[1;33m\u001b[0m\u001b[0m\n\u001b[0m\u001b[0;32m    332\u001b[0m             )\n",
      "\u001b[1;31mReadTimeoutError\u001b[0m: HTTPSConnectionPool(host='optimizer.comet.ml', port=443): Read timed out. (read timeout=10)",
      "\nDuring handling of the above exception, another exception occurred:\n",
      "\u001b[1;31mReadTimeout\u001b[0m                               Traceback (most recent call last)",
      "\u001b[1;32m<ipython-input-12-40c8105237e7>\u001b[0m in \u001b[0;36m<module>\u001b[1;34m\u001b[0m\n\u001b[1;32m----> 1\u001b[1;33m \u001b[1;32mfor\u001b[0m \u001b[0mexperiment\u001b[0m \u001b[1;32min\u001b[0m \u001b[0mopt\u001b[0m\u001b[1;33m.\u001b[0m\u001b[0mget_experiments\u001b[0m\u001b[1;33m(\u001b[0m\u001b[1;33m)\u001b[0m\u001b[1;33m:\u001b[0m\u001b[1;33m\u001b[0m\u001b[1;33m\u001b[0m\u001b[0m\n\u001b[0m\u001b[0;32m      2\u001b[0m     \u001b[0mzzxx\u001b[0m\u001b[1;33m=\u001b[0m\u001b[0mtrain\u001b[0m\u001b[1;33m(\u001b[0m\u001b[0mx_train\u001b[0m\u001b[1;33m,\u001b[0m\u001b[0my_train\u001b[0m\u001b[1;33m,\u001b[0m\u001b[0mx_test\u001b[0m\u001b[1;33m,\u001b[0m\u001b[0my_test\u001b[0m\u001b[1;33m,\u001b[0m\u001b[0mbatch\u001b[0m\u001b[1;33m=\u001b[0m\u001b[0mexperiment\u001b[0m\u001b[1;33m.\u001b[0m\u001b[0mget_parameter\u001b[0m\u001b[1;33m(\u001b[0m\u001b[1;34m\"batch\"\u001b[0m\u001b[1;33m)\u001b[0m\u001b[1;33m,\u001b[0m\u001b[0mepoch\u001b[0m\u001b[1;33m=\u001b[0m\u001b[0mexperiment\u001b[0m\u001b[1;33m.\u001b[0m\u001b[0mget_parameter\u001b[0m\u001b[1;33m(\u001b[0m\u001b[1;34m\"epoch\"\u001b[0m\u001b[1;33m)\u001b[0m\u001b[1;33m)\u001b[0m\u001b[1;33m\u001b[0m\u001b[1;33m\u001b[0m\u001b[0m\n\u001b[0;32m      3\u001b[0m     \u001b[0mexperiment\u001b[0m\u001b[1;33m.\u001b[0m\u001b[0mlog_metric\u001b[0m\u001b[1;33m(\u001b[0m\u001b[1;34m\"zzxx\"\u001b[0m\u001b[1;33m,\u001b[0m\u001b[0mzzxx\u001b[0m\u001b[1;33m)\u001b[0m\u001b[1;33m\u001b[0m\u001b[1;33m\u001b[0m\u001b[0m\n\u001b[0;32m      4\u001b[0m \u001b[1;33m\u001b[0m\u001b[0m\n",
      "\u001b[1;32mC:\\Anaconda\\envs\\py36gpu\\lib\\site-packages\\comet_ml\\optimizer.py\u001b[0m in \u001b[0;36mget_experiments\u001b[1;34m(self, **kwargs)\u001b[0m\n\u001b[0;32m    193\u001b[0m         \"\"\"\n\u001b[0;32m    194\u001b[0m         \u001b[1;32mwhile\u001b[0m \u001b[1;32mTrue\u001b[0m\u001b[1;33m:\u001b[0m\u001b[1;33m\u001b[0m\u001b[1;33m\u001b[0m\u001b[0m\n\u001b[1;32m--> 195\u001b[1;33m             \u001b[0mexperiment\u001b[0m \u001b[1;33m=\u001b[0m \u001b[0mself\u001b[0m\u001b[1;33m.\u001b[0m\u001b[0mnext\u001b[0m\u001b[1;33m(\u001b[0m\u001b[1;33m**\u001b[0m\u001b[0mkwargs\u001b[0m\u001b[1;33m)\u001b[0m\u001b[1;33m\u001b[0m\u001b[1;33m\u001b[0m\u001b[0m\n\u001b[0m\u001b[0;32m    196\u001b[0m             \u001b[1;32mif\u001b[0m \u001b[0mexperiment\u001b[0m \u001b[1;32mis\u001b[0m \u001b[1;32mnot\u001b[0m \u001b[1;32mNone\u001b[0m\u001b[1;33m:\u001b[0m\u001b[1;33m\u001b[0m\u001b[1;33m\u001b[0m\u001b[0m\n\u001b[0;32m    197\u001b[0m                 \u001b[1;32myield\u001b[0m \u001b[0mexperiment\u001b[0m\u001b[1;33m\u001b[0m\u001b[1;33m\u001b[0m\u001b[0m\n",
      "\u001b[1;32mC:\\Anaconda\\envs\\py36gpu\\lib\\site-packages\\comet_ml\\optimizer.py\u001b[0m in \u001b[0;36mnext\u001b[1;34m(self, **kwargs)\u001b[0m\n\u001b[0;32m    222\u001b[0m             \u001b[0;31m`\u001b[0m\u001b[0;31m`\u001b[0m\u001b[0;31m`\u001b[0m\u001b[1;33m\u001b[0m\u001b[1;33m\u001b[0m\u001b[0m\n\u001b[0;32m    223\u001b[0m         \"\"\"\n\u001b[1;32m--> 224\u001b[1;33m         \u001b[0mdata\u001b[0m \u001b[1;33m=\u001b[0m \u001b[0mself\u001b[0m\u001b[1;33m.\u001b[0m\u001b[0m_api\u001b[0m\u001b[1;33m.\u001b[0m\u001b[0moptimizer_next\u001b[0m\u001b[1;33m(\u001b[0m\u001b[0mself\u001b[0m\u001b[1;33m.\u001b[0m\u001b[0mid\u001b[0m\u001b[1;33m)\u001b[0m\u001b[1;33m\u001b[0m\u001b[1;33m\u001b[0m\u001b[0m\n\u001b[0m\u001b[0;32m    225\u001b[0m         \u001b[1;32mif\u001b[0m \u001b[0mdata\u001b[0m \u001b[1;32mis\u001b[0m \u001b[1;32mnot\u001b[0m \u001b[1;32mNone\u001b[0m\u001b[1;33m:\u001b[0m\u001b[1;33m\u001b[0m\u001b[1;33m\u001b[0m\u001b[0m\n\u001b[0;32m    226\u001b[0m             return self._create_experiment(\n",
      "\u001b[1;32mC:\\Anaconda\\envs\\py36gpu\\lib\\site-packages\\comet_ml\\connection.py\u001b[0m in \u001b[0;36moptimizer_next\u001b[1;34m(self, id)\u001b[0m\n\u001b[0;32m   1295\u001b[0m         \u001b[1;31m## /next?id=ID\u001b[0m\u001b[1;33m\u001b[0m\u001b[1;33m\u001b[0m\u001b[1;33m\u001b[0m\u001b[0m\n\u001b[0;32m   1296\u001b[0m         \u001b[0mparams\u001b[0m \u001b[1;33m=\u001b[0m \u001b[1;33m{\u001b[0m\u001b[1;34m\"id\"\u001b[0m\u001b[1;33m:\u001b[0m \u001b[0mid\u001b[0m\u001b[1;33m}\u001b[0m\u001b[1;33m\u001b[0m\u001b[1;33m\u001b[0m\u001b[0m\n\u001b[1;32m-> 1297\u001b[1;33m         \u001b[0mresults\u001b[0m \u001b[1;33m=\u001b[0m \u001b[0mself\u001b[0m\u001b[1;33m.\u001b[0m\u001b[0mget_request\u001b[0m\u001b[1;33m(\u001b[0m\u001b[1;34m\"next\"\u001b[0m\u001b[1;33m,\u001b[0m \u001b[0mparams\u001b[0m\u001b[1;33m=\u001b[0m\u001b[0mparams\u001b[0m\u001b[1;33m)\u001b[0m\u001b[1;33m\u001b[0m\u001b[1;33m\u001b[0m\u001b[0m\n\u001b[0m\u001b[0;32m   1298\u001b[0m         \u001b[1;32mif\u001b[0m \u001b[0mresults\u001b[0m\u001b[1;33m[\u001b[0m\u001b[1;34m\"code\"\u001b[0m\u001b[1;33m]\u001b[0m \u001b[1;33m==\u001b[0m \u001b[1;36m200\u001b[0m\u001b[1;33m:\u001b[0m\u001b[1;33m\u001b[0m\u001b[1;33m\u001b[0m\u001b[0m\n\u001b[0;32m   1299\u001b[0m             \u001b[1;32mreturn\u001b[0m \u001b[0mresults\u001b[0m\u001b[1;33m[\u001b[0m\u001b[1;34m\"parameters\"\u001b[0m\u001b[1;33m]\u001b[0m\u001b[1;33m\u001b[0m\u001b[1;33m\u001b[0m\u001b[0m\n",
      "\u001b[1;32mC:\\Anaconda\\envs\\py36gpu\\lib\\site-packages\\comet_ml\\connection.py\u001b[0m in \u001b[0;36mget_request\u001b[1;34m(self, end_point, params, return_type)\u001b[0m\n\u001b[0;32m   1225\u001b[0m \u001b[1;33m\u001b[0m\u001b[0m\n\u001b[0;32m   1226\u001b[0m         response = self.low_level_api_client.get(\n\u001b[1;32m-> 1227\u001b[1;33m             \u001b[0murl\u001b[0m\u001b[1;33m,\u001b[0m \u001b[0mparams\u001b[0m\u001b[1;33m=\u001b[0m\u001b[0mparams\u001b[0m\u001b[1;33m,\u001b[0m \u001b[0mheaders\u001b[0m\u001b[1;33m=\u001b[0m\u001b[0mheaders\u001b[0m\u001b[1;33m,\u001b[0m \u001b[0mretry\u001b[0m\u001b[1;33m=\u001b[0m\u001b[1;32mFalse\u001b[0m\u001b[1;33m\u001b[0m\u001b[1;33m\u001b[0m\u001b[0m\n\u001b[0m\u001b[0;32m   1228\u001b[0m         )\n\u001b[0;32m   1229\u001b[0m \u001b[1;33m\u001b[0m\u001b[0m\n",
      "\u001b[1;32mC:\\Anaconda\\envs\\py36gpu\\lib\\site-packages\\comet_ml\\connection.py\u001b[0m in \u001b[0;36mget\u001b[1;34m(self, url, params, headers, retry, timeout, check_status_code)\u001b[0m\n\u001b[0;32m    304\u001b[0m         \u001b[1;32melse\u001b[0m\u001b[1;33m:\u001b[0m\u001b[1;33m\u001b[0m\u001b[1;33m\u001b[0m\u001b[0m\n\u001b[0;32m    305\u001b[0m             response = self.session.get(\n\u001b[1;32m--> 306\u001b[1;33m                 \u001b[0murl\u001b[0m\u001b[1;33m,\u001b[0m \u001b[0mparams\u001b[0m\u001b[1;33m=\u001b[0m\u001b[0mparams\u001b[0m\u001b[1;33m,\u001b[0m \u001b[0mheaders\u001b[0m\u001b[1;33m=\u001b[0m\u001b[0mfinal_headers\u001b[0m\u001b[1;33m,\u001b[0m \u001b[0mtimeout\u001b[0m\u001b[1;33m=\u001b[0m\u001b[0mtimeout\u001b[0m\u001b[1;33m\u001b[0m\u001b[1;33m\u001b[0m\u001b[0m\n\u001b[0m\u001b[0;32m    307\u001b[0m             )\n\u001b[0;32m    308\u001b[0m \u001b[1;33m\u001b[0m\u001b[0m\n",
      "\u001b[1;32mC:\\Anaconda\\envs\\py36gpu\\lib\\site-packages\\requests\\sessions.py\u001b[0m in \u001b[0;36mget\u001b[1;34m(self, url, **kwargs)\u001b[0m\n\u001b[0;32m    541\u001b[0m \u001b[1;33m\u001b[0m\u001b[0m\n\u001b[0;32m    542\u001b[0m         \u001b[0mkwargs\u001b[0m\u001b[1;33m.\u001b[0m\u001b[0msetdefault\u001b[0m\u001b[1;33m(\u001b[0m\u001b[1;34m'allow_redirects'\u001b[0m\u001b[1;33m,\u001b[0m \u001b[1;32mTrue\u001b[0m\u001b[1;33m)\u001b[0m\u001b[1;33m\u001b[0m\u001b[1;33m\u001b[0m\u001b[0m\n\u001b[1;32m--> 543\u001b[1;33m         \u001b[1;32mreturn\u001b[0m \u001b[0mself\u001b[0m\u001b[1;33m.\u001b[0m\u001b[0mrequest\u001b[0m\u001b[1;33m(\u001b[0m\u001b[1;34m'GET'\u001b[0m\u001b[1;33m,\u001b[0m \u001b[0murl\u001b[0m\u001b[1;33m,\u001b[0m \u001b[1;33m**\u001b[0m\u001b[0mkwargs\u001b[0m\u001b[1;33m)\u001b[0m\u001b[1;33m\u001b[0m\u001b[1;33m\u001b[0m\u001b[0m\n\u001b[0m\u001b[0;32m    544\u001b[0m \u001b[1;33m\u001b[0m\u001b[0m\n\u001b[0;32m    545\u001b[0m     \u001b[1;32mdef\u001b[0m \u001b[0moptions\u001b[0m\u001b[1;33m(\u001b[0m\u001b[0mself\u001b[0m\u001b[1;33m,\u001b[0m \u001b[0murl\u001b[0m\u001b[1;33m,\u001b[0m \u001b[1;33m**\u001b[0m\u001b[0mkwargs\u001b[0m\u001b[1;33m)\u001b[0m\u001b[1;33m:\u001b[0m\u001b[1;33m\u001b[0m\u001b[1;33m\u001b[0m\u001b[0m\n",
      "\u001b[1;32mC:\\Anaconda\\envs\\py36gpu\\lib\\site-packages\\requests\\sessions.py\u001b[0m in \u001b[0;36mrequest\u001b[1;34m(self, method, url, params, data, headers, cookies, files, auth, timeout, allow_redirects, proxies, hooks, stream, verify, cert, json)\u001b[0m\n\u001b[0;32m    528\u001b[0m         }\n\u001b[0;32m    529\u001b[0m         \u001b[0msend_kwargs\u001b[0m\u001b[1;33m.\u001b[0m\u001b[0mupdate\u001b[0m\u001b[1;33m(\u001b[0m\u001b[0msettings\u001b[0m\u001b[1;33m)\u001b[0m\u001b[1;33m\u001b[0m\u001b[1;33m\u001b[0m\u001b[0m\n\u001b[1;32m--> 530\u001b[1;33m         \u001b[0mresp\u001b[0m \u001b[1;33m=\u001b[0m \u001b[0mself\u001b[0m\u001b[1;33m.\u001b[0m\u001b[0msend\u001b[0m\u001b[1;33m(\u001b[0m\u001b[0mprep\u001b[0m\u001b[1;33m,\u001b[0m \u001b[1;33m**\u001b[0m\u001b[0msend_kwargs\u001b[0m\u001b[1;33m)\u001b[0m\u001b[1;33m\u001b[0m\u001b[1;33m\u001b[0m\u001b[0m\n\u001b[0m\u001b[0;32m    531\u001b[0m \u001b[1;33m\u001b[0m\u001b[0m\n\u001b[0;32m    532\u001b[0m         \u001b[1;32mreturn\u001b[0m \u001b[0mresp\u001b[0m\u001b[1;33m\u001b[0m\u001b[1;33m\u001b[0m\u001b[0m\n",
      "\u001b[1;32mC:\\Anaconda\\envs\\py36gpu\\lib\\site-packages\\requests\\sessions.py\u001b[0m in \u001b[0;36msend\u001b[1;34m(self, request, **kwargs)\u001b[0m\n\u001b[0;32m    641\u001b[0m \u001b[1;33m\u001b[0m\u001b[0m\n\u001b[0;32m    642\u001b[0m         \u001b[1;31m# Send the request\u001b[0m\u001b[1;33m\u001b[0m\u001b[1;33m\u001b[0m\u001b[1;33m\u001b[0m\u001b[0m\n\u001b[1;32m--> 643\u001b[1;33m         \u001b[0mr\u001b[0m \u001b[1;33m=\u001b[0m \u001b[0madapter\u001b[0m\u001b[1;33m.\u001b[0m\u001b[0msend\u001b[0m\u001b[1;33m(\u001b[0m\u001b[0mrequest\u001b[0m\u001b[1;33m,\u001b[0m \u001b[1;33m**\u001b[0m\u001b[0mkwargs\u001b[0m\u001b[1;33m)\u001b[0m\u001b[1;33m\u001b[0m\u001b[1;33m\u001b[0m\u001b[0m\n\u001b[0m\u001b[0;32m    644\u001b[0m \u001b[1;33m\u001b[0m\u001b[0m\n\u001b[0;32m    645\u001b[0m         \u001b[1;31m# Total elapsed time of the request (approximately)\u001b[0m\u001b[1;33m\u001b[0m\u001b[1;33m\u001b[0m\u001b[1;33m\u001b[0m\u001b[0m\n",
      "\u001b[1;32mC:\\Anaconda\\envs\\py36gpu\\lib\\site-packages\\requests\\adapters.py\u001b[0m in \u001b[0;36msend\u001b[1;34m(self, request, stream, timeout, verify, cert, proxies)\u001b[0m\n\u001b[0;32m    527\u001b[0m                 \u001b[1;32mraise\u001b[0m \u001b[0mSSLError\u001b[0m\u001b[1;33m(\u001b[0m\u001b[0me\u001b[0m\u001b[1;33m,\u001b[0m \u001b[0mrequest\u001b[0m\u001b[1;33m=\u001b[0m\u001b[0mrequest\u001b[0m\u001b[1;33m)\u001b[0m\u001b[1;33m\u001b[0m\u001b[1;33m\u001b[0m\u001b[0m\n\u001b[0;32m    528\u001b[0m             \u001b[1;32melif\u001b[0m \u001b[0misinstance\u001b[0m\u001b[1;33m(\u001b[0m\u001b[0me\u001b[0m\u001b[1;33m,\u001b[0m \u001b[0mReadTimeoutError\u001b[0m\u001b[1;33m)\u001b[0m\u001b[1;33m:\u001b[0m\u001b[1;33m\u001b[0m\u001b[1;33m\u001b[0m\u001b[0m\n\u001b[1;32m--> 529\u001b[1;33m                 \u001b[1;32mraise\u001b[0m \u001b[0mReadTimeout\u001b[0m\u001b[1;33m(\u001b[0m\u001b[0me\u001b[0m\u001b[1;33m,\u001b[0m \u001b[0mrequest\u001b[0m\u001b[1;33m=\u001b[0m\u001b[0mrequest\u001b[0m\u001b[1;33m)\u001b[0m\u001b[1;33m\u001b[0m\u001b[1;33m\u001b[0m\u001b[0m\n\u001b[0m\u001b[0;32m    530\u001b[0m             \u001b[1;32melse\u001b[0m\u001b[1;33m:\u001b[0m\u001b[1;33m\u001b[0m\u001b[1;33m\u001b[0m\u001b[0m\n\u001b[0;32m    531\u001b[0m                 \u001b[1;32mraise\u001b[0m\u001b[1;33m\u001b[0m\u001b[1;33m\u001b[0m\u001b[0m\n",
      "\u001b[1;31mReadTimeout\u001b[0m: HTTPSConnectionPool(host='optimizer.comet.ml', port=443): Read timed out. (read timeout=10)"
     ]
    },
    {
     "name": "stderr",
     "output_type": "stream",
     "text": [
      "WARNING:urllib3.connectionpool:Retrying (Retry(total=2, connect=None, read=None, redirect=None, status=None)) after connection broken by 'ReadTimeoutError(\"HTTPSConnectionPool(host='www.comet.ml', port=443): Read timed out. (read timeout=10)\",)': /clientlib/status-report/update\n",
      "WARNING:urllib3.connectionpool:Retrying (Retry(total=2, connect=None, read=None, redirect=None, status=None)) after connection broken by 'ReadTimeoutError(\"HTTPSConnectionPool(host='www.comet.ml', port=443): Read timed out. (read timeout=10)\",)': /clientlib/status-report/update\n",
      "WARNING:urllib3.connectionpool:Retrying (Retry(total=2, connect=None, read=None, redirect=None, status=None)) after connection broken by 'ReadTimeoutError(\"HTTPSConnectionPool(host='www.comet.ml', port=443): Read timed out. (read timeout=10)\",)': /clientlib/status-report/update\n",
      "WARNING:urllib3.connectionpool:Retrying (Retry(total=2, connect=None, read=None, redirect=None, status=None)) after connection broken by 'ReadTimeoutError(\"HTTPSConnectionPool(host='www.comet.ml', port=443): Read timed out. (read timeout=10)\",)': /clientlib/status-report/update\n",
      "WARNING:urllib3.connectionpool:Retrying (Retry(total=2, connect=None, read=None, redirect=None, status=None)) after connection broken by 'ReadTimeoutError(\"HTTPSConnectionPool(host='www.comet.ml', port=443): Read timed out. (read timeout=10)\",)': /clientlib/status-report/update\n",
      "WARNING:urllib3.connectionpool:Retrying (Retry(total=2, connect=None, read=None, redirect=None, status=None)) after connection broken by 'ReadTimeoutError(\"HTTPSConnectionPool(host='www.comet.ml', port=443): Read timed out. (read timeout=10)\",)': /clientlib/status-report/update\n",
      "WARNING:urllib3.connectionpool:Retrying (Retry(total=2, connect=None, read=None, redirect=None, status=None)) after connection broken by 'ReadTimeoutError(\"HTTPSConnectionPool(host='www.comet.ml', port=443): Read timed out. (read timeout=10)\",)': /clientlib/status-report/update\n",
      "WARNING:urllib3.connectionpool:Retrying (Retry(total=2, connect=None, read=None, redirect=None, status=None)) after connection broken by 'ReadTimeoutError(\"HTTPSConnectionPool(host='www.comet.ml', port=443): Read timed out. (read timeout=10)\",)': /clientlib/status-report/update\n",
      "WARNING:urllib3.connectionpool:Retrying (Retry(total=2, connect=None, read=None, redirect=None, status=None)) after connection broken by 'ReadTimeoutError(\"HTTPSConnectionPool(host='www.comet.ml', port=443): Read timed out. (read timeout=10)\",)': /clientlib/status-report/update\n",
      "WARNING:urllib3.connectionpool:Retrying (Retry(total=1, connect=None, read=None, redirect=None, status=None)) after connection broken by 'ReadTimeoutError(\"HTTPSConnectionPool(host='www.comet.ml', port=443): Read timed out. (read timeout=10)\",)': /clientlib/status-report/update\n",
      "WARNING:urllib3.connectionpool:Retrying (Retry(total=1, connect=None, read=None, redirect=None, status=None)) after connection broken by 'ReadTimeoutError(\"HTTPSConnectionPool(host='www.comet.ml', port=443): Read timed out. (read timeout=10)\",)': /clientlib/status-report/update\n",
      "WARNING:urllib3.connectionpool:Retrying (Retry(total=1, connect=None, read=None, redirect=None, status=None)) after connection broken by 'ReadTimeoutError(\"HTTPSConnectionPool(host='www.comet.ml', port=443): Read timed out. (read timeout=10)\",)': /clientlib/status-report/update\n",
      "WARNING:urllib3.connectionpool:Retrying (Retry(total=1, connect=None, read=None, redirect=None, status=None)) after connection broken by 'ReadTimeoutError(\"HTTPSConnectionPool(host='www.comet.ml', port=443): Read timed out. (read timeout=10)\",)': /clientlib/status-report/update\n",
      "WARNING:urllib3.connectionpool:Retrying (Retry(total=1, connect=None, read=None, redirect=None, status=None)) after connection broken by 'ReadTimeoutError(\"HTTPSConnectionPool(host='www.comet.ml', port=443): Read timed out. (read timeout=10)\",)': /clientlib/status-report/update\n",
      "WARNING:urllib3.connectionpool:Retrying (Retry(total=1, connect=None, read=None, redirect=None, status=None)) after connection broken by 'ReadTimeoutError(\"HTTPSConnectionPool(host='www.comet.ml', port=443): Read timed out. (read timeout=10)\",)': /clientlib/status-report/update\n",
      "WARNING:urllib3.connectionpool:Retrying (Retry(total=2, connect=None, read=None, redirect=None, status=None)) after connection broken by 'ReadTimeoutError(\"HTTPSConnectionPool(host='www.comet.ml', port=443): Read timed out. (read timeout=10)\",)': /clientlib/status-report/update\n",
      "WARNING:urllib3.connectionpool:Retrying (Retry(total=1, connect=None, read=None, redirect=None, status=None)) after connection broken by 'ReadTimeoutError(\"HTTPSConnectionPool(host='www.comet.ml', port=443): Read timed out. (read timeout=10)\",)': /clientlib/status-report/update\n",
      "WARNING:urllib3.connectionpool:Retrying (Retry(total=2, connect=None, read=None, redirect=None, status=None)) after connection broken by 'ReadTimeoutError(\"HTTPSConnectionPool(host='www.comet.ml', port=443): Read timed out. (read timeout=10)\",)': /clientlib/status-report/update\n",
      "WARNING:urllib3.connectionpool:Retrying (Retry(total=0, connect=None, read=None, redirect=None, status=None)) after connection broken by 'ReadTimeoutError(\"HTTPSConnectionPool(host='www.comet.ml', port=443): Read timed out. (read timeout=10)\",)': /clientlib/status-report/update\n",
      "WARNING:urllib3.connectionpool:Retrying (Retry(total=1, connect=None, read=None, redirect=None, status=None)) after connection broken by 'ReadTimeoutError(\"HTTPSConnectionPool(host='www.comet.ml', port=443): Read timed out. (read timeout=10)\",)': /clientlib/status-report/update\n",
      "WARNING:urllib3.connectionpool:Retrying (Retry(total=2, connect=None, read=None, redirect=None, status=None)) after connection broken by 'ReadTimeoutError(\"HTTPSConnectionPool(host='www.comet.ml', port=443): Read timed out. (read timeout=10)\",)': /clientlib/status-report/update\n",
      "WARNING:urllib3.connectionpool:Retrying (Retry(total=0, connect=None, read=None, redirect=None, status=None)) after connection broken by 'ReadTimeoutError(\"HTTPSConnectionPool(host='www.comet.ml', port=443): Read timed out. (read timeout=10)\",)': /clientlib/status-report/update\n",
      "WARNING:urllib3.connectionpool:Retrying (Retry(total=2, connect=None, read=None, redirect=None, status=None)) after connection broken by 'ReadTimeoutError(\"HTTPSConnectionPool(host='www.comet.ml', port=443): Read timed out. (read timeout=10)\",)': /clientlib/status-report/update\n",
      "WARNING:urllib3.connectionpool:Retrying (Retry(total=2, connect=None, read=None, redirect=None, status=None)) after connection broken by 'ReadTimeoutError(\"HTTPSConnectionPool(host='www.comet.ml', port=443): Read timed out. (read timeout=10)\",)': /clientlib/status-report/update\n",
      "WARNING:urllib3.connectionpool:Retrying (Retry(total=0, connect=None, read=None, redirect=None, status=None)) after connection broken by 'ReadTimeoutError(\"HTTPSConnectionPool(host='www.comet.ml', port=443): Read timed out. (read timeout=10)\",)': /clientlib/status-report/update\n",
      "WARNING:urllib3.connectionpool:Retrying (Retry(total=2, connect=None, read=None, redirect=None, status=None)) after connection broken by 'ReadTimeoutError(\"HTTPSConnectionPool(host='www.comet.ml', port=443): Read timed out. (read timeout=10)\",)': /clientlib/status-report/update\n",
      "WARNING:urllib3.connectionpool:Retrying (Retry(total=2, connect=None, read=None, redirect=None, status=None)) after connection broken by 'ReadTimeoutError(\"HTTPSConnectionPool(host='www.comet.ml', port=443): Read timed out. (read timeout=10)\",)': /clientlib/status-report/update\n",
      "WARNING:urllib3.connectionpool:Retrying (Retry(total=2, connect=None, read=None, redirect=None, status=None)) after connection broken by 'ReadTimeoutError(\"HTTPSConnectionPool(host='www.comet.ml', port=443): Read timed out. (read timeout=10)\",)': /clientlib/status-report/update\n",
      "WARNING:urllib3.connectionpool:Retrying (Retry(total=2, connect=None, read=None, redirect=None, status=None)) after connection broken by 'ReadTimeoutError(\"HTTPSConnectionPool(host='www.comet.ml', port=443): Read timed out. (read timeout=10)\",)': /clientlib/status-report/update\n",
      "WARNING:urllib3.connectionpool:Retrying (Retry(total=2, connect=None, read=None, redirect=None, status=None)) after connection broken by 'ReadTimeoutError(\"HTTPSConnectionPool(host='www.comet.ml', port=443): Read timed out. (read timeout=10)\",)': /clientlib/status-report/update\n",
      "WARNING:urllib3.connectionpool:Retrying (Retry(total=2, connect=None, read=None, redirect=None, status=None)) after connection broken by 'ReadTimeoutError(\"HTTPSConnectionPool(host='www.comet.ml', port=443): Read timed out. (read timeout=10)\",)': /clientlib/status-report/update\n",
      "WARNING:urllib3.connectionpool:Retrying (Retry(total=2, connect=None, read=None, redirect=None, status=None)) after connection broken by 'ReadTimeoutError(\"HTTPSConnectionPool(host='www.comet.ml', port=443): Read timed out. (read timeout=10)\",)': /clientlib/status-report/update\n",
      "WARNING:urllib3.connectionpool:Retrying (Retry(total=2, connect=None, read=None, redirect=None, status=None)) after connection broken by 'ReadTimeoutError(\"HTTPSConnectionPool(host='www.comet.ml', port=443): Read timed out. (read timeout=10)\",)': /clientlib/status-report/update\n",
      "WARNING:urllib3.connectionpool:Retrying (Retry(total=2, connect=None, read=None, redirect=None, status=None)) after connection broken by 'ReadTimeoutError(\"HTTPSConnectionPool(host='www.comet.ml', port=443): Read timed out. (read timeout=10)\",)': /clientlib/status-report/update\n",
      "WARNING:urllib3.connectionpool:Retrying (Retry(total=2, connect=None, read=None, redirect=None, status=None)) after connection broken by 'ReadTimeoutError(\"HTTPSConnectionPool(host='www.comet.ml', port=443): Read timed out. (read timeout=10)\",)': /clientlib/status-report/update\n",
      "WARNING:urllib3.connectionpool:Retrying (Retry(total=2, connect=None, read=None, redirect=None, status=None)) after connection broken by 'ReadTimeoutError(\"HTTPSConnectionPool(host='www.comet.ml', port=443): Read timed out. (read timeout=10)\",)': /clientlib/status-report/update\n",
      "WARNING:urllib3.connectionpool:Retrying (Retry(total=2, connect=None, read=None, redirect=None, status=None)) after connection broken by 'ReadTimeoutError(\"HTTPSConnectionPool(host='www.comet.ml', port=443): Read timed out. (read timeout=10)\",)': /clientlib/status-report/update\n",
      "WARNING:urllib3.connectionpool:Retrying (Retry(total=2, connect=None, read=None, redirect=None, status=None)) after connection broken by 'ReadTimeoutError(\"HTTPSConnectionPool(host='www.comet.ml', port=443): Read timed out. (read timeout=10)\",)': /clientlib/status-report/update\n",
      "WARNING:urllib3.connectionpool:Retrying (Retry(total=2, connect=None, read=None, redirect=None, status=None)) after connection broken by 'ReadTimeoutError(\"HTTPSConnectionPool(host='www.comet.ml', port=443): Read timed out. (read timeout=10)\",)': /clientlib/status-report/update\n",
      "WARNING:urllib3.connectionpool:Retrying (Retry(total=2, connect=None, read=None, redirect=None, status=None)) after connection broken by 'ReadTimeoutError(\"HTTPSConnectionPool(host='www.comet.ml', port=443): Read timed out. (read timeout=10)\",)': /clientlib/status-report/update\n",
      "WARNING:urllib3.connectionpool:Retrying (Retry(total=1, connect=None, read=None, redirect=None, status=None)) after connection broken by 'ReadTimeoutError(\"HTTPSConnectionPool(host='www.comet.ml', port=443): Read timed out. (read timeout=10)\",)': /clientlib/status-report/update\n",
      "WARNING:urllib3.connectionpool:Retrying (Retry(total=2, connect=None, read=None, redirect=None, status=None)) after connection broken by 'ReadTimeoutError(\"HTTPSConnectionPool(host='www.comet.ml', port=443): Read timed out. (read timeout=10)\",)': /clientlib/status-report/update\n",
      "WARNING:urllib3.connectionpool:Retrying (Retry(total=2, connect=None, read=None, redirect=None, status=None)) after connection broken by 'ReadTimeoutError(\"HTTPSConnectionPool(host='www.comet.ml', port=443): Read timed out. (read timeout=10)\",)': /clientlib/status-report/update\n",
      "WARNING:urllib3.connectionpool:Retrying (Retry(total=2, connect=None, read=None, redirect=None, status=None)) after connection broken by 'ReadTimeoutError(\"HTTPSConnectionPool(host='www.comet.ml', port=443): Read timed out. (read timeout=10)\",)': /clientlib/status-report/update\n",
      "WARNING:urllib3.connectionpool:Retrying (Retry(total=2, connect=None, read=None, redirect=None, status=None)) after connection broken by 'ReadTimeoutError(\"HTTPSConnectionPool(host='www.comet.ml', port=443): Read timed out. (read timeout=10)\",)': /clientlib/status-report/update\n",
      "WARNING:urllib3.connectionpool:Retrying (Retry(total=2, connect=None, read=None, redirect=None, status=None)) after connection broken by 'ReadTimeoutError(\"HTTPSConnectionPool(host='www.comet.ml', port=443): Read timed out. (read timeout=10)\",)': /clientlib/status-report/update\n",
      "WARNING:urllib3.connectionpool:Retrying (Retry(total=2, connect=None, read=None, redirect=None, status=None)) after connection broken by 'ReadTimeoutError(\"HTTPSConnectionPool(host='www.comet.ml', port=443): Read timed out. (read timeout=10)\",)': /clientlib/status-report/update\n",
      "WARNING:urllib3.connectionpool:Retrying (Retry(total=2, connect=None, read=None, redirect=None, status=None)) after connection broken by 'ReadTimeoutError(\"HTTPSConnectionPool(host='www.comet.ml', port=443): Read timed out. (read timeout=10)\",)': /clientlib/status-report/update\n",
      "WARNING:urllib3.connectionpool:Retrying (Retry(total=2, connect=None, read=None, redirect=None, status=None)) after connection broken by 'ReadTimeoutError(\"HTTPSConnectionPool(host='www.comet.ml', port=443): Read timed out. (read timeout=10)\",)': /clientlib/status-report/update\n",
      "WARNING:urllib3.connectionpool:Retrying (Retry(total=2, connect=None, read=None, redirect=None, status=None)) after connection broken by 'ReadTimeoutError(\"HTTPSConnectionPool(host='www.comet.ml', port=443): Read timed out. (read timeout=10)\",)': /clientlib/status-report/update\n",
      "WARNING:urllib3.connectionpool:Retrying (Retry(total=2, connect=None, read=None, redirect=None, status=None)) after connection broken by 'ReadTimeoutError(\"HTTPSConnectionPool(host='www.comet.ml', port=443): Read timed out. (read timeout=10)\",)': /clientlib/status-report/update\n",
      "WARNING:urllib3.connectionpool:Retrying (Retry(total=2, connect=None, read=None, redirect=None, status=None)) after connection broken by 'ReadTimeoutError(\"HTTPSConnectionPool(host='www.comet.ml', port=443): Read timed out. (read timeout=10)\",)': /clientlib/status-report/update\n",
      "WARNING:urllib3.connectionpool:Retrying (Retry(total=2, connect=None, read=None, redirect=None, status=None)) after connection broken by 'ReadTimeoutError(\"HTTPSConnectionPool(host='www.comet.ml', port=443): Read timed out. (read timeout=10)\",)': /clientlib/status-report/update\n",
      "WARNING:urllib3.connectionpool:Retrying (Retry(total=2, connect=None, read=None, redirect=None, status=None)) after connection broken by 'ReadTimeoutError(\"HTTPSConnectionPool(host='www.comet.ml', port=443): Read timed out. (read timeout=10)\",)': /clientlib/status-report/update\n",
      "WARNING:urllib3.connectionpool:Retrying (Retry(total=2, connect=None, read=None, redirect=None, status=None)) after connection broken by 'ReadTimeoutError(\"HTTPSConnectionPool(host='www.comet.ml', port=443): Read timed out. (read timeout=10)\",)': /clientlib/status-report/update\n",
      "WARNING:urllib3.connectionpool:Retrying (Retry(total=2, connect=None, read=None, redirect=None, status=None)) after connection broken by 'ReadTimeoutError(\"HTTPSConnectionPool(host='www.comet.ml', port=443): Read timed out. (read timeout=10)\",)': /clientlib/status-report/update\n",
      "WARNING:urllib3.connectionpool:Retrying (Retry(total=1, connect=None, read=None, redirect=None, status=None)) after connection broken by 'ReadTimeoutError(\"HTTPSConnectionPool(host='www.comet.ml', port=443): Read timed out. (read timeout=10)\",)': /clientlib/status-report/update\n",
      "WARNING:urllib3.connectionpool:Retrying (Retry(total=2, connect=None, read=None, redirect=None, status=None)) after connection broken by 'ReadTimeoutError(\"HTTPSConnectionPool(host='www.comet.ml', port=443): Read timed out. (read timeout=10)\",)': /clientlib/status-report/update\n",
      "WARNING:urllib3.connectionpool:Retrying (Retry(total=2, connect=None, read=None, redirect=None, status=None)) after connection broken by 'ReadTimeoutError(\"HTTPSConnectionPool(host='www.comet.ml', port=443): Read timed out. (read timeout=10)\",)': /clientlib/status-report/update\n",
      "WARNING:urllib3.connectionpool:Retrying (Retry(total=2, connect=None, read=None, redirect=None, status=None)) after connection broken by 'ReadTimeoutError(\"HTTPSConnectionPool(host='www.comet.ml', port=443): Read timed out. (read timeout=10)\",)': /clientlib/status-report/update\n",
      "WARNING:urllib3.connectionpool:Retrying (Retry(total=2, connect=None, read=None, redirect=None, status=None)) after connection broken by 'ReadTimeoutError(\"HTTPSConnectionPool(host='www.comet.ml', port=443): Read timed out. (read timeout=10)\",)': /clientlib/status-report/update\n",
      "WARNING:urllib3.connectionpool:Retrying (Retry(total=1, connect=None, read=None, redirect=None, status=None)) after connection broken by 'ReadTimeoutError(\"HTTPSConnectionPool(host='www.comet.ml', port=443): Read timed out. (read timeout=10)\",)': /clientlib/status-report/update\n",
      "WARNING:urllib3.connectionpool:Retrying (Retry(total=2, connect=None, read=None, redirect=None, status=None)) after connection broken by 'ReadTimeoutError(\"HTTPSConnectionPool(host='www.comet.ml', port=443): Read timed out. (read timeout=10)\",)': /clientlib/status-report/update\n",
      "WARNING:urllib3.connectionpool:Retrying (Retry(total=2, connect=None, read=None, redirect=None, status=None)) after connection broken by 'ReadTimeoutError(\"HTTPSConnectionPool(host='www.comet.ml', port=443): Read timed out. (read timeout=10)\",)': /clientlib/status-report/update\n",
      "WARNING:urllib3.connectionpool:Retrying (Retry(total=1, connect=None, read=None, redirect=None, status=None)) after connection broken by 'ReadTimeoutError(\"HTTPSConnectionPool(host='www.comet.ml', port=443): Read timed out. (read timeout=10)\",)': /clientlib/status-report/update\n",
      "WARNING:urllib3.connectionpool:Retrying (Retry(total=2, connect=None, read=None, redirect=None, status=None)) after connection broken by 'ReadTimeoutError(\"HTTPSConnectionPool(host='www.comet.ml', port=443): Read timed out. (read timeout=10)\",)': /clientlib/status-report/update\n",
      "WARNING:urllib3.connectionpool:Retrying (Retry(total=0, connect=None, read=None, redirect=None, status=None)) after connection broken by 'ReadTimeoutError(\"HTTPSConnectionPool(host='www.comet.ml', port=443): Read timed out. (read timeout=10)\",)': /clientlib/status-report/update\n",
      "WARNING:urllib3.connectionpool:Retrying (Retry(total=2, connect=None, read=None, redirect=None, status=None)) after connection broken by 'ReadTimeoutError(\"HTTPSConnectionPool(host='www.comet.ml', port=443): Read timed out. (read timeout=10)\",)': /clientlib/status-report/update\n",
      "WARNING:urllib3.connectionpool:Retrying (Retry(total=2, connect=None, read=None, redirect=None, status=None)) after connection broken by 'ReadTimeoutError(\"HTTPSConnectionPool(host='www.comet.ml', port=443): Read timed out. (read timeout=10)\",)': /clientlib/status-report/update\n",
      "WARNING:urllib3.connectionpool:Retrying (Retry(total=2, connect=None, read=None, redirect=None, status=None)) after connection broken by 'ReadTimeoutError(\"HTTPSConnectionPool(host='www.comet.ml', port=443): Read timed out. (read timeout=10)\",)': /clientlib/status-report/update\n",
      "WARNING:urllib3.connectionpool:Retrying (Retry(total=1, connect=None, read=None, redirect=None, status=None)) after connection broken by 'ReadTimeoutError(\"HTTPSConnectionPool(host='www.comet.ml', port=443): Read timed out. (read timeout=10)\",)': /clientlib/status-report/update\n",
      "WARNING:urllib3.connectionpool:Retrying (Retry(total=2, connect=None, read=None, redirect=None, status=None)) after connection broken by 'ReadTimeoutError(\"HTTPSConnectionPool(host='www.comet.ml', port=443): Read timed out. (read timeout=10)\",)': /clientlib/status-report/update\n",
      "WARNING:urllib3.connectionpool:Retrying (Retry(total=2, connect=None, read=None, redirect=None, status=None)) after connection broken by 'ReadTimeoutError(\"HTTPSConnectionPool(host='www.comet.ml', port=443): Read timed out. (read timeout=10)\",)': /clientlib/status-report/update\n",
      "WARNING:urllib3.connectionpool:Retrying (Retry(total=2, connect=None, read=None, redirect=None, status=None)) after connection broken by 'ReadTimeoutError(\"HTTPSConnectionPool(host='www.comet.ml', port=443): Read timed out. (read timeout=10)\",)': /clientlib/status-report/update\n",
      "WARNING:urllib3.connectionpool:Retrying (Retry(total=2, connect=None, read=None, redirect=None, status=None)) after connection broken by 'ReadTimeoutError(\"HTTPSConnectionPool(host='www.comet.ml', port=443): Read timed out. (read timeout=10)\",)': /clientlib/status-report/update\n",
      "WARNING:urllib3.connectionpool:Retrying (Retry(total=1, connect=None, read=None, redirect=None, status=None)) after connection broken by 'ReadTimeoutError(\"HTTPSConnectionPool(host='www.comet.ml', port=443): Read timed out. (read timeout=10)\",)': /clientlib/status-report/update\n",
      "WARNING:urllib3.connectionpool:Retrying (Retry(total=2, connect=None, read=None, redirect=None, status=None)) after connection broken by 'ReadTimeoutError(\"HTTPSConnectionPool(host='www.comet.ml', port=443): Read timed out. (read timeout=10)\",)': /clientlib/status-report/update\n",
      "WARNING:urllib3.connectionpool:Retrying (Retry(total=2, connect=None, read=None, redirect=None, status=None)) after connection broken by 'ReadTimeoutError(\"HTTPSConnectionPool(host='www.comet.ml', port=443): Read timed out. (read timeout=10)\",)': /clientlib/status-report/update\n",
      "WARNING:urllib3.connectionpool:Retrying (Retry(total=2, connect=None, read=None, redirect=None, status=None)) after connection broken by 'ReadTimeoutError(\"HTTPSConnectionPool(host='www.comet.ml', port=443): Read timed out. (read timeout=10)\",)': /clientlib/status-report/update\n",
      "WARNING:urllib3.connectionpool:Retrying (Retry(total=2, connect=None, read=None, redirect=None, status=None)) after connection broken by 'ReadTimeoutError(\"HTTPSConnectionPool(host='www.comet.ml', port=443): Read timed out. (read timeout=10)\",)': /clientlib/status-report/update\n",
      "WARNING:urllib3.connectionpool:Retrying (Retry(total=1, connect=None, read=None, redirect=None, status=None)) after connection broken by 'ReadTimeoutError(\"HTTPSConnectionPool(host='www.comet.ml', port=443): Read timed out. (read timeout=10)\",)': /clientlib/status-report/update\n",
      "WARNING:urllib3.connectionpool:Retrying (Retry(total=2, connect=None, read=None, redirect=None, status=None)) after connection broken by 'ReadTimeoutError(\"HTTPSConnectionPool(host='www.comet.ml', port=443): Read timed out. (read timeout=10)\",)': /clientlib/status-report/update\n",
      "WARNING:urllib3.connectionpool:Retrying (Retry(total=2, connect=None, read=None, redirect=None, status=None)) after connection broken by 'ReadTimeoutError(\"HTTPSConnectionPool(host='www.comet.ml', port=443): Read timed out. (read timeout=10)\",)': /clientlib/status-report/update\n",
      "WARNING:urllib3.connectionpool:Retrying (Retry(total=2, connect=None, read=None, redirect=None, status=None)) after connection broken by 'ReadTimeoutError(\"HTTPSConnectionPool(host='www.comet.ml', port=443): Read timed out. (read timeout=10)\",)': /clientlib/status-report/update\n",
      "WARNING:urllib3.connectionpool:Retrying (Retry(total=2, connect=None, read=None, redirect=None, status=None)) after connection broken by 'ReadTimeoutError(\"HTTPSConnectionPool(host='www.comet.ml', port=443): Read timed out. (read timeout=10)\",)': /clientlib/status-report/update\n",
      "WARNING:urllib3.connectionpool:Retrying (Retry(total=2, connect=None, read=None, redirect=None, status=None)) after connection broken by 'ReadTimeoutError(\"HTTPSConnectionPool(host='www.comet.ml', port=443): Read timed out. (read timeout=10)\",)': /clientlib/status-report/update\n",
      "WARNING:urllib3.connectionpool:Retrying (Retry(total=2, connect=None, read=None, redirect=None, status=None)) after connection broken by 'ReadTimeoutError(\"HTTPSConnectionPool(host='www.comet.ml', port=443): Read timed out. (read timeout=10)\",)': /clientlib/status-report/update\n",
      "WARNING:urllib3.connectionpool:Retrying (Retry(total=2, connect=None, read=None, redirect=None, status=None)) after connection broken by 'ReadTimeoutError(\"HTTPSConnectionPool(host='www.comet.ml', port=443): Read timed out. (read timeout=10)\",)': /clientlib/status-report/update\n",
      "WARNING:urllib3.connectionpool:Retrying (Retry(total=1, connect=None, read=None, redirect=None, status=None)) after connection broken by 'ReadTimeoutError(\"HTTPSConnectionPool(host='www.comet.ml', port=443): Read timed out. (read timeout=10)\",)': /clientlib/status-report/update\n",
      "WARNING:urllib3.connectionpool:Retrying (Retry(total=2, connect=None, read=None, redirect=None, status=None)) after connection broken by 'ReadTimeoutError(\"HTTPSConnectionPool(host='www.comet.ml', port=443): Read timed out. (read timeout=10)\",)': /clientlib/status-report/update\n",
      "WARNING:urllib3.connectionpool:Retrying (Retry(total=2, connect=None, read=None, redirect=None, status=None)) after connection broken by 'ReadTimeoutError(\"HTTPSConnectionPool(host='www.comet.ml', port=443): Read timed out. (read timeout=10)\",)': /clientlib/status-report/update\n",
      "WARNING:urllib3.connectionpool:Retrying (Retry(total=2, connect=None, read=None, redirect=None, status=None)) after connection broken by 'ReadTimeoutError(\"HTTPSConnectionPool(host='www.comet.ml', port=443): Read timed out. (read timeout=10)\",)': /clientlib/status-report/update\n",
      "WARNING:urllib3.connectionpool:Retrying (Retry(total=2, connect=None, read=None, redirect=None, status=None)) after connection broken by 'ReadTimeoutError(\"HTTPSConnectionPool(host='www.comet.ml', port=443): Read timed out. (read timeout=10)\",)': /clientlib/status-report/update\n",
      "WARNING:urllib3.connectionpool:Retrying (Retry(total=2, connect=None, read=None, redirect=None, status=None)) after connection broken by 'ReadTimeoutError(\"HTTPSConnectionPool(host='www.comet.ml', port=443): Read timed out. (read timeout=10)\",)': /clientlib/status-report/update\n",
      "WARNING:urllib3.connectionpool:Retrying (Retry(total=2, connect=None, read=None, redirect=None, status=None)) after connection broken by 'ReadTimeoutError(\"HTTPSConnectionPool(host='www.comet.ml', port=443): Read timed out. (read timeout=10)\",)': /clientlib/status-report/update\n",
      "WARNING:urllib3.connectionpool:Retrying (Retry(total=2, connect=None, read=None, redirect=None, status=None)) after connection broken by 'ReadTimeoutError(\"HTTPSConnectionPool(host='www.comet.ml', port=443): Read timed out. (read timeout=10)\",)': /clientlib/status-report/update\n",
      "WARNING:urllib3.connectionpool:Retrying (Retry(total=1, connect=None, read=None, redirect=None, status=None)) after connection broken by 'ReadTimeoutError(\"HTTPSConnectionPool(host='www.comet.ml', port=443): Read timed out. (read timeout=10)\",)': /clientlib/status-report/update\n",
      "WARNING:urllib3.connectionpool:Retrying (Retry(total=1, connect=None, read=None, redirect=None, status=None)) after connection broken by 'ReadTimeoutError(\"HTTPSConnectionPool(host='www.comet.ml', port=443): Read timed out. (read timeout=10)\",)': /clientlib/status-report/update\n",
      "WARNING:urllib3.connectionpool:Retrying (Retry(total=0, connect=None, read=None, redirect=None, status=None)) after connection broken by 'ReadTimeoutError(\"HTTPSConnectionPool(host='www.comet.ml', port=443): Read timed out. (read timeout=10)\",)': /clientlib/status-report/update\n",
      "WARNING:urllib3.connectionpool:Retrying (Retry(total=2, connect=None, read=None, redirect=None, status=None)) after connection broken by 'ReadTimeoutError(\"HTTPSConnectionPool(host='www.comet.ml', port=443): Read timed out. (read timeout=10)\",)': /clientlib/status-report/update\n",
      "WARNING:urllib3.connectionpool:Retrying (Retry(total=2, connect=None, read=None, redirect=None, status=None)) after connection broken by 'ReadTimeoutError(\"HTTPSConnectionPool(host='www.comet.ml', port=443): Read timed out. (read timeout=10)\",)': /clientlib/status-report/update\n",
      "WARNING:urllib3.connectionpool:Retrying (Retry(total=2, connect=None, read=None, redirect=None, status=None)) after connection broken by 'ReadTimeoutError(\"HTTPSConnectionPool(host='www.comet.ml', port=443): Read timed out. (read timeout=10)\",)': /clientlib/status-report/update\n",
      "WARNING:urllib3.connectionpool:Retrying (Retry(total=2, connect=None, read=None, redirect=None, status=None)) after connection broken by 'ReadTimeoutError(\"HTTPSConnectionPool(host='www.comet.ml', port=443): Read timed out. (read timeout=10)\",)': /clientlib/status-report/update\n",
      "WARNING:urllib3.connectionpool:Retrying (Retry(total=2, connect=None, read=None, redirect=None, status=None)) after connection broken by 'ReadTimeoutError(\"HTTPSConnectionPool(host='www.comet.ml', port=443): Read timed out. (read timeout=10)\",)': /clientlib/status-report/update\n",
      "WARNING:urllib3.connectionpool:Retrying (Retry(total=2, connect=None, read=None, redirect=None, status=None)) after connection broken by 'ReadTimeoutError(\"HTTPSConnectionPool(host='www.comet.ml', port=443): Read timed out. (read timeout=10)\",)': /clientlib/status-report/update\n",
      "WARNING:urllib3.connectionpool:Retrying (Retry(total=2, connect=None, read=None, redirect=None, status=None)) after connection broken by 'ReadTimeoutError(\"HTTPSConnectionPool(host='www.comet.ml', port=443): Read timed out. (read timeout=10)\",)': /clientlib/status-report/update\n",
      "WARNING:urllib3.connectionpool:Retrying (Retry(total=2, connect=None, read=None, redirect=None, status=None)) after connection broken by 'ReadTimeoutError(\"HTTPSConnectionPool(host='www.comet.ml', port=443): Read timed out. (read timeout=10)\",)': /clientlib/status-report/update\n",
      "WARNING:urllib3.connectionpool:Retrying (Retry(total=2, connect=None, read=None, redirect=None, status=None)) after connection broken by 'ReadTimeoutError(\"HTTPSConnectionPool(host='www.comet.ml', port=443): Read timed out. (read timeout=10)\",)': /clientlib/status-report/update\n",
      "WARNING:urllib3.connectionpool:Retrying (Retry(total=2, connect=None, read=None, redirect=None, status=None)) after connection broken by 'ReadTimeoutError(\"HTTPSConnectionPool(host='www.comet.ml', port=443): Read timed out. (read timeout=10)\",)': /clientlib/status-report/update\n",
      "WARNING:urllib3.connectionpool:Retrying (Retry(total=2, connect=None, read=None, redirect=None, status=None)) after connection broken by 'ReadTimeoutError(\"HTTPSConnectionPool(host='www.comet.ml', port=443): Read timed out. (read timeout=10)\",)': /clientlib/status-report/update\n",
      "WARNING:urllib3.connectionpool:Retrying (Retry(total=2, connect=None, read=None, redirect=None, status=None)) after connection broken by 'ReadTimeoutError(\"HTTPSConnectionPool(host='www.comet.ml', port=443): Read timed out. (read timeout=10)\",)': /clientlib/status-report/update\n",
      "WARNING:urllib3.connectionpool:Retrying (Retry(total=2, connect=None, read=None, redirect=None, status=None)) after connection broken by 'ReadTimeoutError(\"HTTPSConnectionPool(host='www.comet.ml', port=443): Read timed out. (read timeout=10)\",)': /clientlib/status-report/update\n",
      "WARNING:urllib3.connectionpool:Retrying (Retry(total=1, connect=None, read=None, redirect=None, status=None)) after connection broken by 'ReadTimeoutError(\"HTTPSConnectionPool(host='www.comet.ml', port=443): Read timed out. (read timeout=10)\",)': /clientlib/status-report/update\n",
      "WARNING:urllib3.connectionpool:Retrying (Retry(total=2, connect=None, read=None, redirect=None, status=None)) after connection broken by 'ReadTimeoutError(\"HTTPSConnectionPool(host='www.comet.ml', port=443): Read timed out. (read timeout=10)\",)': /clientlib/status-report/update\n",
      "WARNING:urllib3.connectionpool:Retrying (Retry(total=2, connect=None, read=None, redirect=None, status=None)) after connection broken by 'ReadTimeoutError(\"HTTPSConnectionPool(host='www.comet.ml', port=443): Read timed out. (read timeout=10)\",)': /clientlib/status-report/update\n",
      "WARNING:urllib3.connectionpool:Retrying (Retry(total=2, connect=None, read=None, redirect=None, status=None)) after connection broken by 'ReadTimeoutError(\"HTTPSConnectionPool(host='www.comet.ml', port=443): Read timed out. (read timeout=10)\",)': /clientlib/status-report/update\n",
      "WARNING:urllib3.connectionpool:Retrying (Retry(total=2, connect=None, read=None, redirect=None, status=None)) after connection broken by 'ReadTimeoutError(\"HTTPSConnectionPool(host='www.comet.ml', port=443): Read timed out. (read timeout=10)\",)': /clientlib/status-report/update\n",
      "WARNING:urllib3.connectionpool:Retrying (Retry(total=2, connect=None, read=None, redirect=None, status=None)) after connection broken by 'ReadTimeoutError(\"HTTPSConnectionPool(host='www.comet.ml', port=443): Read timed out. (read timeout=10)\",)': /clientlib/status-report/update\n",
      "WARNING:urllib3.connectionpool:Retrying (Retry(total=2, connect=None, read=None, redirect=None, status=None)) after connection broken by 'ReadTimeoutError(\"HTTPSConnectionPool(host='www.comet.ml', port=443): Read timed out. (read timeout=10)\",)': /clientlib/status-report/update\n",
      "WARNING:urllib3.connectionpool:Retrying (Retry(total=2, connect=None, read=None, redirect=None, status=None)) after connection broken by 'ReadTimeoutError(\"HTTPSConnectionPool(host='www.comet.ml', port=443): Read timed out. (read timeout=10)\",)': /clientlib/status-report/update\n",
      "WARNING:urllib3.connectionpool:Retrying (Retry(total=2, connect=None, read=None, redirect=None, status=None)) after connection broken by 'ReadTimeoutError(\"HTTPSConnectionPool(host='www.comet.ml', port=443): Read timed out. (read timeout=10)\",)': /clientlib/status-report/update\n",
      "WARNING:urllib3.connectionpool:Retrying (Retry(total=2, connect=None, read=None, redirect=None, status=None)) after connection broken by 'ReadTimeoutError(\"HTTPSConnectionPool(host='www.comet.ml', port=443): Read timed out. (read timeout=10)\",)': /clientlib/status-report/update\n",
      "WARNING:urllib3.connectionpool:Retrying (Retry(total=2, connect=None, read=None, redirect=None, status=None)) after connection broken by 'ReadTimeoutError(\"HTTPSConnectionPool(host='www.comet.ml', port=443): Read timed out. (read timeout=10)\",)': /clientlib/status-report/update\n",
      "WARNING:urllib3.connectionpool:Retrying (Retry(total=1, connect=None, read=None, redirect=None, status=None)) after connection broken by 'ReadTimeoutError(\"HTTPSConnectionPool(host='www.comet.ml', port=443): Read timed out. (read timeout=10)\",)': /clientlib/status-report/update\n",
      "WARNING:urllib3.connectionpool:Retrying (Retry(total=2, connect=None, read=None, redirect=None, status=None)) after connection broken by 'ReadTimeoutError(\"HTTPSConnectionPool(host='www.comet.ml', port=443): Read timed out. (read timeout=10)\",)': /clientlib/status-report/update\n",
      "WARNING:urllib3.connectionpool:Retrying (Retry(total=2, connect=None, read=None, redirect=None, status=None)) after connection broken by 'ReadTimeoutError(\"HTTPSConnectionPool(host='www.comet.ml', port=443): Read timed out. (read timeout=10)\",)': /clientlib/status-report/update\n",
      "WARNING:urllib3.connectionpool:Retrying (Retry(total=2, connect=None, read=None, redirect=None, status=None)) after connection broken by 'ReadTimeoutError(\"HTTPSConnectionPool(host='www.comet.ml', port=443): Read timed out. (read timeout=10)\",)': /clientlib/status-report/update\n",
      "WARNING:urllib3.connectionpool:Retrying (Retry(total=2, connect=None, read=None, redirect=None, status=None)) after connection broken by 'ReadTimeoutError(\"HTTPSConnectionPool(host='www.comet.ml', port=443): Read timed out. (read timeout=10)\",)': /clientlib/status-report/update\n",
      "WARNING:urllib3.connectionpool:Retrying (Retry(total=2, connect=None, read=None, redirect=None, status=None)) after connection broken by 'ReadTimeoutError(\"HTTPSConnectionPool(host='www.comet.ml', port=443): Read timed out. (read timeout=10)\",)': /clientlib/status-report/update\n",
      "WARNING:urllib3.connectionpool:Retrying (Retry(total=2, connect=None, read=None, redirect=None, status=None)) after connection broken by 'ReadTimeoutError(\"HTTPSConnectionPool(host='www.comet.ml', port=443): Read timed out. (read timeout=10)\",)': /clientlib/status-report/update\n",
      "WARNING:urllib3.connectionpool:Retrying (Retry(total=2, connect=None, read=None, redirect=None, status=None)) after connection broken by 'ReadTimeoutError(\"HTTPSConnectionPool(host='www.comet.ml', port=443): Read timed out. (read timeout=10)\",)': /clientlib/status-report/update\n",
      "WARNING:urllib3.connectionpool:Retrying (Retry(total=2, connect=None, read=None, redirect=None, status=None)) after connection broken by 'ReadTimeoutError(\"HTTPSConnectionPool(host='www.comet.ml', port=443): Read timed out. (read timeout=10)\",)': /clientlib/status-report/update\n",
      "WARNING:urllib3.connectionpool:Retrying (Retry(total=2, connect=None, read=None, redirect=None, status=None)) after connection broken by 'ReadTimeoutError(\"HTTPSConnectionPool(host='www.comet.ml', port=443): Read timed out. (read timeout=10)\",)': /clientlib/status-report/update\n",
      "WARNING:urllib3.connectionpool:Retrying (Retry(total=2, connect=None, read=None, redirect=None, status=None)) after connection broken by 'ReadTimeoutError(\"HTTPSConnectionPool(host='www.comet.ml', port=443): Read timed out. (read timeout=10)\",)': /clientlib/status-report/update\n",
      "WARNING:urllib3.connectionpool:Retrying (Retry(total=2, connect=None, read=None, redirect=None, status=None)) after connection broken by 'ReadTimeoutError(\"HTTPSConnectionPool(host='www.comet.ml', port=443): Read timed out. (read timeout=10)\",)': /clientlib/status-report/update\n",
      "WARNING:urllib3.connectionpool:Retrying (Retry(total=2, connect=None, read=None, redirect=None, status=None)) after connection broken by 'ReadTimeoutError(\"HTTPSConnectionPool(host='www.comet.ml', port=443): Read timed out. (read timeout=10)\",)': /clientlib/status-report/update\n",
      "WARNING:urllib3.connectionpool:Retrying (Retry(total=2, connect=None, read=None, redirect=None, status=None)) after connection broken by 'ReadTimeoutError(\"HTTPSConnectionPool(host='www.comet.ml', port=443): Read timed out. (read timeout=10)\",)': /clientlib/status-report/update\n",
      "WARNING:urllib3.connectionpool:Retrying (Retry(total=2, connect=None, read=None, redirect=None, status=None)) after connection broken by 'ReadTimeoutError(\"HTTPSConnectionPool(host='www.comet.ml', port=443): Read timed out. (read timeout=10)\",)': /clientlib/status-report/update\n",
      "WARNING:urllib3.connectionpool:Retrying (Retry(total=2, connect=None, read=None, redirect=None, status=None)) after connection broken by 'ReadTimeoutError(\"HTTPSConnectionPool(host='www.comet.ml', port=443): Read timed out. (read timeout=10)\",)': /clientlib/status-report/update\n",
      "WARNING:urllib3.connectionpool:Retrying (Retry(total=1, connect=None, read=None, redirect=None, status=None)) after connection broken by 'ReadTimeoutError(\"HTTPSConnectionPool(host='www.comet.ml', port=443): Read timed out. (read timeout=10)\",)': /clientlib/status-report/update\n",
      "WARNING:urllib3.connectionpool:Retrying (Retry(total=2, connect=None, read=None, redirect=None, status=None)) after connection broken by 'ReadTimeoutError(\"HTTPSConnectionPool(host='www.comet.ml', port=443): Read timed out. (read timeout=10)\",)': /clientlib/status-report/update\n",
      "WARNING:urllib3.connectionpool:Retrying (Retry(total=2, connect=None, read=None, redirect=None, status=None)) after connection broken by 'ReadTimeoutError(\"HTTPSConnectionPool(host='www.comet.ml', port=443): Read timed out. (read timeout=10)\",)': /clientlib/status-report/update\n",
      "WARNING:urllib3.connectionpool:Retrying (Retry(total=2, connect=None, read=None, redirect=None, status=None)) after connection broken by 'ReadTimeoutError(\"HTTPSConnectionPool(host='www.comet.ml', port=443): Read timed out. (read timeout=10)\",)': /clientlib/status-report/update\n",
      "WARNING:urllib3.connectionpool:Retrying (Retry(total=2, connect=None, read=None, redirect=None, status=None)) after connection broken by 'ReadTimeoutError(\"HTTPSConnectionPool(host='www.comet.ml', port=443): Read timed out. (read timeout=10)\",)': /clientlib/status-report/update\n",
      "WARNING:urllib3.connectionpool:Retrying (Retry(total=1, connect=None, read=None, redirect=None, status=None)) after connection broken by 'ReadTimeoutError(\"HTTPSConnectionPool(host='www.comet.ml', port=443): Read timed out. (read timeout=10)\",)': /clientlib/status-report/update\n",
      "WARNING:urllib3.connectionpool:Retrying (Retry(total=2, connect=None, read=None, redirect=None, status=None)) after connection broken by 'ReadTimeoutError(\"HTTPSConnectionPool(host='www.comet.ml', port=443): Read timed out. (read timeout=10)\",)': /clientlib/status-report/update\n",
      "WARNING:urllib3.connectionpool:Retrying (Retry(total=2, connect=None, read=None, redirect=None, status=None)) after connection broken by 'ReadTimeoutError(\"HTTPSConnectionPool(host='www.comet.ml', port=443): Read timed out. (read timeout=10)\",)': /clientlib/status-report/update\n",
      "WARNING:urllib3.connectionpool:Retrying (Retry(total=2, connect=None, read=None, redirect=None, status=None)) after connection broken by 'ReadTimeoutError(\"HTTPSConnectionPool(host='www.comet.ml', port=443): Read timed out. (read timeout=10)\",)': /clientlib/status-report/update\n",
      "WARNING:urllib3.connectionpool:Retrying (Retry(total=2, connect=None, read=None, redirect=None, status=None)) after connection broken by 'ReadTimeoutError(\"HTTPSConnectionPool(host='www.comet.ml', port=443): Read timed out. (read timeout=10)\",)': /clientlib/status-report/update\n",
      "WARNING:urllib3.connectionpool:Retrying (Retry(total=2, connect=None, read=None, redirect=None, status=None)) after connection broken by 'ReadTimeoutError(\"HTTPSConnectionPool(host='www.comet.ml', port=443): Read timed out. (read timeout=10)\",)': /clientlib/status-report/update\n",
      "WARNING:urllib3.connectionpool:Retrying (Retry(total=2, connect=None, read=None, redirect=None, status=None)) after connection broken by 'ReadTimeoutError(\"HTTPSConnectionPool(host='www.comet.ml', port=443): Read timed out. (read timeout=10)\",)': /clientlib/status-report/update\n",
      "WARNING:urllib3.connectionpool:Retrying (Retry(total=2, connect=None, read=None, redirect=None, status=None)) after connection broken by 'ReadTimeoutError(\"HTTPSConnectionPool(host='www.comet.ml', port=443): Read timed out. (read timeout=10)\",)': /clientlib/status-report/update\n",
      "WARNING:urllib3.connectionpool:Retrying (Retry(total=1, connect=None, read=None, redirect=None, status=None)) after connection broken by 'ReadTimeoutError(\"HTTPSConnectionPool(host='www.comet.ml', port=443): Read timed out. (read timeout=10)\",)': /clientlib/status-report/update\n",
      "WARNING:urllib3.connectionpool:Retrying (Retry(total=2, connect=None, read=None, redirect=None, status=None)) after connection broken by 'ReadTimeoutError(\"HTTPSConnectionPool(host='www.comet.ml', port=443): Read timed out. (read timeout=10)\",)': /clientlib/status-report/update\n",
      "WARNING:urllib3.connectionpool:Retrying (Retry(total=2, connect=None, read=None, redirect=None, status=None)) after connection broken by 'ReadTimeoutError(\"HTTPSConnectionPool(host='www.comet.ml', port=443): Read timed out. (read timeout=10)\",)': /clientlib/status-report/update\n",
      "WARNING:urllib3.connectionpool:Retrying (Retry(total=2, connect=None, read=None, redirect=None, status=None)) after connection broken by 'ReadTimeoutError(\"HTTPSConnectionPool(host='www.comet.ml', port=443): Read timed out. (read timeout=10)\",)': /clientlib/status-report/update\n",
      "WARNING:urllib3.connectionpool:Retrying (Retry(total=2, connect=None, read=None, redirect=None, status=None)) after connection broken by 'ReadTimeoutError(\"HTTPSConnectionPool(host='www.comet.ml', port=443): Read timed out. (read timeout=10)\",)': /clientlib/status-report/update\n",
      "WARNING:urllib3.connectionpool:Retrying (Retry(total=2, connect=None, read=None, redirect=None, status=None)) after connection broken by 'ReadTimeoutError(\"HTTPSConnectionPool(host='www.comet.ml', port=443): Read timed out. (read timeout=10)\",)': /clientlib/status-report/update\n",
      "WARNING:urllib3.connectionpool:Retrying (Retry(total=2, connect=None, read=None, redirect=None, status=None)) after connection broken by 'ReadTimeoutError(\"HTTPSConnectionPool(host='www.comet.ml', port=443): Read timed out. (read timeout=10)\",)': /clientlib/status-report/update\n",
      "WARNING:urllib3.connectionpool:Retrying (Retry(total=2, connect=None, read=None, redirect=None, status=None)) after connection broken by 'ReadTimeoutError(\"HTTPSConnectionPool(host='www.comet.ml', port=443): Read timed out. (read timeout=10)\",)': /clientlib/status-report/update\n",
      "WARNING:urllib3.connectionpool:Retrying (Retry(total=2, connect=None, read=None, redirect=None, status=None)) after connection broken by 'ReadTimeoutError(\"HTTPSConnectionPool(host='www.comet.ml', port=443): Read timed out. (read timeout=10)\",)': /clientlib/status-report/update\n",
      "WARNING:urllib3.connectionpool:Retrying (Retry(total=2, connect=None, read=None, redirect=None, status=None)) after connection broken by 'ReadTimeoutError(\"HTTPSConnectionPool(host='www.comet.ml', port=443): Read timed out. (read timeout=10)\",)': /clientlib/status-report/update\n",
      "WARNING:urllib3.connectionpool:Retrying (Retry(total=2, connect=None, read=None, redirect=None, status=None)) after connection broken by 'ReadTimeoutError(\"HTTPSConnectionPool(host='www.comet.ml', port=443): Read timed out. (read timeout=10)\",)': /clientlib/status-report/update\n",
      "WARNING:urllib3.connectionpool:Retrying (Retry(total=2, connect=None, read=None, redirect=None, status=None)) after connection broken by 'ReadTimeoutError(\"HTTPSConnectionPool(host='www.comet.ml', port=443): Read timed out. (read timeout=10)\",)': /clientlib/status-report/update\n",
      "WARNING:urllib3.connectionpool:Retrying (Retry(total=1, connect=None, read=None, redirect=None, status=None)) after connection broken by 'ReadTimeoutError(\"HTTPSConnectionPool(host='www.comet.ml', port=443): Read timed out. (read timeout=10)\",)': /clientlib/status-report/update\n",
      "WARNING:urllib3.connectionpool:Retrying (Retry(total=2, connect=None, read=None, redirect=None, status=None)) after connection broken by 'ReadTimeoutError(\"HTTPSConnectionPool(host='www.comet.ml', port=443): Read timed out. (read timeout=10)\",)': /clientlib/status-report/update\n",
      "WARNING:urllib3.connectionpool:Retrying (Retry(total=2, connect=None, read=None, redirect=None, status=None)) after connection broken by 'ReadTimeoutError(\"HTTPSConnectionPool(host='www.comet.ml', port=443): Read timed out. (read timeout=10)\",)': /clientlib/status-report/update\n",
      "WARNING:urllib3.connectionpool:Retrying (Retry(total=2, connect=None, read=None, redirect=None, status=None)) after connection broken by 'ReadTimeoutError(\"HTTPSConnectionPool(host='www.comet.ml', port=443): Read timed out. (read timeout=10)\",)': /clientlib/status-report/update\n",
      "WARNING:urllib3.connectionpool:Retrying (Retry(total=2, connect=None, read=None, redirect=None, status=None)) after connection broken by 'ReadTimeoutError(\"HTTPSConnectionPool(host='www.comet.ml', port=443): Read timed out. (read timeout=10)\",)': /clientlib/status-report/update\n",
      "WARNING:urllib3.connectionpool:Retrying (Retry(total=2, connect=None, read=None, redirect=None, status=None)) after connection broken by 'ReadTimeoutError(\"HTTPSConnectionPool(host='www.comet.ml', port=443): Read timed out. (read timeout=10)\",)': /clientlib/status-report/update\n",
      "WARNING:urllib3.connectionpool:Retrying (Retry(total=1, connect=None, read=None, redirect=None, status=None)) after connection broken by 'ReadTimeoutError(\"HTTPSConnectionPool(host='www.comet.ml', port=443): Read timed out. (read timeout=10)\",)': /clientlib/status-report/update\n",
      "WARNING:urllib3.connectionpool:Retrying (Retry(total=2, connect=None, read=None, redirect=None, status=None)) after connection broken by 'ReadTimeoutError(\"HTTPSConnectionPool(host='www.comet.ml', port=443): Read timed out. (read timeout=10)\",)': /clientlib/status-report/update\n",
      "WARNING:urllib3.connectionpool:Retrying (Retry(total=2, connect=None, read=None, redirect=None, status=None)) after connection broken by 'ReadTimeoutError(\"HTTPSConnectionPool(host='www.comet.ml', port=443): Read timed out. (read timeout=10)\",)': /clientlib/status-report/update\n",
      "WARNING:urllib3.connectionpool:Retrying (Retry(total=2, connect=None, read=None, redirect=None, status=None)) after connection broken by 'ReadTimeoutError(\"HTTPSConnectionPool(host='www.comet.ml', port=443): Read timed out. (read timeout=10)\",)': /clientlib/status-report/update\n",
      "WARNING:urllib3.connectionpool:Retrying (Retry(total=2, connect=None, read=None, redirect=None, status=None)) after connection broken by 'ReadTimeoutError(\"HTTPSConnectionPool(host='www.comet.ml', port=443): Read timed out. (read timeout=10)\",)': /clientlib/status-report/update\n",
      "WARNING:urllib3.connectionpool:Retrying (Retry(total=1, connect=None, read=None, redirect=None, status=None)) after connection broken by 'ReadTimeoutError(\"HTTPSConnectionPool(host='www.comet.ml', port=443): Read timed out. (read timeout=10)\",)': /clientlib/status-report/update\n",
      "WARNING:urllib3.connectionpool:Retrying (Retry(total=2, connect=None, read=None, redirect=None, status=None)) after connection broken by 'ReadTimeoutError(\"HTTPSConnectionPool(host='www.comet.ml', port=443): Read timed out. (read timeout=10)\",)': /clientlib/status-report/update\n",
      "WARNING:urllib3.connectionpool:Retrying (Retry(total=2, connect=None, read=None, redirect=None, status=None)) after connection broken by 'ReadTimeoutError(\"HTTPSConnectionPool(host='www.comet.ml', port=443): Read timed out. (read timeout=10)\",)': /clientlib/status-report/update\n",
      "WARNING:urllib3.connectionpool:Retrying (Retry(total=2, connect=None, read=None, redirect=None, status=None)) after connection broken by 'ReadTimeoutError(\"HTTPSConnectionPool(host='www.comet.ml', port=443): Read timed out. (read timeout=10)\",)': /clientlib/status-report/update\n",
      "WARNING:urllib3.connectionpool:Retrying (Retry(total=2, connect=None, read=None, redirect=None, status=None)) after connection broken by 'ReadTimeoutError(\"HTTPSConnectionPool(host='www.comet.ml', port=443): Read timed out. (read timeout=10)\",)': /clientlib/status-report/update\n",
      "WARNING:urllib3.connectionpool:Retrying (Retry(total=0, connect=None, read=None, redirect=None, status=None)) after connection broken by 'ReadTimeoutError(\"HTTPSConnectionPool(host='www.comet.ml', port=443): Read timed out. (read timeout=10)\",)': /clientlib/status-report/update\n",
      "WARNING:urllib3.connectionpool:Retrying (Retry(total=1, connect=None, read=None, redirect=None, status=None)) after connection broken by 'ReadTimeoutError(\"HTTPSConnectionPool(host='www.comet.ml', port=443): Read timed out. (read timeout=10)\",)': /clientlib/status-report/update\n",
      "WARNING:urllib3.connectionpool:Retrying (Retry(total=1, connect=None, read=None, redirect=None, status=None)) after connection broken by 'ReadTimeoutError(\"HTTPSConnectionPool(host='www.comet.ml', port=443): Read timed out. (read timeout=10)\",)': /clientlib/status-report/update\n",
      "WARNING:urllib3.connectionpool:Retrying (Retry(total=2, connect=None, read=None, redirect=None, status=None)) after connection broken by 'ReadTimeoutError(\"HTTPSConnectionPool(host='www.comet.ml', port=443): Read timed out. (read timeout=10)\",)': /clientlib/status-report/update\n",
      "WARNING:urllib3.connectionpool:Retrying (Retry(total=2, connect=None, read=None, redirect=None, status=None)) after connection broken by 'ReadTimeoutError(\"HTTPSConnectionPool(host='www.comet.ml', port=443): Read timed out. (read timeout=10)\",)': /clientlib/status-report/update\n",
      "WARNING:urllib3.connectionpool:Retrying (Retry(total=2, connect=None, read=None, redirect=None, status=None)) after connection broken by 'ReadTimeoutError(\"HTTPSConnectionPool(host='www.comet.ml', port=443): Read timed out. (read timeout=10)\",)': /clientlib/status-report/update\n",
      "WARNING:urllib3.connectionpool:Retrying (Retry(total=2, connect=None, read=None, redirect=None, status=None)) after connection broken by 'ReadTimeoutError(\"HTTPSConnectionPool(host='www.comet.ml', port=443): Read timed out. (read timeout=10)\",)': /clientlib/status-report/update\n",
      "WARNING:urllib3.connectionpool:Retrying (Retry(total=0, connect=None, read=None, redirect=None, status=None)) after connection broken by 'ReadTimeoutError(\"HTTPSConnectionPool(host='www.comet.ml', port=443): Read timed out. (read timeout=10)\",)': /clientlib/status-report/update\n",
      "WARNING:urllib3.connectionpool:Retrying (Retry(total=2, connect=None, read=None, redirect=None, status=None)) after connection broken by 'ReadTimeoutError(\"HTTPSConnectionPool(host='www.comet.ml', port=443): Read timed out. (read timeout=10)\",)': /clientlib/status-report/update\n",
      "WARNING:urllib3.connectionpool:Retrying (Retry(total=2, connect=None, read=None, redirect=None, status=None)) after connection broken by 'ReadTimeoutError(\"HTTPSConnectionPool(host='www.comet.ml', port=443): Read timed out. (read timeout=10)\",)': /clientlib/status-report/update\n",
      "WARNING:urllib3.connectionpool:Retrying (Retry(total=2, connect=None, read=None, redirect=None, status=None)) after connection broken by 'ReadTimeoutError(\"HTTPSConnectionPool(host='www.comet.ml', port=443): Read timed out. (read timeout=10)\",)': /clientlib/status-report/update\n",
      "WARNING:urllib3.connectionpool:Retrying (Retry(total=2, connect=None, read=None, redirect=None, status=None)) after connection broken by 'ReadTimeoutError(\"HTTPSConnectionPool(host='www.comet.ml', port=443): Read timed out. (read timeout=10)\",)': /clientlib/status-report/update\n",
      "WARNING:urllib3.connectionpool:Retrying (Retry(total=2, connect=None, read=None, redirect=None, status=None)) after connection broken by 'ReadTimeoutError(\"HTTPSConnectionPool(host='www.comet.ml', port=443): Read timed out. (read timeout=10)\",)': /clientlib/status-report/update\n",
      "WARNING:urllib3.connectionpool:Retrying (Retry(total=2, connect=None, read=None, redirect=None, status=None)) after connection broken by 'ReadTimeoutError(\"HTTPSConnectionPool(host='www.comet.ml', port=443): Read timed out. (read timeout=10)\",)': /clientlib/status-report/update\n",
      "WARNING:urllib3.connectionpool:Retrying (Retry(total=2, connect=None, read=None, redirect=None, status=None)) after connection broken by 'ReadTimeoutError(\"HTTPSConnectionPool(host='www.comet.ml', port=443): Read timed out. (read timeout=10)\",)': /clientlib/status-report/update\n",
      "WARNING:urllib3.connectionpool:Retrying (Retry(total=2, connect=None, read=None, redirect=None, status=None)) after connection broken by 'ReadTimeoutError(\"HTTPSConnectionPool(host='www.comet.ml', port=443): Read timed out. (read timeout=10)\",)': /clientlib/status-report/update\n",
      "WARNING:urllib3.connectionpool:Retrying (Retry(total=2, connect=None, read=None, redirect=None, status=None)) after connection broken by 'ReadTimeoutError(\"HTTPSConnectionPool(host='www.comet.ml', port=443): Read timed out. (read timeout=10)\",)': /clientlib/status-report/update\n",
      "WARNING:urllib3.connectionpool:Retrying (Retry(total=2, connect=None, read=None, redirect=None, status=None)) after connection broken by 'ReadTimeoutError(\"HTTPSConnectionPool(host='www.comet.ml', port=443): Read timed out. (read timeout=10)\",)': /clientlib/status-report/update\n",
      "WARNING:urllib3.connectionpool:Retrying (Retry(total=1, connect=None, read=None, redirect=None, status=None)) after connection broken by 'ReadTimeoutError(\"HTTPSConnectionPool(host='www.comet.ml', port=443): Read timed out. (read timeout=10)\",)': /clientlib/status-report/update\n",
      "WARNING:urllib3.connectionpool:Retrying (Retry(total=1, connect=None, read=None, redirect=None, status=None)) after connection broken by 'ReadTimeoutError(\"HTTPSConnectionPool(host='www.comet.ml', port=443): Read timed out. (read timeout=10)\",)': /clientlib/status-report/update\n",
      "WARNING:urllib3.connectionpool:Retrying (Retry(total=1, connect=None, read=None, redirect=None, status=None)) after connection broken by 'ReadTimeoutError(\"HTTPSConnectionPool(host='www.comet.ml', port=443): Read timed out. (read timeout=10)\",)': /clientlib/status-report/update\n",
      "WARNING:urllib3.connectionpool:Retrying (Retry(total=2, connect=None, read=None, redirect=None, status=None)) after connection broken by 'ReadTimeoutError(\"HTTPSConnectionPool(host='www.comet.ml', port=443): Read timed out. (read timeout=10)\",)': /clientlib/status-report/update\n",
      "WARNING:urllib3.connectionpool:Retrying (Retry(total=2, connect=None, read=None, redirect=None, status=None)) after connection broken by 'ReadTimeoutError(\"HTTPSConnectionPool(host='www.comet.ml', port=443): Read timed out. (read timeout=10)\",)': /clientlib/status-report/update\n",
      "WARNING:urllib3.connectionpool:Retrying (Retry(total=2, connect=None, read=None, redirect=None, status=None)) after connection broken by 'ReadTimeoutError(\"HTTPSConnectionPool(host='www.comet.ml', port=443): Read timed out. (read timeout=10)\",)': /clientlib/status-report/update\n",
      "WARNING:urllib3.connectionpool:Retrying (Retry(total=2, connect=None, read=None, redirect=None, status=None)) after connection broken by 'ReadTimeoutError(\"HTTPSConnectionPool(host='www.comet.ml', port=443): Read timed out. (read timeout=10)\",)': /clientlib/status-report/update\n",
      "WARNING:urllib3.connectionpool:Retrying (Retry(total=2, connect=None, read=None, redirect=None, status=None)) after connection broken by 'ReadTimeoutError(\"HTTPSConnectionPool(host='www.comet.ml', port=443): Read timed out. (read timeout=10)\",)': /clientlib/status-report/update\n",
      "WARNING:urllib3.connectionpool:Retrying (Retry(total=2, connect=None, read=None, redirect=None, status=None)) after connection broken by 'ReadTimeoutError(\"HTTPSConnectionPool(host='www.comet.ml', port=443): Read timed out. (read timeout=10)\",)': /clientlib/status-report/update\n",
      "WARNING:urllib3.connectionpool:Retrying (Retry(total=2, connect=None, read=None, redirect=None, status=None)) after connection broken by 'ReadTimeoutError(\"HTTPSConnectionPool(host='www.comet.ml', port=443): Read timed out. (read timeout=10)\",)': /clientlib/status-report/update\n",
      "WARNING:urllib3.connectionpool:Retrying (Retry(total=2, connect=None, read=None, redirect=None, status=None)) after connection broken by 'ReadTimeoutError(\"HTTPSConnectionPool(host='www.comet.ml', port=443): Read timed out. (read timeout=10)\",)': /clientlib/status-report/update\n",
      "WARNING:urllib3.connectionpool:Retrying (Retry(total=2, connect=None, read=None, redirect=None, status=None)) after connection broken by 'ReadTimeoutError(\"HTTPSConnectionPool(host='www.comet.ml', port=443): Read timed out. (read timeout=10)\",)': /clientlib/status-report/update\n",
      "WARNING:urllib3.connectionpool:Retrying (Retry(total=2, connect=None, read=None, redirect=None, status=None)) after connection broken by 'ReadTimeoutError(\"HTTPSConnectionPool(host='www.comet.ml', port=443): Read timed out. (read timeout=10)\",)': /clientlib/status-report/update\n",
      "WARNING:urllib3.connectionpool:Retrying (Retry(total=1, connect=None, read=None, redirect=None, status=None)) after connection broken by 'ReadTimeoutError(\"HTTPSConnectionPool(host='www.comet.ml', port=443): Read timed out. (read timeout=10)\",)': /clientlib/status-report/update\n",
      "WARNING:urllib3.connectionpool:Retrying (Retry(total=1, connect=None, read=None, redirect=None, status=None)) after connection broken by 'ReadTimeoutError(\"HTTPSConnectionPool(host='www.comet.ml', port=443): Read timed out. (read timeout=10)\",)': /clientlib/status-report/update\n",
      "WARNING:urllib3.connectionpool:Retrying (Retry(total=2, connect=None, read=None, redirect=None, status=None)) after connection broken by 'ReadTimeoutError(\"HTTPSConnectionPool(host='www.comet.ml', port=443): Read timed out. (read timeout=10)\",)': /clientlib/status-report/update\n",
      "WARNING:urllib3.connectionpool:Retrying (Retry(total=2, connect=None, read=None, redirect=None, status=None)) after connection broken by 'ReadTimeoutError(\"HTTPSConnectionPool(host='www.comet.ml', port=443): Read timed out. (read timeout=10)\",)': /clientlib/status-report/update\n",
      "WARNING:urllib3.connectionpool:Retrying (Retry(total=2, connect=None, read=None, redirect=None, status=None)) after connection broken by 'ReadTimeoutError(\"HTTPSConnectionPool(host='www.comet.ml', port=443): Read timed out. (read timeout=10)\",)': /clientlib/status-report/update\n",
      "WARNING:urllib3.connectionpool:Retrying (Retry(total=2, connect=None, read=None, redirect=None, status=None)) after connection broken by 'ReadTimeoutError(\"HTTPSConnectionPool(host='www.comet.ml', port=443): Read timed out. (read timeout=10)\",)': /clientlib/status-report/update\n",
      "WARNING:urllib3.connectionpool:Retrying (Retry(total=2, connect=None, read=None, redirect=None, status=None)) after connection broken by 'ReadTimeoutError(\"HTTPSConnectionPool(host='www.comet.ml', port=443): Read timed out. (read timeout=10)\",)': /clientlib/status-report/update\n",
      "WARNING:urllib3.connectionpool:Retrying (Retry(total=2, connect=None, read=None, redirect=None, status=None)) after connection broken by 'ReadTimeoutError(\"HTTPSConnectionPool(host='www.comet.ml', port=443): Read timed out. (read timeout=10)\",)': /clientlib/status-report/update\n",
      "WARNING:urllib3.connectionpool:Retrying (Retry(total=0, connect=None, read=None, redirect=None, status=None)) after connection broken by 'ReadTimeoutError(\"HTTPSConnectionPool(host='www.comet.ml', port=443): Read timed out. (read timeout=10)\",)': /clientlib/status-report/update\n",
      "WARNING:urllib3.connectionpool:Retrying (Retry(total=2, connect=None, read=None, redirect=None, status=None)) after connection broken by 'ReadTimeoutError(\"HTTPSConnectionPool(host='www.comet.ml', port=443): Read timed out. (read timeout=10)\",)': /clientlib/status-report/update\n",
      "WARNING:urllib3.connectionpool:Retrying (Retry(total=2, connect=None, read=None, redirect=None, status=None)) after connection broken by 'ReadTimeoutError(\"HTTPSConnectionPool(host='www.comet.ml', port=443): Read timed out. (read timeout=10)\",)': /clientlib/status-report/update\n",
      "WARNING:urllib3.connectionpool:Retrying (Retry(total=2, connect=None, read=None, redirect=None, status=None)) after connection broken by 'ReadTimeoutError(\"HTTPSConnectionPool(host='www.comet.ml', port=443): Read timed out. (read timeout=10)\",)': /clientlib/status-report/update\n",
      "WARNING:urllib3.connectionpool:Retrying (Retry(total=2, connect=None, read=None, redirect=None, status=None)) after connection broken by 'ReadTimeoutError(\"HTTPSConnectionPool(host='www.comet.ml', port=443): Read timed out. (read timeout=10)\",)': /clientlib/status-report/update\n",
      "WARNING:urllib3.connectionpool:Retrying (Retry(total=2, connect=None, read=None, redirect=None, status=None)) after connection broken by 'ReadTimeoutError(\"HTTPSConnectionPool(host='www.comet.ml', port=443): Read timed out. (read timeout=10)\",)': /clientlib/status-report/update\n",
      "WARNING:urllib3.connectionpool:Retrying (Retry(total=2, connect=None, read=None, redirect=None, status=None)) after connection broken by 'ReadTimeoutError(\"HTTPSConnectionPool(host='www.comet.ml', port=443): Read timed out. (read timeout=10)\",)': /clientlib/status-report/update\n",
      "WARNING:urllib3.connectionpool:Retrying (Retry(total=2, connect=None, read=None, redirect=None, status=None)) after connection broken by 'ReadTimeoutError(\"HTTPSConnectionPool(host='www.comet.ml', port=443): Read timed out. (read timeout=10)\",)': /clientlib/status-report/update\n",
      "WARNING:urllib3.connectionpool:Retrying (Retry(total=2, connect=None, read=None, redirect=None, status=None)) after connection broken by 'ReadTimeoutError(\"HTTPSConnectionPool(host='www.comet.ml', port=443): Read timed out. (read timeout=10)\",)': /clientlib/status-report/update\n",
      "WARNING:urllib3.connectionpool:Retrying (Retry(total=2, connect=None, read=None, redirect=None, status=None)) after connection broken by 'ReadTimeoutError(\"HTTPSConnectionPool(host='www.comet.ml', port=443): Read timed out. (read timeout=10)\",)': /clientlib/status-report/update\n",
      "WARNING:urllib3.connectionpool:Retrying (Retry(total=1, connect=None, read=None, redirect=None, status=None)) after connection broken by 'ReadTimeoutError(\"HTTPSConnectionPool(host='www.comet.ml', port=443): Read timed out. (read timeout=10)\",)': /clientlib/status-report/update\n",
      "WARNING:urllib3.connectionpool:Retrying (Retry(total=2, connect=None, read=None, redirect=None, status=None)) after connection broken by 'ReadTimeoutError(\"HTTPSConnectionPool(host='www.comet.ml', port=443): Read timed out. (read timeout=10)\",)': /clientlib/status-report/update\n",
      "WARNING:urllib3.connectionpool:Retrying (Retry(total=2, connect=None, read=None, redirect=None, status=None)) after connection broken by 'ReadTimeoutError(\"HTTPSConnectionPool(host='www.comet.ml', port=443): Read timed out. (read timeout=10)\",)': /clientlib/status-report/update\n",
      "WARNING:urllib3.connectionpool:Retrying (Retry(total=2, connect=None, read=None, redirect=None, status=None)) after connection broken by 'ReadTimeoutError(\"HTTPSConnectionPool(host='www.comet.ml', port=443): Read timed out. (read timeout=10)\",)': /clientlib/status-report/update\n",
      "WARNING:urllib3.connectionpool:Retrying (Retry(total=2, connect=None, read=None, redirect=None, status=None)) after connection broken by 'ReadTimeoutError(\"HTTPSConnectionPool(host='www.comet.ml', port=443): Read timed out. (read timeout=10)\",)': /clientlib/status-report/update\n",
      "WARNING:urllib3.connectionpool:Retrying (Retry(total=2, connect=None, read=None, redirect=None, status=None)) after connection broken by 'ReadTimeoutError(\"HTTPSConnectionPool(host='www.comet.ml', port=443): Read timed out. (read timeout=10)\",)': /clientlib/status-report/update\n",
      "WARNING:urllib3.connectionpool:Retrying (Retry(total=2, connect=None, read=None, redirect=None, status=None)) after connection broken by 'ReadTimeoutError(\"HTTPSConnectionPool(host='www.comet.ml', port=443): Read timed out. (read timeout=10)\",)': /clientlib/status-report/update\n",
      "WARNING:urllib3.connectionpool:Retrying (Retry(total=2, connect=None, read=None, redirect=None, status=None)) after connection broken by 'ReadTimeoutError(\"HTTPSConnectionPool(host='www.comet.ml', port=443): Read timed out. (read timeout=10)\",)': /clientlib/status-report/update\n",
      "WARNING:urllib3.connectionpool:Retrying (Retry(total=2, connect=None, read=None, redirect=None, status=None)) after connection broken by 'ReadTimeoutError(\"HTTPSConnectionPool(host='www.comet.ml', port=443): Read timed out. (read timeout=10)\",)': /clientlib/status-report/update\n",
      "WARNING:urllib3.connectionpool:Retrying (Retry(total=2, connect=None, read=None, redirect=None, status=None)) after connection broken by 'ReadTimeoutError(\"HTTPSConnectionPool(host='www.comet.ml', port=443): Read timed out. (read timeout=10)\",)': /clientlib/status-report/update\n",
      "WARNING:urllib3.connectionpool:Retrying (Retry(total=2, connect=None, read=None, redirect=None, status=None)) after connection broken by 'ReadTimeoutError(\"HTTPSConnectionPool(host='www.comet.ml', port=443): Read timed out. (read timeout=10)\",)': /clientlib/status-report/update\n",
      "WARNING:urllib3.connectionpool:Retrying (Retry(total=2, connect=None, read=None, redirect=None, status=None)) after connection broken by 'ReadTimeoutError(\"HTTPSConnectionPool(host='www.comet.ml', port=443): Read timed out. (read timeout=10)\",)': /clientlib/status-report/update\n",
      "WARNING:urllib3.connectionpool:Retrying (Retry(total=2, connect=None, read=None, redirect=None, status=None)) after connection broken by 'ReadTimeoutError(\"HTTPSConnectionPool(host='www.comet.ml', port=443): Read timed out. (read timeout=10)\",)': /clientlib/status-report/update\n",
      "WARNING:urllib3.connectionpool:Retrying (Retry(total=1, connect=None, read=None, redirect=None, status=None)) after connection broken by 'ReadTimeoutError(\"HTTPSConnectionPool(host='www.comet.ml', port=443): Read timed out. (read timeout=10)\",)': /clientlib/status-report/update\n",
      "WARNING:urllib3.connectionpool:Retrying (Retry(total=2, connect=None, read=None, redirect=None, status=None)) after connection broken by 'ReadTimeoutError(\"HTTPSConnectionPool(host='www.comet.ml', port=443): Read timed out. (read timeout=10)\",)': /clientlib/status-report/update\n",
      "WARNING:urllib3.connectionpool:Retrying (Retry(total=2, connect=None, read=None, redirect=None, status=None)) after connection broken by 'ReadTimeoutError(\"HTTPSConnectionPool(host='www.comet.ml', port=443): Read timed out. (read timeout=10)\",)': /clientlib/status-report/update\n",
      "WARNING:urllib3.connectionpool:Retrying (Retry(total=2, connect=None, read=None, redirect=None, status=None)) after connection broken by 'ReadTimeoutError(\"HTTPSConnectionPool(host='www.comet.ml', port=443): Read timed out. (read timeout=10)\",)': /clientlib/status-report/update\n",
      "WARNING:urllib3.connectionpool:Retrying (Retry(total=2, connect=None, read=None, redirect=None, status=None)) after connection broken by 'ReadTimeoutError(\"HTTPSConnectionPool(host='www.comet.ml', port=443): Read timed out. (read timeout=10)\",)': /clientlib/status-report/update\n",
      "WARNING:urllib3.connectionpool:Retrying (Retry(total=2, connect=None, read=None, redirect=None, status=None)) after connection broken by 'ReadTimeoutError(\"HTTPSConnectionPool(host='www.comet.ml', port=443): Read timed out. (read timeout=10)\",)': /clientlib/status-report/update\n",
      "WARNING:urllib3.connectionpool:Retrying (Retry(total=2, connect=None, read=None, redirect=None, status=None)) after connection broken by 'ReadTimeoutError(\"HTTPSConnectionPool(host='www.comet.ml', port=443): Read timed out. (read timeout=10)\",)': /clientlib/status-report/update\n",
      "WARNING:urllib3.connectionpool:Retrying (Retry(total=2, connect=None, read=None, redirect=None, status=None)) after connection broken by 'ReadTimeoutError(\"HTTPSConnectionPool(host='www.comet.ml', port=443): Read timed out. (read timeout=10)\",)': /clientlib/status-report/update\n",
      "WARNING:urllib3.connectionpool:Retrying (Retry(total=2, connect=None, read=None, redirect=None, status=None)) after connection broken by 'ReadTimeoutError(\"HTTPSConnectionPool(host='www.comet.ml', port=443): Read timed out. (read timeout=10)\",)': /clientlib/status-report/update\n",
      "WARNING:urllib3.connectionpool:Retrying (Retry(total=2, connect=None, read=None, redirect=None, status=None)) after connection broken by 'ReadTimeoutError(\"HTTPSConnectionPool(host='www.comet.ml', port=443): Read timed out. (read timeout=10)\",)': /clientlib/status-report/update\n",
      "WARNING:urllib3.connectionpool:Retrying (Retry(total=2, connect=None, read=None, redirect=None, status=None)) after connection broken by 'ReadTimeoutError(\"HTTPSConnectionPool(host='www.comet.ml', port=443): Read timed out. (read timeout=10)\",)': /clientlib/status-report/update\n",
      "WARNING:urllib3.connectionpool:Retrying (Retry(total=2, connect=None, read=None, redirect=None, status=None)) after connection broken by 'ReadTimeoutError(\"HTTPSConnectionPool(host='www.comet.ml', port=443): Read timed out. (read timeout=10)\",)': /clientlib/status-report/update\n",
      "WARNING:urllib3.connectionpool:Retrying (Retry(total=2, connect=None, read=None, redirect=None, status=None)) after connection broken by 'ReadTimeoutError(\"HTTPSConnectionPool(host='www.comet.ml', port=443): Read timed out. (read timeout=10)\",)': /clientlib/status-report/update\n",
      "WARNING:urllib3.connectionpool:Retrying (Retry(total=1, connect=None, read=None, redirect=None, status=None)) after connection broken by 'ReadTimeoutError(\"HTTPSConnectionPool(host='www.comet.ml', port=443): Read timed out. (read timeout=10)\",)': /clientlib/status-report/update\n",
      "WARNING:urllib3.connectionpool:Retrying (Retry(total=2, connect=None, read=None, redirect=None, status=None)) after connection broken by 'ReadTimeoutError(\"HTTPSConnectionPool(host='www.comet.ml', port=443): Read timed out. (read timeout=10)\",)': /clientlib/status-report/update\n",
      "WARNING:urllib3.connectionpool:Retrying (Retry(total=2, connect=None, read=None, redirect=None, status=None)) after connection broken by 'ReadTimeoutError(\"HTTPSConnectionPool(host='www.comet.ml', port=443): Read timed out. (read timeout=10)\",)': /clientlib/status-report/update\n",
      "WARNING:urllib3.connectionpool:Retrying (Retry(total=2, connect=None, read=None, redirect=None, status=None)) after connection broken by 'ReadTimeoutError(\"HTTPSConnectionPool(host='www.comet.ml', port=443): Read timed out. (read timeout=10)\",)': /clientlib/status-report/update\n",
      "WARNING:urllib3.connectionpool:Retrying (Retry(total=2, connect=None, read=None, redirect=None, status=None)) after connection broken by 'ReadTimeoutError(\"HTTPSConnectionPool(host='www.comet.ml', port=443): Read timed out. (read timeout=10)\",)': /clientlib/status-report/update\n",
      "WARNING:urllib3.connectionpool:Retrying (Retry(total=2, connect=None, read=None, redirect=None, status=None)) after connection broken by 'ReadTimeoutError(\"HTTPSConnectionPool(host='www.comet.ml', port=443): Read timed out. (read timeout=10)\",)': /clientlib/status-report/update\n",
      "WARNING:urllib3.connectionpool:Retrying (Retry(total=2, connect=None, read=None, redirect=None, status=None)) after connection broken by 'ReadTimeoutError(\"HTTPSConnectionPool(host='www.comet.ml', port=443): Read timed out. (read timeout=10)\",)': /clientlib/status-report/update\n",
      "WARNING:urllib3.connectionpool:Retrying (Retry(total=2, connect=None, read=None, redirect=None, status=None)) after connection broken by 'ReadTimeoutError(\"HTTPSConnectionPool(host='www.comet.ml', port=443): Read timed out. (read timeout=10)\",)': /clientlib/status-report/update\n",
      "WARNING:urllib3.connectionpool:Retrying (Retry(total=2, connect=None, read=None, redirect=None, status=None)) after connection broken by 'ReadTimeoutError(\"HTTPSConnectionPool(host='www.comet.ml', port=443): Read timed out. (read timeout=10)\",)': /clientlib/status-report/update\n",
      "WARNING:urllib3.connectionpool:Retrying (Retry(total=2, connect=None, read=None, redirect=None, status=None)) after connection broken by 'ReadTimeoutError(\"HTTPSConnectionPool(host='www.comet.ml', port=443): Read timed out. (read timeout=10)\",)': /clientlib/status-report/update\n",
      "WARNING:urllib3.connectionpool:Retrying (Retry(total=2, connect=None, read=None, redirect=None, status=None)) after connection broken by 'ReadTimeoutError(\"HTTPSConnectionPool(host='www.comet.ml', port=443): Read timed out. (read timeout=10)\",)': /clientlib/status-report/update\n",
      "WARNING:urllib3.connectionpool:Retrying (Retry(total=2, connect=None, read=None, redirect=None, status=None)) after connection broken by 'ReadTimeoutError(\"HTTPSConnectionPool(host='www.comet.ml', port=443): Read timed out. (read timeout=10)\",)': /clientlib/status-report/update\n",
      "WARNING:urllib3.connectionpool:Retrying (Retry(total=2, connect=None, read=None, redirect=None, status=None)) after connection broken by 'ReadTimeoutError(\"HTTPSConnectionPool(host='www.comet.ml', port=443): Read timed out. (read timeout=10)\",)': /clientlib/status-report/update\n",
      "WARNING:urllib3.connectionpool:Retrying (Retry(total=2, connect=None, read=None, redirect=None, status=None)) after connection broken by 'ReadTimeoutError(\"HTTPSConnectionPool(host='www.comet.ml', port=443): Read timed out. (read timeout=10)\",)': /clientlib/status-report/update\n",
      "WARNING:urllib3.connectionpool:Retrying (Retry(total=2, connect=None, read=None, redirect=None, status=None)) after connection broken by 'ReadTimeoutError(\"HTTPSConnectionPool(host='www.comet.ml', port=443): Read timed out. (read timeout=10)\",)': /clientlib/status-report/update\n",
      "WARNING:urllib3.connectionpool:Retrying (Retry(total=1, connect=None, read=None, redirect=None, status=None)) after connection broken by 'ReadTimeoutError(\"HTTPSConnectionPool(host='www.comet.ml', port=443): Read timed out. (read timeout=10)\",)': /clientlib/status-report/update\n",
      "WARNING:urllib3.connectionpool:Retrying (Retry(total=2, connect=None, read=None, redirect=None, status=None)) after connection broken by 'ReadTimeoutError(\"HTTPSConnectionPool(host='www.comet.ml', port=443): Read timed out. (read timeout=10)\",)': /clientlib/status-report/update\n",
      "WARNING:urllib3.connectionpool:Retrying (Retry(total=2, connect=None, read=None, redirect=None, status=None)) after connection broken by 'ReadTimeoutError(\"HTTPSConnectionPool(host='www.comet.ml', port=443): Read timed out. (read timeout=10)\",)': /clientlib/status-report/update\n",
      "WARNING:urllib3.connectionpool:Retrying (Retry(total=2, connect=None, read=None, redirect=None, status=None)) after connection broken by 'ReadTimeoutError(\"HTTPSConnectionPool(host='www.comet.ml', port=443): Read timed out. (read timeout=10)\",)': /clientlib/status-report/update\n",
      "WARNING:urllib3.connectionpool:Retrying (Retry(total=2, connect=None, read=None, redirect=None, status=None)) after connection broken by 'ReadTimeoutError(\"HTTPSConnectionPool(host='www.comet.ml', port=443): Read timed out. (read timeout=10)\",)': /clientlib/status-report/update\n",
      "WARNING:urllib3.connectionpool:Retrying (Retry(total=2, connect=None, read=None, redirect=None, status=None)) after connection broken by 'ReadTimeoutError(\"HTTPSConnectionPool(host='www.comet.ml', port=443): Read timed out. (read timeout=10)\",)': /clientlib/status-report/update\n",
      "WARNING:urllib3.connectionpool:Retrying (Retry(total=2, connect=None, read=None, redirect=None, status=None)) after connection broken by 'ReadTimeoutError(\"HTTPSConnectionPool(host='www.comet.ml', port=443): Read timed out. (read timeout=10)\",)': /clientlib/status-report/update\n",
      "WARNING:urllib3.connectionpool:Retrying (Retry(total=2, connect=None, read=None, redirect=None, status=None)) after connection broken by 'ReadTimeoutError(\"HTTPSConnectionPool(host='www.comet.ml', port=443): Read timed out. (read timeout=10)\",)': /clientlib/status-report/update\n",
      "WARNING:urllib3.connectionpool:Retrying (Retry(total=2, connect=None, read=None, redirect=None, status=None)) after connection broken by 'ReadTimeoutError(\"HTTPSConnectionPool(host='www.comet.ml', port=443): Read timed out. (read timeout=10)\",)': /clientlib/status-report/update\n",
      "WARNING:urllib3.connectionpool:Retrying (Retry(total=2, connect=None, read=None, redirect=None, status=None)) after connection broken by 'ReadTimeoutError(\"HTTPSConnectionPool(host='www.comet.ml', port=443): Read timed out. (read timeout=10)\",)': /clientlib/status-report/update\n",
      "WARNING:urllib3.connectionpool:Retrying (Retry(total=2, connect=None, read=None, redirect=None, status=None)) after connection broken by 'ReadTimeoutError(\"HTTPSConnectionPool(host='www.comet.ml', port=443): Read timed out. (read timeout=10)\",)': /clientlib/status-report/update\n",
      "WARNING:urllib3.connectionpool:Retrying (Retry(total=2, connect=None, read=None, redirect=None, status=None)) after connection broken by 'ReadTimeoutError(\"HTTPSConnectionPool(host='www.comet.ml', port=443): Read timed out. (read timeout=10)\",)': /clientlib/status-report/update\n",
      "WARNING:urllib3.connectionpool:Retrying (Retry(total=2, connect=None, read=None, redirect=None, status=None)) after connection broken by 'ReadTimeoutError(\"HTTPSConnectionPool(host='www.comet.ml', port=443): Read timed out. (read timeout=10)\",)': /clientlib/status-report/update\n",
      "WARNING:urllib3.connectionpool:Retrying (Retry(total=1, connect=None, read=None, redirect=None, status=None)) after connection broken by 'ReadTimeoutError(\"HTTPSConnectionPool(host='www.comet.ml', port=443): Read timed out. (read timeout=10)\",)': /clientlib/status-report/update\n",
      "WARNING:urllib3.connectionpool:Retrying (Retry(total=2, connect=None, read=None, redirect=None, status=None)) after connection broken by 'ReadTimeoutError(\"HTTPSConnectionPool(host='www.comet.ml', port=443): Read timed out. (read timeout=10)\",)': /clientlib/status-report/update\n",
      "WARNING:urllib3.connectionpool:Retrying (Retry(total=2, connect=None, read=None, redirect=None, status=None)) after connection broken by 'ReadTimeoutError(\"HTTPSConnectionPool(host='www.comet.ml', port=443): Read timed out. (read timeout=10)\",)': /clientlib/status-report/update\n",
      "WARNING:urllib3.connectionpool:Retrying (Retry(total=2, connect=None, read=None, redirect=None, status=None)) after connection broken by 'ReadTimeoutError(\"HTTPSConnectionPool(host='www.comet.ml', port=443): Read timed out. (read timeout=10)\",)': /clientlib/status-report/update\n",
      "WARNING:urllib3.connectionpool:Retrying (Retry(total=2, connect=None, read=None, redirect=None, status=None)) after connection broken by 'ReadTimeoutError(\"HTTPSConnectionPool(host='www.comet.ml', port=443): Read timed out. (read timeout=10)\",)': /clientlib/status-report/update\n",
      "WARNING:urllib3.connectionpool:Retrying (Retry(total=2, connect=None, read=None, redirect=None, status=None)) after connection broken by 'ReadTimeoutError(\"HTTPSConnectionPool(host='www.comet.ml', port=443): Read timed out. (read timeout=10)\",)': /clientlib/status-report/update\n",
      "WARNING:urllib3.connectionpool:Retrying (Retry(total=2, connect=None, read=None, redirect=None, status=None)) after connection broken by 'ReadTimeoutError(\"HTTPSConnectionPool(host='www.comet.ml', port=443): Read timed out. (read timeout=10)\",)': /clientlib/status-report/update\n",
      "WARNING:urllib3.connectionpool:Retrying (Retry(total=2, connect=None, read=None, redirect=None, status=None)) after connection broken by 'ReadTimeoutError(\"HTTPSConnectionPool(host='www.comet.ml', port=443): Read timed out. (read timeout=10)\",)': /clientlib/status-report/update\n",
      "WARNING:urllib3.connectionpool:Retrying (Retry(total=2, connect=None, read=None, redirect=None, status=None)) after connection broken by 'ReadTimeoutError(\"HTTPSConnectionPool(host='www.comet.ml', port=443): Read timed out. (read timeout=10)\",)': /clientlib/status-report/update\n",
      "WARNING:urllib3.connectionpool:Retrying (Retry(total=2, connect=None, read=None, redirect=None, status=None)) after connection broken by 'ReadTimeoutError(\"HTTPSConnectionPool(host='www.comet.ml', port=443): Read timed out. (read timeout=10)\",)': /clientlib/status-report/update\n",
      "WARNING:urllib3.connectionpool:Retrying (Retry(total=2, connect=None, read=None, redirect=None, status=None)) after connection broken by 'ReadTimeoutError(\"HTTPSConnectionPool(host='www.comet.ml', port=443): Read timed out. (read timeout=10)\",)': /clientlib/status-report/update\n",
      "WARNING:urllib3.connectionpool:Retrying (Retry(total=2, connect=None, read=None, redirect=None, status=None)) after connection broken by 'ReadTimeoutError(\"HTTPSConnectionPool(host='www.comet.ml', port=443): Read timed out. (read timeout=10)\",)': /clientlib/status-report/update\n",
      "WARNING:urllib3.connectionpool:Retrying (Retry(total=2, connect=None, read=None, redirect=None, status=None)) after connection broken by 'ReadTimeoutError(\"HTTPSConnectionPool(host='www.comet.ml', port=443): Read timed out. (read timeout=10)\",)': /clientlib/status-report/update\n",
      "WARNING:urllib3.connectionpool:Retrying (Retry(total=1, connect=None, read=None, redirect=None, status=None)) after connection broken by 'ReadTimeoutError(\"HTTPSConnectionPool(host='www.comet.ml', port=443): Read timed out. (read timeout=10)\",)': /clientlib/status-report/update\n",
      "WARNING:urllib3.connectionpool:Retrying (Retry(total=1, connect=None, read=None, redirect=None, status=None)) after connection broken by 'ReadTimeoutError(\"HTTPSConnectionPool(host='www.comet.ml', port=443): Read timed out. (read timeout=10)\",)': /clientlib/status-report/update\n",
      "WARNING:urllib3.connectionpool:Retrying (Retry(total=2, connect=None, read=None, redirect=None, status=None)) after connection broken by 'ReadTimeoutError(\"HTTPSConnectionPool(host='www.comet.ml', port=443): Read timed out. (read timeout=10)\",)': /clientlib/status-report/update\n",
      "WARNING:urllib3.connectionpool:Retrying (Retry(total=2, connect=None, read=None, redirect=None, status=None)) after connection broken by 'ReadTimeoutError(\"HTTPSConnectionPool(host='www.comet.ml', port=443): Read timed out. (read timeout=10)\",)': /clientlib/status-report/update\n",
      "WARNING:urllib3.connectionpool:Retrying (Retry(total=2, connect=None, read=None, redirect=None, status=None)) after connection broken by 'ReadTimeoutError(\"HTTPSConnectionPool(host='www.comet.ml', port=443): Read timed out. (read timeout=10)\",)': /clientlib/status-report/update\n",
      "WARNING:urllib3.connectionpool:Retrying (Retry(total=2, connect=None, read=None, redirect=None, status=None)) after connection broken by 'ReadTimeoutError(\"HTTPSConnectionPool(host='www.comet.ml', port=443): Read timed out. (read timeout=10)\",)': /clientlib/status-report/update\n",
      "WARNING:urllib3.connectionpool:Retrying (Retry(total=2, connect=None, read=None, redirect=None, status=None)) after connection broken by 'ReadTimeoutError(\"HTTPSConnectionPool(host='www.comet.ml', port=443): Read timed out. (read timeout=10)\",)': /clientlib/status-report/update\n",
      "WARNING:urllib3.connectionpool:Retrying (Retry(total=2, connect=None, read=None, redirect=None, status=None)) after connection broken by 'ReadTimeoutError(\"HTTPSConnectionPool(host='www.comet.ml', port=443): Read timed out. (read timeout=10)\",)': /clientlib/status-report/update\n",
      "WARNING:urllib3.connectionpool:Retrying (Retry(total=2, connect=None, read=None, redirect=None, status=None)) after connection broken by 'ReadTimeoutError(\"HTTPSConnectionPool(host='www.comet.ml', port=443): Read timed out. (read timeout=10)\",)': /clientlib/status-report/update\n",
      "WARNING:urllib3.connectionpool:Retrying (Retry(total=2, connect=None, read=None, redirect=None, status=None)) after connection broken by 'ReadTimeoutError(\"HTTPSConnectionPool(host='www.comet.ml', port=443): Read timed out. (read timeout=10)\",)': /clientlib/status-report/update\n",
      "WARNING:urllib3.connectionpool:Retrying (Retry(total=2, connect=None, read=None, redirect=None, status=None)) after connection broken by 'ReadTimeoutError(\"HTTPSConnectionPool(host='www.comet.ml', port=443): Read timed out. (read timeout=10)\",)': /clientlib/status-report/update\n",
      "WARNING:urllib3.connectionpool:Retrying (Retry(total=2, connect=None, read=None, redirect=None, status=None)) after connection broken by 'ReadTimeoutError(\"HTTPSConnectionPool(host='www.comet.ml', port=443): Read timed out. (read timeout=10)\",)': /clientlib/status-report/update\n",
      "WARNING:urllib3.connectionpool:Retrying (Retry(total=0, connect=None, read=None, redirect=None, status=None)) after connection broken by 'ReadTimeoutError(\"HTTPSConnectionPool(host='www.comet.ml', port=443): Read timed out. (read timeout=10)\",)': /clientlib/status-report/update\n",
      "WARNING:urllib3.connectionpool:Retrying (Retry(total=2, connect=None, read=None, redirect=None, status=None)) after connection broken by 'ReadTimeoutError(\"HTTPSConnectionPool(host='www.comet.ml', port=443): Read timed out. (read timeout=10)\",)': /clientlib/status-report/update\n",
      "WARNING:urllib3.connectionpool:Retrying (Retry(total=1, connect=None, read=None, redirect=None, status=None)) after connection broken by 'ReadTimeoutError(\"HTTPSConnectionPool(host='www.comet.ml', port=443): Read timed out. (read timeout=10)\",)': /clientlib/status-report/update\n",
      "WARNING:urllib3.connectionpool:Retrying (Retry(total=2, connect=None, read=None, redirect=None, status=None)) after connection broken by 'ReadTimeoutError(\"HTTPSConnectionPool(host='www.comet.ml', port=443): Read timed out. (read timeout=10)\",)': /clientlib/status-report/update\n",
      "WARNING:urllib3.connectionpool:Retrying (Retry(total=2, connect=None, read=None, redirect=None, status=None)) after connection broken by 'ReadTimeoutError(\"HTTPSConnectionPool(host='www.comet.ml', port=443): Read timed out. (read timeout=10)\",)': /clientlib/status-report/update\n",
      "WARNING:urllib3.connectionpool:Retrying (Retry(total=2, connect=None, read=None, redirect=None, status=None)) after connection broken by 'ReadTimeoutError(\"HTTPSConnectionPool(host='www.comet.ml', port=443): Read timed out. (read timeout=10)\",)': /clientlib/status-report/update\n",
      "WARNING:urllib3.connectionpool:Retrying (Retry(total=2, connect=None, read=None, redirect=None, status=None)) after connection broken by 'ReadTimeoutError(\"HTTPSConnectionPool(host='www.comet.ml', port=443): Read timed out. (read timeout=10)\",)': /clientlib/status-report/update\n",
      "WARNING:urllib3.connectionpool:Retrying (Retry(total=2, connect=None, read=None, redirect=None, status=None)) after connection broken by 'ReadTimeoutError(\"HTTPSConnectionPool(host='www.comet.ml', port=443): Read timed out. (read timeout=10)\",)': /clientlib/status-report/update\n",
      "WARNING:urllib3.connectionpool:Retrying (Retry(total=2, connect=None, read=None, redirect=None, status=None)) after connection broken by 'ReadTimeoutError(\"HTTPSConnectionPool(host='www.comet.ml', port=443): Read timed out. (read timeout=10)\",)': /clientlib/status-report/update\n",
      "WARNING:urllib3.connectionpool:Retrying (Retry(total=2, connect=None, read=None, redirect=None, status=None)) after connection broken by 'ReadTimeoutError(\"HTTPSConnectionPool(host='www.comet.ml', port=443): Read timed out. (read timeout=10)\",)': /clientlib/status-report/update\n",
      "WARNING:urllib3.connectionpool:Retrying (Retry(total=2, connect=None, read=None, redirect=None, status=None)) after connection broken by 'ReadTimeoutError(\"HTTPSConnectionPool(host='www.comet.ml', port=443): Read timed out. (read timeout=10)\",)': /clientlib/status-report/update\n",
      "WARNING:urllib3.connectionpool:Retrying (Retry(total=1, connect=None, read=None, redirect=None, status=None)) after connection broken by 'ReadTimeoutError(\"HTTPSConnectionPool(host='www.comet.ml', port=443): Read timed out. (read timeout=10)\",)': /clientlib/status-report/update\n",
      "WARNING:urllib3.connectionpool:Retrying (Retry(total=2, connect=None, read=None, redirect=None, status=None)) after connection broken by 'ReadTimeoutError(\"HTTPSConnectionPool(host='www.comet.ml', port=443): Read timed out. (read timeout=10)\",)': /clientlib/status-report/update\n",
      "WARNING:urllib3.connectionpool:Retrying (Retry(total=2, connect=None, read=None, redirect=None, status=None)) after connection broken by 'ReadTimeoutError(\"HTTPSConnectionPool(host='www.comet.ml', port=443): Read timed out. (read timeout=10)\",)': /clientlib/status-report/update\n",
      "WARNING:urllib3.connectionpool:Retrying (Retry(total=2, connect=None, read=None, redirect=None, status=None)) after connection broken by 'ReadTimeoutError(\"HTTPSConnectionPool(host='www.comet.ml', port=443): Read timed out. (read timeout=10)\",)': /clientlib/status-report/update\n",
      "WARNING:urllib3.connectionpool:Retrying (Retry(total=2, connect=None, read=None, redirect=None, status=None)) after connection broken by 'ReadTimeoutError(\"HTTPSConnectionPool(host='www.comet.ml', port=443): Read timed out. (read timeout=10)\",)': /clientlib/status-report/update\n",
      "WARNING:urllib3.connectionpool:Retrying (Retry(total=2, connect=None, read=None, redirect=None, status=None)) after connection broken by 'ReadTimeoutError(\"HTTPSConnectionPool(host='www.comet.ml', port=443): Read timed out. (read timeout=10)\",)': /clientlib/status-report/update\n",
      "WARNING:urllib3.connectionpool:Retrying (Retry(total=2, connect=None, read=None, redirect=None, status=None)) after connection broken by 'ReadTimeoutError(\"HTTPSConnectionPool(host='www.comet.ml', port=443): Read timed out. (read timeout=10)\",)': /clientlib/status-report/update\n",
      "WARNING:urllib3.connectionpool:Retrying (Retry(total=2, connect=None, read=None, redirect=None, status=None)) after connection broken by 'ReadTimeoutError(\"HTTPSConnectionPool(host='www.comet.ml', port=443): Read timed out. (read timeout=10)\",)': /clientlib/status-report/update\n",
      "WARNING:urllib3.connectionpool:Retrying (Retry(total=2, connect=None, read=None, redirect=None, status=None)) after connection broken by 'ReadTimeoutError(\"HTTPSConnectionPool(host='www.comet.ml', port=443): Read timed out. (read timeout=10)\",)': /clientlib/status-report/update\n",
      "WARNING:urllib3.connectionpool:Retrying (Retry(total=1, connect=None, read=None, redirect=None, status=None)) after connection broken by 'ReadTimeoutError(\"HTTPSConnectionPool(host='www.comet.ml', port=443): Read timed out. (read timeout=10)\",)': /clientlib/status-report/update\n",
      "WARNING:urllib3.connectionpool:Retrying (Retry(total=2, connect=None, read=None, redirect=None, status=None)) after connection broken by 'ReadTimeoutError(\"HTTPSConnectionPool(host='www.comet.ml', port=443): Read timed out. (read timeout=10)\",)': /clientlib/status-report/update\n",
      "WARNING:urllib3.connectionpool:Retrying (Retry(total=2, connect=None, read=None, redirect=None, status=None)) after connection broken by 'ReadTimeoutError(\"HTTPSConnectionPool(host='www.comet.ml', port=443): Read timed out. (read timeout=10)\",)': /clientlib/status-report/update\n",
      "WARNING:urllib3.connectionpool:Retrying (Retry(total=2, connect=None, read=None, redirect=None, status=None)) after connection broken by 'ReadTimeoutError(\"HTTPSConnectionPool(host='www.comet.ml', port=443): Read timed out. (read timeout=10)\",)': /clientlib/status-report/update\n",
      "WARNING:urllib3.connectionpool:Retrying (Retry(total=2, connect=None, read=None, redirect=None, status=None)) after connection broken by 'ReadTimeoutError(\"HTTPSConnectionPool(host='www.comet.ml', port=443): Read timed out. (read timeout=10)\",)': /clientlib/status-report/update\n",
      "WARNING:urllib3.connectionpool:Retrying (Retry(total=0, connect=None, read=None, redirect=None, status=None)) after connection broken by 'ReadTimeoutError(\"HTTPSConnectionPool(host='www.comet.ml', port=443): Read timed out. (read timeout=10)\",)': /clientlib/status-report/update\n",
      "WARNING:urllib3.connectionpool:Retrying (Retry(total=1, connect=None, read=None, redirect=None, status=None)) after connection broken by 'ReadTimeoutError(\"HTTPSConnectionPool(host='www.comet.ml', port=443): Read timed out. (read timeout=10)\",)': /clientlib/status-report/update\n",
      "WARNING:urllib3.connectionpool:Retrying (Retry(total=2, connect=None, read=None, redirect=None, status=None)) after connection broken by 'ReadTimeoutError(\"HTTPSConnectionPool(host='www.comet.ml', port=443): Read timed out. (read timeout=10)\",)': /clientlib/status-report/update\n",
      "WARNING:urllib3.connectionpool:Retrying (Retry(total=1, connect=None, read=None, redirect=None, status=None)) after connection broken by 'ReadTimeoutError(\"HTTPSConnectionPool(host='www.comet.ml', port=443): Read timed out. (read timeout=10)\",)': /clientlib/status-report/update\n",
      "WARNING:urllib3.connectionpool:Retrying (Retry(total=2, connect=None, read=None, redirect=None, status=None)) after connection broken by 'ReadTimeoutError(\"HTTPSConnectionPool(host='www.comet.ml', port=443): Read timed out. (read timeout=10)\",)': /clientlib/status-report/update\n",
      "WARNING:urllib3.connectionpool:Retrying (Retry(total=2, connect=None, read=None, redirect=None, status=None)) after connection broken by 'ReadTimeoutError(\"HTTPSConnectionPool(host='www.comet.ml', port=443): Read timed out. (read timeout=10)\",)': /clientlib/status-report/update\n",
      "WARNING:urllib3.connectionpool:Retrying (Retry(total=2, connect=None, read=None, redirect=None, status=None)) after connection broken by 'ReadTimeoutError(\"HTTPSConnectionPool(host='www.comet.ml', port=443): Read timed out. (read timeout=10)\",)': /clientlib/status-report/update\n",
      "WARNING:urllib3.connectionpool:Retrying (Retry(total=2, connect=None, read=None, redirect=None, status=None)) after connection broken by 'ReadTimeoutError(\"HTTPSConnectionPool(host='www.comet.ml', port=443): Read timed out. (read timeout=10)\",)': /clientlib/status-report/update\n",
      "WARNING:urllib3.connectionpool:Retrying (Retry(total=2, connect=None, read=None, redirect=None, status=None)) after connection broken by 'ReadTimeoutError(\"HTTPSConnectionPool(host='www.comet.ml', port=443): Read timed out. (read timeout=10)\",)': /clientlib/status-report/update\n",
      "WARNING:urllib3.connectionpool:Retrying (Retry(total=2, connect=None, read=None, redirect=None, status=None)) after connection broken by 'ReadTimeoutError(\"HTTPSConnectionPool(host='www.comet.ml', port=443): Read timed out. (read timeout=10)\",)': /clientlib/status-report/update\n",
      "WARNING:urllib3.connectionpool:Retrying (Retry(total=2, connect=None, read=None, redirect=None, status=None)) after connection broken by 'ReadTimeoutError(\"HTTPSConnectionPool(host='www.comet.ml', port=443): Read timed out. (read timeout=10)\",)': /clientlib/status-report/update\n",
      "WARNING:urllib3.connectionpool:Retrying (Retry(total=2, connect=None, read=None, redirect=None, status=None)) after connection broken by 'ReadTimeoutError(\"HTTPSConnectionPool(host='www.comet.ml', port=443): Read timed out. (read timeout=10)\",)': /clientlib/status-report/update\n",
      "WARNING:urllib3.connectionpool:Retrying (Retry(total=1, connect=None, read=None, redirect=None, status=None)) after connection broken by 'ReadTimeoutError(\"HTTPSConnectionPool(host='www.comet.ml', port=443): Read timed out. (read timeout=10)\",)': /clientlib/status-report/update\n",
      "WARNING:urllib3.connectionpool:Retrying (Retry(total=2, connect=None, read=None, redirect=None, status=None)) after connection broken by 'ReadTimeoutError(\"HTTPSConnectionPool(host='www.comet.ml', port=443): Read timed out. (read timeout=10)\",)': /clientlib/status-report/update\n",
      "WARNING:urllib3.connectionpool:Retrying (Retry(total=2, connect=None, read=None, redirect=None, status=None)) after connection broken by 'ReadTimeoutError(\"HTTPSConnectionPool(host='www.comet.ml', port=443): Read timed out. (read timeout=10)\",)': /clientlib/status-report/update\n",
      "WARNING:urllib3.connectionpool:Retrying (Retry(total=2, connect=None, read=None, redirect=None, status=None)) after connection broken by 'ReadTimeoutError(\"HTTPSConnectionPool(host='www.comet.ml', port=443): Read timed out. (read timeout=10)\",)': /clientlib/status-report/update\n",
      "WARNING:urllib3.connectionpool:Retrying (Retry(total=2, connect=None, read=None, redirect=None, status=None)) after connection broken by 'ReadTimeoutError(\"HTTPSConnectionPool(host='www.comet.ml', port=443): Read timed out. (read timeout=10)\",)': /clientlib/status-report/update\n",
      "WARNING:urllib3.connectionpool:Retrying (Retry(total=2, connect=None, read=None, redirect=None, status=None)) after connection broken by 'ReadTimeoutError(\"HTTPSConnectionPool(host='www.comet.ml', port=443): Read timed out. (read timeout=10)\",)': /clientlib/status-report/update\n",
      "WARNING:urllib3.connectionpool:Retrying (Retry(total=2, connect=None, read=None, redirect=None, status=None)) after connection broken by 'ReadTimeoutError(\"HTTPSConnectionPool(host='www.comet.ml', port=443): Read timed out. (read timeout=10)\",)': /clientlib/status-report/update\n",
      "WARNING:urllib3.connectionpool:Retrying (Retry(total=2, connect=None, read=None, redirect=None, status=None)) after connection broken by 'ReadTimeoutError(\"HTTPSConnectionPool(host='www.comet.ml', port=443): Read timed out. (read timeout=10)\",)': /clientlib/status-report/update\n",
      "WARNING:urllib3.connectionpool:Retrying (Retry(total=2, connect=None, read=None, redirect=None, status=None)) after connection broken by 'ReadTimeoutError(\"HTTPSConnectionPool(host='www.comet.ml', port=443): Read timed out. (read timeout=10)\",)': /clientlib/status-report/update\n",
      "WARNING:urllib3.connectionpool:Retrying (Retry(total=2, connect=None, read=None, redirect=None, status=None)) after connection broken by 'ReadTimeoutError(\"HTTPSConnectionPool(host='www.comet.ml', port=443): Read timed out. (read timeout=10)\",)': /clientlib/status-report/update\n",
      "WARNING:urllib3.connectionpool:Retrying (Retry(total=2, connect=None, read=None, redirect=None, status=None)) after connection broken by 'ReadTimeoutError(\"HTTPSConnectionPool(host='www.comet.ml', port=443): Read timed out. (read timeout=10)\",)': /clientlib/status-report/update\n",
      "WARNING:urllib3.connectionpool:Retrying (Retry(total=1, connect=None, read=None, redirect=None, status=None)) after connection broken by 'ReadTimeoutError(\"HTTPSConnectionPool(host='www.comet.ml', port=443): Read timed out. (read timeout=10)\",)': /clientlib/status-report/update\n",
      "WARNING:urllib3.connectionpool:Retrying (Retry(total=2, connect=None, read=None, redirect=None, status=None)) after connection broken by 'ReadTimeoutError(\"HTTPSConnectionPool(host='www.comet.ml', port=443): Read timed out. (read timeout=10)\",)': /clientlib/status-report/update\n",
      "WARNING:urllib3.connectionpool:Retrying (Retry(total=2, connect=None, read=None, redirect=None, status=None)) after connection broken by 'ReadTimeoutError(\"HTTPSConnectionPool(host='www.comet.ml', port=443): Read timed out. (read timeout=10)\",)': /clientlib/status-report/update\n",
      "WARNING:urllib3.connectionpool:Retrying (Retry(total=2, connect=None, read=None, redirect=None, status=None)) after connection broken by 'ReadTimeoutError(\"HTTPSConnectionPool(host='www.comet.ml', port=443): Read timed out. (read timeout=10)\",)': /clientlib/status-report/update\n",
      "WARNING:urllib3.connectionpool:Retrying (Retry(total=2, connect=None, read=None, redirect=None, status=None)) after connection broken by 'ReadTimeoutError(\"HTTPSConnectionPool(host='www.comet.ml', port=443): Read timed out. (read timeout=10)\",)': /clientlib/status-report/update\n",
      "WARNING:urllib3.connectionpool:Retrying (Retry(total=2, connect=None, read=None, redirect=None, status=None)) after connection broken by 'ReadTimeoutError(\"HTTPSConnectionPool(host='www.comet.ml', port=443): Read timed out. (read timeout=10)\",)': /clientlib/status-report/update\n",
      "WARNING:urllib3.connectionpool:Retrying (Retry(total=2, connect=None, read=None, redirect=None, status=None)) after connection broken by 'ReadTimeoutError(\"HTTPSConnectionPool(host='www.comet.ml', port=443): Read timed out. (read timeout=10)\",)': /clientlib/status-report/update\n",
      "WARNING:urllib3.connectionpool:Retrying (Retry(total=2, connect=None, read=None, redirect=None, status=None)) after connection broken by 'ReadTimeoutError(\"HTTPSConnectionPool(host='www.comet.ml', port=443): Read timed out. (read timeout=10)\",)': /clientlib/status-report/update\n",
      "WARNING:urllib3.connectionpool:Retrying (Retry(total=2, connect=None, read=None, redirect=None, status=None)) after connection broken by 'ReadTimeoutError(\"HTTPSConnectionPool(host='www.comet.ml', port=443): Read timed out. (read timeout=10)\",)': /clientlib/status-report/update\n",
      "WARNING:urllib3.connectionpool:Retrying (Retry(total=1, connect=None, read=None, redirect=None, status=None)) after connection broken by 'ReadTimeoutError(\"HTTPSConnectionPool(host='www.comet.ml', port=443): Read timed out. (read timeout=10)\",)': /clientlib/status-report/update\n",
      "WARNING:urllib3.connectionpool:Retrying (Retry(total=2, connect=None, read=None, redirect=None, status=None)) after connection broken by 'ReadTimeoutError(\"HTTPSConnectionPool(host='www.comet.ml', port=443): Read timed out. (read timeout=10)\",)': /clientlib/status-report/update\n",
      "WARNING:urllib3.connectionpool:Retrying (Retry(total=1, connect=None, read=None, redirect=None, status=None)) after connection broken by 'ReadTimeoutError(\"HTTPSConnectionPool(host='www.comet.ml', port=443): Read timed out. (read timeout=10)\",)': /clientlib/status-report/update\n",
      "WARNING:urllib3.connectionpool:Retrying (Retry(total=2, connect=None, read=None, redirect=None, status=None)) after connection broken by 'ReadTimeoutError(\"HTTPSConnectionPool(host='www.comet.ml', port=443): Read timed out. (read timeout=10)\",)': /clientlib/status-report/update\n",
      "WARNING:urllib3.connectionpool:Retrying (Retry(total=2, connect=None, read=None, redirect=None, status=None)) after connection broken by 'ReadTimeoutError(\"HTTPSConnectionPool(host='www.comet.ml', port=443): Read timed out. (read timeout=10)\",)': /clientlib/status-report/update\n",
      "WARNING:urllib3.connectionpool:Retrying (Retry(total=2, connect=None, read=None, redirect=None, status=None)) after connection broken by 'ReadTimeoutError(\"HTTPSConnectionPool(host='www.comet.ml', port=443): Read timed out. (read timeout=10)\",)': /clientlib/status-report/update\n",
      "WARNING:urllib3.connectionpool:Retrying (Retry(total=2, connect=None, read=None, redirect=None, status=None)) after connection broken by 'ReadTimeoutError(\"HTTPSConnectionPool(host='www.comet.ml', port=443): Read timed out. (read timeout=10)\",)': /clientlib/status-report/update\n",
      "WARNING:urllib3.connectionpool:Retrying (Retry(total=2, connect=None, read=None, redirect=None, status=None)) after connection broken by 'ReadTimeoutError(\"HTTPSConnectionPool(host='www.comet.ml', port=443): Read timed out. (read timeout=10)\",)': /clientlib/status-report/update\n",
      "WARNING:urllib3.connectionpool:Retrying (Retry(total=2, connect=None, read=None, redirect=None, status=None)) after connection broken by 'ReadTimeoutError(\"HTTPSConnectionPool(host='www.comet.ml', port=443): Read timed out. (read timeout=10)\",)': /clientlib/status-report/update\n",
      "WARNING:urllib3.connectionpool:Retrying (Retry(total=2, connect=None, read=None, redirect=None, status=None)) after connection broken by 'ReadTimeoutError(\"HTTPSConnectionPool(host='www.comet.ml', port=443): Read timed out. (read timeout=10)\",)': /clientlib/status-report/update\n",
      "WARNING:urllib3.connectionpool:Retrying (Retry(total=2, connect=None, read=None, redirect=None, status=None)) after connection broken by 'ReadTimeoutError(\"HTTPSConnectionPool(host='www.comet.ml', port=443): Read timed out. (read timeout=10)\",)': /clientlib/status-report/update\n",
      "WARNING:urllib3.connectionpool:Retrying (Retry(total=1, connect=None, read=None, redirect=None, status=None)) after connection broken by 'ReadTimeoutError(\"HTTPSConnectionPool(host='www.comet.ml', port=443): Read timed out. (read timeout=10)\",)': /clientlib/status-report/update\n",
      "WARNING:urllib3.connectionpool:Retrying (Retry(total=2, connect=None, read=None, redirect=None, status=None)) after connection broken by 'ReadTimeoutError(\"HTTPSConnectionPool(host='www.comet.ml', port=443): Read timed out. (read timeout=10)\",)': /clientlib/status-report/update\n",
      "WARNING:urllib3.connectionpool:Retrying (Retry(total=2, connect=None, read=None, redirect=None, status=None)) after connection broken by 'ReadTimeoutError(\"HTTPSConnectionPool(host='www.comet.ml', port=443): Read timed out. (read timeout=10)\",)': /clientlib/status-report/update\n",
      "WARNING:urllib3.connectionpool:Retrying (Retry(total=2, connect=None, read=None, redirect=None, status=None)) after connection broken by 'ReadTimeoutError(\"HTTPSConnectionPool(host='www.comet.ml', port=443): Read timed out. (read timeout=10)\",)': /clientlib/status-report/update\n",
      "WARNING:urllib3.connectionpool:Retrying (Retry(total=2, connect=None, read=None, redirect=None, status=None)) after connection broken by 'ReadTimeoutError(\"HTTPSConnectionPool(host='www.comet.ml', port=443): Read timed out. (read timeout=10)\",)': /clientlib/status-report/update\n",
      "WARNING:urllib3.connectionpool:Retrying (Retry(total=2, connect=None, read=None, redirect=None, status=None)) after connection broken by 'ReadTimeoutError(\"HTTPSConnectionPool(host='www.comet.ml', port=443): Read timed out. (read timeout=10)\",)': /clientlib/status-report/update\n",
      "WARNING:urllib3.connectionpool:Retrying (Retry(total=1, connect=None, read=None, redirect=None, status=None)) after connection broken by 'ReadTimeoutError(\"HTTPSConnectionPool(host='www.comet.ml', port=443): Read timed out. (read timeout=10)\",)': /clientlib/status-report/update\n",
      "WARNING:urllib3.connectionpool:Retrying (Retry(total=2, connect=None, read=None, redirect=None, status=None)) after connection broken by 'ReadTimeoutError(\"HTTPSConnectionPool(host='www.comet.ml', port=443): Read timed out. (read timeout=10)\",)': /clientlib/status-report/update\n",
      "WARNING:urllib3.connectionpool:Retrying (Retry(total=2, connect=None, read=None, redirect=None, status=None)) after connection broken by 'ReadTimeoutError(\"HTTPSConnectionPool(host='www.comet.ml', port=443): Read timed out. (read timeout=10)\",)': /clientlib/status-report/update\n",
      "WARNING:urllib3.connectionpool:Retrying (Retry(total=2, connect=None, read=None, redirect=None, status=None)) after connection broken by 'ReadTimeoutError(\"HTTPSConnectionPool(host='www.comet.ml', port=443): Read timed out. (read timeout=10)\",)': /clientlib/status-report/update\n",
      "WARNING:urllib3.connectionpool:Retrying (Retry(total=2, connect=None, read=None, redirect=None, status=None)) after connection broken by 'ReadTimeoutError(\"HTTPSConnectionPool(host='www.comet.ml', port=443): Read timed out. (read timeout=10)\",)': /clientlib/status-report/update\n",
      "WARNING:urllib3.connectionpool:Retrying (Retry(total=2, connect=None, read=None, redirect=None, status=None)) after connection broken by 'ReadTimeoutError(\"HTTPSConnectionPool(host='www.comet.ml', port=443): Read timed out. (read timeout=10)\",)': /clientlib/status-report/update\n",
      "WARNING:urllib3.connectionpool:Retrying (Retry(total=2, connect=None, read=None, redirect=None, status=None)) after connection broken by 'ReadTimeoutError(\"HTTPSConnectionPool(host='www.comet.ml', port=443): Read timed out. (read timeout=10)\",)': /clientlib/status-report/update\n",
      "WARNING:urllib3.connectionpool:Retrying (Retry(total=2, connect=None, read=None, redirect=None, status=None)) after connection broken by 'ReadTimeoutError(\"HTTPSConnectionPool(host='www.comet.ml', port=443): Read timed out. (read timeout=10)\",)': /clientlib/status-report/update\n",
      "WARNING:urllib3.connectionpool:Retrying (Retry(total=2, connect=None, read=None, redirect=None, status=None)) after connection broken by 'ReadTimeoutError(\"HTTPSConnectionPool(host='www.comet.ml', port=443): Read timed out. (read timeout=10)\",)': /clientlib/status-report/update\n",
      "WARNING:urllib3.connectionpool:Retrying (Retry(total=2, connect=None, read=None, redirect=None, status=None)) after connection broken by 'ReadTimeoutError(\"HTTPSConnectionPool(host='www.comet.ml', port=443): Read timed out. (read timeout=10)\",)': /clientlib/status-report/update\n",
      "WARNING:urllib3.connectionpool:Retrying (Retry(total=2, connect=None, read=None, redirect=None, status=None)) after connection broken by 'ReadTimeoutError(\"HTTPSConnectionPool(host='www.comet.ml', port=443): Read timed out. (read timeout=10)\",)': /clientlib/status-report/update\n",
      "WARNING:urllib3.connectionpool:Retrying (Retry(total=2, connect=None, read=None, redirect=None, status=None)) after connection broken by 'ReadTimeoutError(\"HTTPSConnectionPool(host='www.comet.ml', port=443): Read timed out. (read timeout=10)\",)': /clientlib/status-report/update\n",
      "WARNING:urllib3.connectionpool:Retrying (Retry(total=2, connect=None, read=None, redirect=None, status=None)) after connection broken by 'ReadTimeoutError(\"HTTPSConnectionPool(host='www.comet.ml', port=443): Read timed out. (read timeout=10)\",)': /clientlib/status-report/update\n",
      "WARNING:urllib3.connectionpool:Retrying (Retry(total=1, connect=None, read=None, redirect=None, status=None)) after connection broken by 'ReadTimeoutError(\"HTTPSConnectionPool(host='www.comet.ml', port=443): Read timed out. (read timeout=10)\",)': /clientlib/status-report/update\n",
      "WARNING:urllib3.connectionpool:Retrying (Retry(total=2, connect=None, read=None, redirect=None, status=None)) after connection broken by 'ReadTimeoutError(\"HTTPSConnectionPool(host='www.comet.ml', port=443): Read timed out. (read timeout=10)\",)': /clientlib/status-report/update\n",
      "WARNING:urllib3.connectionpool:Retrying (Retry(total=2, connect=None, read=None, redirect=None, status=None)) after connection broken by 'ReadTimeoutError(\"HTTPSConnectionPool(host='www.comet.ml', port=443): Read timed out. (read timeout=10)\",)': /clientlib/status-report/update\n",
      "WARNING:urllib3.connectionpool:Retrying (Retry(total=2, connect=None, read=None, redirect=None, status=None)) after connection broken by 'ReadTimeoutError(\"HTTPSConnectionPool(host='www.comet.ml', port=443): Read timed out. (read timeout=10)\",)': /clientlib/status-report/update\n",
      "WARNING:urllib3.connectionpool:Retrying (Retry(total=2, connect=None, read=None, redirect=None, status=None)) after connection broken by 'ReadTimeoutError(\"HTTPSConnectionPool(host='www.comet.ml', port=443): Read timed out. (read timeout=10)\",)': /clientlib/status-report/update\n",
      "WARNING:urllib3.connectionpool:Retrying (Retry(total=1, connect=None, read=None, redirect=None, status=None)) after connection broken by 'ReadTimeoutError(\"HTTPSConnectionPool(host='www.comet.ml', port=443): Read timed out. (read timeout=10)\",)': /clientlib/status-report/update\n",
      "WARNING:urllib3.connectionpool:Retrying (Retry(total=2, connect=None, read=None, redirect=None, status=None)) after connection broken by 'ReadTimeoutError(\"HTTPSConnectionPool(host='www.comet.ml', port=443): Read timed out. (read timeout=10)\",)': /clientlib/status-report/update\n",
      "WARNING:urllib3.connectionpool:Retrying (Retry(total=2, connect=None, read=None, redirect=None, status=None)) after connection broken by 'ReadTimeoutError(\"HTTPSConnectionPool(host='www.comet.ml', port=443): Read timed out. (read timeout=10)\",)': /clientlib/status-report/update\n",
      "WARNING:urllib3.connectionpool:Retrying (Retry(total=2, connect=None, read=None, redirect=None, status=None)) after connection broken by 'ReadTimeoutError(\"HTTPSConnectionPool(host='www.comet.ml', port=443): Read timed out. (read timeout=10)\",)': /clientlib/status-report/update\n",
      "WARNING:urllib3.connectionpool:Retrying (Retry(total=2, connect=None, read=None, redirect=None, status=None)) after connection broken by 'ReadTimeoutError(\"HTTPSConnectionPool(host='www.comet.ml', port=443): Read timed out. (read timeout=10)\",)': /clientlib/status-report/update\n",
      "WARNING:urllib3.connectionpool:Retrying (Retry(total=2, connect=None, read=None, redirect=None, status=None)) after connection broken by 'ReadTimeoutError(\"HTTPSConnectionPool(host='www.comet.ml', port=443): Read timed out. (read timeout=10)\",)': /clientlib/status-report/update\n",
      "WARNING:urllib3.connectionpool:Retrying (Retry(total=2, connect=None, read=None, redirect=None, status=None)) after connection broken by 'ReadTimeoutError(\"HTTPSConnectionPool(host='www.comet.ml', port=443): Read timed out. (read timeout=10)\",)': /clientlib/status-report/update\n",
      "WARNING:urllib3.connectionpool:Retrying (Retry(total=2, connect=None, read=None, redirect=None, status=None)) after connection broken by 'ReadTimeoutError(\"HTTPSConnectionPool(host='www.comet.ml', port=443): Read timed out. (read timeout=10)\",)': /clientlib/status-report/update\n",
      "WARNING:urllib3.connectionpool:Retrying (Retry(total=2, connect=None, read=None, redirect=None, status=None)) after connection broken by 'ReadTimeoutError(\"HTTPSConnectionPool(host='www.comet.ml', port=443): Read timed out. (read timeout=10)\",)': /clientlib/status-report/update\n",
      "WARNING:urllib3.connectionpool:Retrying (Retry(total=1, connect=None, read=None, redirect=None, status=None)) after connection broken by 'ReadTimeoutError(\"HTTPSConnectionPool(host='www.comet.ml', port=443): Read timed out. (read timeout=10)\",)': /clientlib/status-report/update\n",
      "WARNING:urllib3.connectionpool:Retrying (Retry(total=2, connect=None, read=None, redirect=None, status=None)) after connection broken by 'ReadTimeoutError(\"HTTPSConnectionPool(host='www.comet.ml', port=443): Read timed out. (read timeout=10)\",)': /clientlib/status-report/update\n",
      "WARNING:urllib3.connectionpool:Retrying (Retry(total=1, connect=None, read=None, redirect=None, status=None)) after connection broken by 'ReadTimeoutError(\"HTTPSConnectionPool(host='www.comet.ml', port=443): Read timed out. (read timeout=10)\",)': /clientlib/status-report/update\n",
      "WARNING:urllib3.connectionpool:Retrying (Retry(total=2, connect=None, read=None, redirect=None, status=None)) after connection broken by 'ReadTimeoutError(\"HTTPSConnectionPool(host='www.comet.ml', port=443): Read timed out. (read timeout=10)\",)': /clientlib/status-report/update\n",
      "WARNING:urllib3.connectionpool:Retrying (Retry(total=2, connect=None, read=None, redirect=None, status=None)) after connection broken by 'ReadTimeoutError(\"HTTPSConnectionPool(host='www.comet.ml', port=443): Read timed out. (read timeout=10)\",)': /clientlib/status-report/update\n",
      "WARNING:urllib3.connectionpool:Retrying (Retry(total=2, connect=None, read=None, redirect=None, status=None)) after connection broken by 'ReadTimeoutError(\"HTTPSConnectionPool(host='www.comet.ml', port=443): Read timed out. (read timeout=10)\",)': /clientlib/status-report/update\n",
      "WARNING:urllib3.connectionpool:Retrying (Retry(total=1, connect=None, read=None, redirect=None, status=None)) after connection broken by 'ReadTimeoutError(\"HTTPSConnectionPool(host='www.comet.ml', port=443): Read timed out. (read timeout=10)\",)': /clientlib/status-report/update\n",
      "WARNING:urllib3.connectionpool:Retrying (Retry(total=2, connect=None, read=None, redirect=None, status=None)) after connection broken by 'ReadTimeoutError(\"HTTPSConnectionPool(host='www.comet.ml', port=443): Read timed out. (read timeout=10)\",)': /clientlib/status-report/update\n",
      "WARNING:urllib3.connectionpool:Retrying (Retry(total=2, connect=None, read=None, redirect=None, status=None)) after connection broken by 'ReadTimeoutError(\"HTTPSConnectionPool(host='www.comet.ml', port=443): Read timed out. (read timeout=10)\",)': /clientlib/status-report/update\n",
      "WARNING:urllib3.connectionpool:Retrying (Retry(total=2, connect=None, read=None, redirect=None, status=None)) after connection broken by 'ReadTimeoutError(\"HTTPSConnectionPool(host='www.comet.ml', port=443): Read timed out. (read timeout=10)\",)': /clientlib/status-report/update\n",
      "WARNING:urllib3.connectionpool:Retrying (Retry(total=0, connect=None, read=None, redirect=None, status=None)) after connection broken by 'ReadTimeoutError(\"HTTPSConnectionPool(host='www.comet.ml', port=443): Read timed out. (read timeout=10)\",)': /clientlib/status-report/update\n",
      "WARNING:urllib3.connectionpool:Retrying (Retry(total=2, connect=None, read=None, redirect=None, status=None)) after connection broken by 'ReadTimeoutError(\"HTTPSConnectionPool(host='www.comet.ml', port=443): Read timed out. (read timeout=10)\",)': /clientlib/status-report/update\n",
      "WARNING:urllib3.connectionpool:Retrying (Retry(total=2, connect=None, read=None, redirect=None, status=None)) after connection broken by 'ReadTimeoutError(\"HTTPSConnectionPool(host='www.comet.ml', port=443): Read timed out. (read timeout=10)\",)': /clientlib/status-report/update\n",
      "WARNING:urllib3.connectionpool:Retrying (Retry(total=2, connect=None, read=None, redirect=None, status=None)) after connection broken by 'ReadTimeoutError(\"HTTPSConnectionPool(host='www.comet.ml', port=443): Read timed out. (read timeout=10)\",)': /clientlib/status-report/update\n",
      "WARNING:urllib3.connectionpool:Retrying (Retry(total=2, connect=None, read=None, redirect=None, status=None)) after connection broken by 'ReadTimeoutError(\"HTTPSConnectionPool(host='www.comet.ml', port=443): Read timed out. (read timeout=10)\",)': /clientlib/status-report/update\n",
      "WARNING:urllib3.connectionpool:Retrying (Retry(total=2, connect=None, read=None, redirect=None, status=None)) after connection broken by 'ReadTimeoutError(\"HTTPSConnectionPool(host='www.comet.ml', port=443): Read timed out. (read timeout=10)\",)': /clientlib/status-report/update\n",
      "WARNING:urllib3.connectionpool:Retrying (Retry(total=2, connect=None, read=None, redirect=None, status=None)) after connection broken by 'ReadTimeoutError(\"HTTPSConnectionPool(host='www.comet.ml', port=443): Read timed out. (read timeout=10)\",)': /clientlib/status-report/update\n",
      "WARNING:urllib3.connectionpool:Retrying (Retry(total=2, connect=None, read=None, redirect=None, status=None)) after connection broken by 'ReadTimeoutError(\"HTTPSConnectionPool(host='www.comet.ml', port=443): Read timed out. (read timeout=10)\",)': /clientlib/status-report/update\n",
      "WARNING:urllib3.connectionpool:Retrying (Retry(total=2, connect=None, read=None, redirect=None, status=None)) after connection broken by 'ReadTimeoutError(\"HTTPSConnectionPool(host='www.comet.ml', port=443): Read timed out. (read timeout=10)\",)': /clientlib/status-report/update\n",
      "WARNING:urllib3.connectionpool:Retrying (Retry(total=2, connect=None, read=None, redirect=None, status=None)) after connection broken by 'ReadTimeoutError(\"HTTPSConnectionPool(host='www.comet.ml', port=443): Read timed out. (read timeout=10)\",)': /clientlib/status-report/update\n",
      "WARNING:urllib3.connectionpool:Retrying (Retry(total=2, connect=None, read=None, redirect=None, status=None)) after connection broken by 'ReadTimeoutError(\"HTTPSConnectionPool(host='www.comet.ml', port=443): Read timed out. (read timeout=10)\",)': /clientlib/status-report/update\n",
      "WARNING:urllib3.connectionpool:Retrying (Retry(total=2, connect=None, read=None, redirect=None, status=None)) after connection broken by 'ReadTimeoutError(\"HTTPSConnectionPool(host='www.comet.ml', port=443): Read timed out. (read timeout=10)\",)': /clientlib/status-report/update\n",
      "WARNING:urllib3.connectionpool:Retrying (Retry(total=2, connect=None, read=None, redirect=None, status=None)) after connection broken by 'ReadTimeoutError(\"HTTPSConnectionPool(host='www.comet.ml', port=443): Read timed out. (read timeout=10)\",)': /clientlib/status-report/update\n",
      "WARNING:urllib3.connectionpool:Retrying (Retry(total=2, connect=None, read=None, redirect=None, status=None)) after connection broken by 'ReadTimeoutError(\"HTTPSConnectionPool(host='www.comet.ml', port=443): Read timed out. (read timeout=10)\",)': /clientlib/status-report/update\n",
      "WARNING:urllib3.connectionpool:Retrying (Retry(total=2, connect=None, read=None, redirect=None, status=None)) after connection broken by 'ReadTimeoutError(\"HTTPSConnectionPool(host='www.comet.ml', port=443): Read timed out. (read timeout=10)\",)': /clientlib/status-report/update\n",
      "WARNING:urllib3.connectionpool:Retrying (Retry(total=2, connect=None, read=None, redirect=None, status=None)) after connection broken by 'ReadTimeoutError(\"HTTPSConnectionPool(host='www.comet.ml', port=443): Read timed out. (read timeout=10)\",)': /clientlib/status-report/update\n",
      "WARNING:urllib3.connectionpool:Retrying (Retry(total=2, connect=None, read=None, redirect=None, status=None)) after connection broken by 'ReadTimeoutError(\"HTTPSConnectionPool(host='www.comet.ml', port=443): Read timed out. (read timeout=10)\",)': /clientlib/status-report/update\n",
      "WARNING:urllib3.connectionpool:Retrying (Retry(total=2, connect=None, read=None, redirect=None, status=None)) after connection broken by 'ReadTimeoutError(\"HTTPSConnectionPool(host='www.comet.ml', port=443): Read timed out. (read timeout=10)\",)': /clientlib/status-report/update\n",
      "WARNING:urllib3.connectionpool:Retrying (Retry(total=2, connect=None, read=None, redirect=None, status=None)) after connection broken by 'ReadTimeoutError(\"HTTPSConnectionPool(host='www.comet.ml', port=443): Read timed out. (read timeout=10)\",)': /clientlib/status-report/update\n",
      "WARNING:urllib3.connectionpool:Retrying (Retry(total=1, connect=None, read=None, redirect=None, status=None)) after connection broken by 'ReadTimeoutError(\"HTTPSConnectionPool(host='www.comet.ml', port=443): Read timed out. (read timeout=10)\",)': /clientlib/status-report/update\n",
      "WARNING:urllib3.connectionpool:Retrying (Retry(total=1, connect=None, read=None, redirect=None, status=None)) after connection broken by 'ReadTimeoutError(\"HTTPSConnectionPool(host='www.comet.ml', port=443): Read timed out. (read timeout=10)\",)': /clientlib/status-report/update\n",
      "WARNING:urllib3.connectionpool:Retrying (Retry(total=1, connect=None, read=None, redirect=None, status=None)) after connection broken by 'ReadTimeoutError(\"HTTPSConnectionPool(host='www.comet.ml', port=443): Read timed out. (read timeout=10)\",)': /clientlib/status-report/update\n",
      "WARNING:urllib3.connectionpool:Retrying (Retry(total=2, connect=None, read=None, redirect=None, status=None)) after connection broken by 'ReadTimeoutError(\"HTTPSConnectionPool(host='www.comet.ml', port=443): Read timed out. (read timeout=10)\",)': /clientlib/status-report/update\n",
      "WARNING:urllib3.connectionpool:Retrying (Retry(total=2, connect=None, read=None, redirect=None, status=None)) after connection broken by 'ReadTimeoutError(\"HTTPSConnectionPool(host='www.comet.ml', port=443): Read timed out. (read timeout=10)\",)': /clientlib/status-report/update\n",
      "WARNING:urllib3.connectionpool:Retrying (Retry(total=2, connect=None, read=None, redirect=None, status=None)) after connection broken by 'ReadTimeoutError(\"HTTPSConnectionPool(host='www.comet.ml', port=443): Read timed out. (read timeout=10)\",)': /clientlib/status-report/update\n",
      "WARNING:urllib3.connectionpool:Retrying (Retry(total=2, connect=None, read=None, redirect=None, status=None)) after connection broken by 'ReadTimeoutError(\"HTTPSConnectionPool(host='www.comet.ml', port=443): Read timed out. (read timeout=10)\",)': /clientlib/status-report/update\n",
      "WARNING:urllib3.connectionpool:Retrying (Retry(total=2, connect=None, read=None, redirect=None, status=None)) after connection broken by 'ReadTimeoutError(\"HTTPSConnectionPool(host='www.comet.ml', port=443): Read timed out. (read timeout=10)\",)': /clientlib/status-report/update\n",
      "WARNING:urllib3.connectionpool:Retrying (Retry(total=2, connect=None, read=None, redirect=None, status=None)) after connection broken by 'ReadTimeoutError(\"HTTPSConnectionPool(host='www.comet.ml', port=443): Read timed out. (read timeout=10)\",)': /clientlib/status-report/update\n",
      "WARNING:urllib3.connectionpool:Retrying (Retry(total=2, connect=None, read=None, redirect=None, status=None)) after connection broken by 'ReadTimeoutError(\"HTTPSConnectionPool(host='www.comet.ml', port=443): Read timed out. (read timeout=10)\",)': /clientlib/status-report/update\n",
      "WARNING:urllib3.connectionpool:Retrying (Retry(total=2, connect=None, read=None, redirect=None, status=None)) after connection broken by 'ReadTimeoutError(\"HTTPSConnectionPool(host='www.comet.ml', port=443): Read timed out. (read timeout=10)\",)': /clientlib/status-report/update\n",
      "WARNING:urllib3.connectionpool:Retrying (Retry(total=2, connect=None, read=None, redirect=None, status=None)) after connection broken by 'ReadTimeoutError(\"HTTPSConnectionPool(host='www.comet.ml', port=443): Read timed out. (read timeout=10)\",)': /clientlib/status-report/update\n",
      "WARNING:urllib3.connectionpool:Retrying (Retry(total=2, connect=None, read=None, redirect=None, status=None)) after connection broken by 'ReadTimeoutError(\"HTTPSConnectionPool(host='www.comet.ml', port=443): Read timed out. (read timeout=10)\",)': /clientlib/status-report/update\n",
      "WARNING:urllib3.connectionpool:Retrying (Retry(total=2, connect=None, read=None, redirect=None, status=None)) after connection broken by 'ReadTimeoutError(\"HTTPSConnectionPool(host='www.comet.ml', port=443): Read timed out. (read timeout=10)\",)': /clientlib/status-report/update\n",
      "WARNING:urllib3.connectionpool:Retrying (Retry(total=2, connect=None, read=None, redirect=None, status=None)) after connection broken by 'ReadTimeoutError(\"HTTPSConnectionPool(host='www.comet.ml', port=443): Read timed out. (read timeout=10)\",)': /clientlib/status-report/update\n",
      "WARNING:urllib3.connectionpool:Retrying (Retry(total=2, connect=None, read=None, redirect=None, status=None)) after connection broken by 'ReadTimeoutError(\"HTTPSConnectionPool(host='www.comet.ml', port=443): Read timed out. (read timeout=10)\",)': /clientlib/status-report/update\n",
      "WARNING:urllib3.connectionpool:Retrying (Retry(total=2, connect=None, read=None, redirect=None, status=None)) after connection broken by 'ReadTimeoutError(\"HTTPSConnectionPool(host='www.comet.ml', port=443): Read timed out. (read timeout=10)\",)': /clientlib/status-report/update\n",
      "WARNING:urllib3.connectionpool:Retrying (Retry(total=2, connect=None, read=None, redirect=None, status=None)) after connection broken by 'ReadTimeoutError(\"HTTPSConnectionPool(host='www.comet.ml', port=443): Read timed out. (read timeout=10)\",)': /clientlib/status-report/update\n",
      "WARNING:urllib3.connectionpool:Retrying (Retry(total=2, connect=None, read=None, redirect=None, status=None)) after connection broken by 'ReadTimeoutError(\"HTTPSConnectionPool(host='www.comet.ml', port=443): Read timed out. (read timeout=10)\",)': /clientlib/status-report/update\n",
      "WARNING:urllib3.connectionpool:Retrying (Retry(total=1, connect=None, read=None, redirect=None, status=None)) after connection broken by 'ReadTimeoutError(\"HTTPSConnectionPool(host='www.comet.ml', port=443): Read timed out. (read timeout=10)\",)': /clientlib/status-report/update\n",
      "WARNING:urllib3.connectionpool:Retrying (Retry(total=2, connect=None, read=None, redirect=None, status=None)) after connection broken by 'ReadTimeoutError(\"HTTPSConnectionPool(host='www.comet.ml', port=443): Read timed out. (read timeout=10)\",)': /clientlib/status-report/update\n",
      "WARNING:urllib3.connectionpool:Retrying (Retry(total=2, connect=None, read=None, redirect=None, status=None)) after connection broken by 'ReadTimeoutError(\"HTTPSConnectionPool(host='www.comet.ml', port=443): Read timed out. (read timeout=10)\",)': /clientlib/status-report/update\n",
      "WARNING:urllib3.connectionpool:Retrying (Retry(total=2, connect=None, read=None, redirect=None, status=None)) after connection broken by 'ReadTimeoutError(\"HTTPSConnectionPool(host='www.comet.ml', port=443): Read timed out. (read timeout=10)\",)': /clientlib/status-report/update\n",
      "WARNING:urllib3.connectionpool:Retrying (Retry(total=2, connect=None, read=None, redirect=None, status=None)) after connection broken by 'ReadTimeoutError(\"HTTPSConnectionPool(host='www.comet.ml', port=443): Read timed out. (read timeout=10)\",)': /clientlib/status-report/update\n",
      "WARNING:urllib3.connectionpool:Retrying (Retry(total=2, connect=None, read=None, redirect=None, status=None)) after connection broken by 'ReadTimeoutError(\"HTTPSConnectionPool(host='www.comet.ml', port=443): Read timed out. (read timeout=10)\",)': /clientlib/status-report/update\n",
      "WARNING:urllib3.connectionpool:Retrying (Retry(total=2, connect=None, read=None, redirect=None, status=None)) after connection broken by 'ReadTimeoutError(\"HTTPSConnectionPool(host='www.comet.ml', port=443): Read timed out. (read timeout=10)\",)': /clientlib/status-report/update\n",
      "WARNING:urllib3.connectionpool:Retrying (Retry(total=2, connect=None, read=None, redirect=None, status=None)) after connection broken by 'ReadTimeoutError(\"HTTPSConnectionPool(host='www.comet.ml', port=443): Read timed out. (read timeout=10)\",)': /clientlib/status-report/update\n",
      "WARNING:urllib3.connectionpool:Retrying (Retry(total=2, connect=None, read=None, redirect=None, status=None)) after connection broken by 'ReadTimeoutError(\"HTTPSConnectionPool(host='www.comet.ml', port=443): Read timed out. (read timeout=10)\",)': /clientlib/status-report/update\n",
      "WARNING:urllib3.connectionpool:Retrying (Retry(total=1, connect=None, read=None, redirect=None, status=None)) after connection broken by 'ReadTimeoutError(\"HTTPSConnectionPool(host='www.comet.ml', port=443): Read timed out. (read timeout=10)\",)': /clientlib/status-report/update\n",
      "WARNING:urllib3.connectionpool:Retrying (Retry(total=1, connect=None, read=None, redirect=None, status=None)) after connection broken by 'ReadTimeoutError(\"HTTPSConnectionPool(host='www.comet.ml', port=443): Read timed out. (read timeout=10)\",)': /clientlib/status-report/update\n",
      "WARNING:urllib3.connectionpool:Retrying (Retry(total=2, connect=None, read=None, redirect=None, status=None)) after connection broken by 'ReadTimeoutError(\"HTTPSConnectionPool(host='www.comet.ml', port=443): Read timed out. (read timeout=10)\",)': /clientlib/status-report/update\n",
      "WARNING:urllib3.connectionpool:Retrying (Retry(total=2, connect=None, read=None, redirect=None, status=None)) after connection broken by 'ReadTimeoutError(\"HTTPSConnectionPool(host='www.comet.ml', port=443): Read timed out. (read timeout=10)\",)': /clientlib/status-report/update\n",
      "WARNING:urllib3.connectionpool:Retrying (Retry(total=2, connect=None, read=None, redirect=None, status=None)) after connection broken by 'ReadTimeoutError(\"HTTPSConnectionPool(host='www.comet.ml', port=443): Read timed out. (read timeout=10)\",)': /clientlib/status-report/update\n",
      "WARNING:urllib3.connectionpool:Retrying (Retry(total=2, connect=None, read=None, redirect=None, status=None)) after connection broken by 'ReadTimeoutError(\"HTTPSConnectionPool(host='www.comet.ml', port=443): Read timed out. (read timeout=10)\",)': /clientlib/status-report/update\n",
      "WARNING:urllib3.connectionpool:Retrying (Retry(total=2, connect=None, read=None, redirect=None, status=None)) after connection broken by 'ReadTimeoutError(\"HTTPSConnectionPool(host='www.comet.ml', port=443): Read timed out. (read timeout=10)\",)': /clientlib/status-report/update\n",
      "WARNING:urllib3.connectionpool:Retrying (Retry(total=2, connect=None, read=None, redirect=None, status=None)) after connection broken by 'ReadTimeoutError(\"HTTPSConnectionPool(host='www.comet.ml', port=443): Read timed out. (read timeout=10)\",)': /clientlib/status-report/update\n",
      "WARNING:urllib3.connectionpool:Retrying (Retry(total=1, connect=None, read=None, redirect=None, status=None)) after connection broken by 'ReadTimeoutError(\"HTTPSConnectionPool(host='www.comet.ml', port=443): Read timed out. (read timeout=10)\",)': /clientlib/status-report/update\n",
      "WARNING:urllib3.connectionpool:Retrying (Retry(total=1, connect=None, read=None, redirect=None, status=None)) after connection broken by 'ReadTimeoutError(\"HTTPSConnectionPool(host='www.comet.ml', port=443): Read timed out. (read timeout=10)\",)': /clientlib/status-report/update\n",
      "WARNING:urllib3.connectionpool:Retrying (Retry(total=2, connect=None, read=None, redirect=None, status=None)) after connection broken by 'ReadTimeoutError(\"HTTPSConnectionPool(host='www.comet.ml', port=443): Read timed out. (read timeout=10)\",)': /clientlib/status-report/update\n",
      "WARNING:urllib3.connectionpool:Retrying (Retry(total=0, connect=None, read=None, redirect=None, status=None)) after connection broken by 'ReadTimeoutError(\"HTTPSConnectionPool(host='www.comet.ml', port=443): Read timed out. (read timeout=10)\",)': /clientlib/status-report/update\n",
      "WARNING:urllib3.connectionpool:Retrying (Retry(total=2, connect=None, read=None, redirect=None, status=None)) after connection broken by 'ReadTimeoutError(\"HTTPSConnectionPool(host='www.comet.ml', port=443): Read timed out. (read timeout=10)\",)': /clientlib/status-report/update\n",
      "WARNING:urllib3.connectionpool:Retrying (Retry(total=2, connect=None, read=None, redirect=None, status=None)) after connection broken by 'ReadTimeoutError(\"HTTPSConnectionPool(host='www.comet.ml', port=443): Read timed out. (read timeout=10)\",)': /clientlib/status-report/update\n",
      "WARNING:urllib3.connectionpool:Retrying (Retry(total=2, connect=None, read=None, redirect=None, status=None)) after connection broken by 'ReadTimeoutError(\"HTTPSConnectionPool(host='www.comet.ml', port=443): Read timed out. (read timeout=10)\",)': /clientlib/status-report/update\n",
      "WARNING:urllib3.connectionpool:Retrying (Retry(total=2, connect=None, read=None, redirect=None, status=None)) after connection broken by 'ReadTimeoutError(\"HTTPSConnectionPool(host='www.comet.ml', port=443): Read timed out. (read timeout=10)\",)': /clientlib/status-report/update\n",
      "WARNING:urllib3.connectionpool:Retrying (Retry(total=0, connect=None, read=None, redirect=None, status=None)) after connection broken by 'ReadTimeoutError(\"HTTPSConnectionPool(host='www.comet.ml', port=443): Read timed out. (read timeout=10)\",)': /clientlib/status-report/update\n",
      "WARNING:urllib3.connectionpool:Retrying (Retry(total=2, connect=None, read=None, redirect=None, status=None)) after connection broken by 'ReadTimeoutError(\"HTTPSConnectionPool(host='www.comet.ml', port=443): Read timed out. (read timeout=10)\",)': /clientlib/status-report/update\n",
      "WARNING:urllib3.connectionpool:Retrying (Retry(total=1, connect=None, read=None, redirect=None, status=None)) after connection broken by 'ReadTimeoutError(\"HTTPSConnectionPool(host='www.comet.ml', port=443): Read timed out. (read timeout=10)\",)': /clientlib/status-report/update\n",
      "WARNING:urllib3.connectionpool:Retrying (Retry(total=2, connect=None, read=None, redirect=None, status=None)) after connection broken by 'ReadTimeoutError(\"HTTPSConnectionPool(host='www.comet.ml', port=443): Read timed out. (read timeout=10)\",)': /clientlib/status-report/update\n",
      "WARNING:urllib3.connectionpool:Retrying (Retry(total=2, connect=None, read=None, redirect=None, status=None)) after connection broken by 'ReadTimeoutError(\"HTTPSConnectionPool(host='www.comet.ml', port=443): Read timed out. (read timeout=10)\",)': /clientlib/status-report/update\n",
      "WARNING:urllib3.connectionpool:Retrying (Retry(total=2, connect=None, read=None, redirect=None, status=None)) after connection broken by 'ReadTimeoutError(\"HTTPSConnectionPool(host='www.comet.ml', port=443): Read timed out. (read timeout=10)\",)': /clientlib/status-report/update\n",
      "WARNING:urllib3.connectionpool:Retrying (Retry(total=2, connect=None, read=None, redirect=None, status=None)) after connection broken by 'ReadTimeoutError(\"HTTPSConnectionPool(host='www.comet.ml', port=443): Read timed out. (read timeout=10)\",)': /clientlib/status-report/update\n",
      "WARNING:urllib3.connectionpool:Retrying (Retry(total=2, connect=None, read=None, redirect=None, status=None)) after connection broken by 'ReadTimeoutError(\"HTTPSConnectionPool(host='www.comet.ml', port=443): Read timed out. (read timeout=10)\",)': /clientlib/status-report/update\n",
      "WARNING:urllib3.connectionpool:Retrying (Retry(total=2, connect=None, read=None, redirect=None, status=None)) after connection broken by 'ReadTimeoutError(\"HTTPSConnectionPool(host='www.comet.ml', port=443): Read timed out. (read timeout=10)\",)': /clientlib/status-report/update\n",
      "WARNING:urllib3.connectionpool:Retrying (Retry(total=2, connect=None, read=None, redirect=None, status=None)) after connection broken by 'ReadTimeoutError(\"HTTPSConnectionPool(host='www.comet.ml', port=443): Read timed out. (read timeout=10)\",)': /clientlib/status-report/update\n",
      "WARNING:urllib3.connectionpool:Retrying (Retry(total=2, connect=None, read=None, redirect=None, status=None)) after connection broken by 'ReadTimeoutError(\"HTTPSConnectionPool(host='www.comet.ml', port=443): Read timed out. (read timeout=10)\",)': /clientlib/status-report/update\n",
      "WARNING:urllib3.connectionpool:Retrying (Retry(total=1, connect=None, read=None, redirect=None, status=None)) after connection broken by 'ReadTimeoutError(\"HTTPSConnectionPool(host='www.comet.ml', port=443): Read timed out. (read timeout=10)\",)': /clientlib/status-report/update\n",
      "WARNING:urllib3.connectionpool:Retrying (Retry(total=2, connect=None, read=None, redirect=None, status=None)) after connection broken by 'ReadTimeoutError(\"HTTPSConnectionPool(host='www.comet.ml', port=443): Read timed out. (read timeout=10)\",)': /clientlib/status-report/update\n",
      "WARNING:urllib3.connectionpool:Retrying (Retry(total=1, connect=None, read=None, redirect=None, status=None)) after connection broken by 'ReadTimeoutError(\"HTTPSConnectionPool(host='www.comet.ml', port=443): Read timed out. (read timeout=10)\",)': /clientlib/status-report/update\n",
      "WARNING:urllib3.connectionpool:Retrying (Retry(total=2, connect=None, read=None, redirect=None, status=None)) after connection broken by 'ReadTimeoutError(\"HTTPSConnectionPool(host='www.comet.ml', port=443): Read timed out. (read timeout=10)\",)': /clientlib/status-report/update\n",
      "WARNING:urllib3.connectionpool:Retrying (Retry(total=2, connect=None, read=None, redirect=None, status=None)) after connection broken by 'ReadTimeoutError(\"HTTPSConnectionPool(host='www.comet.ml', port=443): Read timed out. (read timeout=10)\",)': /clientlib/status-report/update\n",
      "WARNING:urllib3.connectionpool:Retrying (Retry(total=2, connect=None, read=None, redirect=None, status=None)) after connection broken by 'ReadTimeoutError(\"HTTPSConnectionPool(host='www.comet.ml', port=443): Read timed out. (read timeout=10)\",)': /clientlib/status-report/update\n",
      "WARNING:urllib3.connectionpool:Retrying (Retry(total=2, connect=None, read=None, redirect=None, status=None)) after connection broken by 'ReadTimeoutError(\"HTTPSConnectionPool(host='www.comet.ml', port=443): Read timed out. (read timeout=10)\",)': /clientlib/status-report/update\n",
      "WARNING:urllib3.connectionpool:Retrying (Retry(total=2, connect=None, read=None, redirect=None, status=None)) after connection broken by 'ReadTimeoutError(\"HTTPSConnectionPool(host='www.comet.ml', port=443): Read timed out. (read timeout=10)\",)': /clientlib/status-report/update\n",
      "WARNING:urllib3.connectionpool:Retrying (Retry(total=2, connect=None, read=None, redirect=None, status=None)) after connection broken by 'ReadTimeoutError(\"HTTPSConnectionPool(host='www.comet.ml', port=443): Read timed out. (read timeout=10)\",)': /clientlib/status-report/update\n",
      "WARNING:urllib3.connectionpool:Retrying (Retry(total=0, connect=None, read=None, redirect=None, status=None)) after connection broken by 'ReadTimeoutError(\"HTTPSConnectionPool(host='www.comet.ml', port=443): Read timed out. (read timeout=10)\",)': /clientlib/status-report/update\n",
      "WARNING:urllib3.connectionpool:Retrying (Retry(total=2, connect=None, read=None, redirect=None, status=None)) after connection broken by 'ReadTimeoutError(\"HTTPSConnectionPool(host='www.comet.ml', port=443): Read timed out. (read timeout=10)\",)': /clientlib/status-report/update\n",
      "WARNING:urllib3.connectionpool:Retrying (Retry(total=2, connect=None, read=None, redirect=None, status=None)) after connection broken by 'ReadTimeoutError(\"HTTPSConnectionPool(host='www.comet.ml', port=443): Read timed out. (read timeout=10)\",)': /clientlib/status-report/update\n",
      "WARNING:urllib3.connectionpool:Retrying (Retry(total=2, connect=None, read=None, redirect=None, status=None)) after connection broken by 'ReadTimeoutError(\"HTTPSConnectionPool(host='www.comet.ml', port=443): Read timed out. (read timeout=10)\",)': /clientlib/status-report/update\n",
      "WARNING:urllib3.connectionpool:Retrying (Retry(total=1, connect=None, read=None, redirect=None, status=None)) after connection broken by 'ReadTimeoutError(\"HTTPSConnectionPool(host='www.comet.ml', port=443): Read timed out. (read timeout=10)\",)': /clientlib/status-report/update\n",
      "WARNING:urllib3.connectionpool:Retrying (Retry(total=2, connect=None, read=None, redirect=None, status=None)) after connection broken by 'ReadTimeoutError(\"HTTPSConnectionPool(host='www.comet.ml', port=443): Read timed out. (read timeout=10)\",)': /clientlib/status-report/update\n",
      "WARNING:urllib3.connectionpool:Retrying (Retry(total=2, connect=None, read=None, redirect=None, status=None)) after connection broken by 'ReadTimeoutError(\"HTTPSConnectionPool(host='www.comet.ml', port=443): Read timed out. (read timeout=10)\",)': /clientlib/status-report/update\n",
      "WARNING:urllib3.connectionpool:Retrying (Retry(total=1, connect=None, read=None, redirect=None, status=None)) after connection broken by 'ReadTimeoutError(\"HTTPSConnectionPool(host='www.comet.ml', port=443): Read timed out. (read timeout=10)\",)': /clientlib/status-report/update\n",
      "WARNING:urllib3.connectionpool:Retrying (Retry(total=0, connect=None, read=None, redirect=None, status=None)) after connection broken by 'ReadTimeoutError(\"HTTPSConnectionPool(host='www.comet.ml', port=443): Read timed out. (read timeout=10)\",)': /clientlib/status-report/update\n",
      "WARNING:urllib3.connectionpool:Retrying (Retry(total=2, connect=None, read=None, redirect=None, status=None)) after connection broken by 'ReadTimeoutError(\"HTTPSConnectionPool(host='www.comet.ml', port=443): Read timed out. (read timeout=10)\",)': /clientlib/status-report/update\n",
      "WARNING:urllib3.connectionpool:Retrying (Retry(total=2, connect=None, read=None, redirect=None, status=None)) after connection broken by 'ReadTimeoutError(\"HTTPSConnectionPool(host='www.comet.ml', port=443): Read timed out. (read timeout=10)\",)': /clientlib/status-report/update\n",
      "WARNING:urllib3.connectionpool:Retrying (Retry(total=1, connect=None, read=None, redirect=None, status=None)) after connection broken by 'ReadTimeoutError(\"HTTPSConnectionPool(host='www.comet.ml', port=443): Read timed out. (read timeout=10)\",)': /clientlib/status-report/update\n",
      "WARNING:urllib3.connectionpool:Retrying (Retry(total=2, connect=None, read=None, redirect=None, status=None)) after connection broken by 'ReadTimeoutError(\"HTTPSConnectionPool(host='www.comet.ml', port=443): Read timed out. (read timeout=10)\",)': /clientlib/status-report/update\n",
      "WARNING:urllib3.connectionpool:Retrying (Retry(total=0, connect=None, read=None, redirect=None, status=None)) after connection broken by 'ReadTimeoutError(\"HTTPSConnectionPool(host='www.comet.ml', port=443): Read timed out. (read timeout=10)\",)': /clientlib/status-report/update\n",
      "WARNING:urllib3.connectionpool:Retrying (Retry(total=2, connect=None, read=None, redirect=None, status=None)) after connection broken by 'ReadTimeoutError(\"HTTPSConnectionPool(host='www.comet.ml', port=443): Read timed out. (read timeout=10)\",)': /clientlib/status-report/update\n",
      "WARNING:urllib3.connectionpool:Retrying (Retry(total=0, connect=None, read=None, redirect=None, status=None)) after connection broken by 'ReadTimeoutError(\"HTTPSConnectionPool(host='www.comet.ml', port=443): Read timed out. (read timeout=10)\",)': /clientlib/status-report/update\n",
      "WARNING:urllib3.connectionpool:Retrying (Retry(total=2, connect=None, read=None, redirect=None, status=None)) after connection broken by 'ReadTimeoutError(\"HTTPSConnectionPool(host='www.comet.ml', port=443): Read timed out. (read timeout=10)\",)': /clientlib/status-report/update\n",
      "WARNING:urllib3.connectionpool:Retrying (Retry(total=2, connect=None, read=None, redirect=None, status=None)) after connection broken by 'ReadTimeoutError(\"HTTPSConnectionPool(host='www.comet.ml', port=443): Read timed out. (read timeout=10)\",)': /clientlib/status-report/update\n",
      "WARNING:urllib3.connectionpool:Retrying (Retry(total=2, connect=None, read=None, redirect=None, status=None)) after connection broken by 'ReadTimeoutError(\"HTTPSConnectionPool(host='www.comet.ml', port=443): Read timed out. (read timeout=10)\",)': /clientlib/status-report/update\n",
      "WARNING:urllib3.connectionpool:Retrying (Retry(total=2, connect=None, read=None, redirect=None, status=None)) after connection broken by 'ReadTimeoutError(\"HTTPSConnectionPool(host='www.comet.ml', port=443): Read timed out. (read timeout=10)\",)': /clientlib/status-report/update\n",
      "WARNING:urllib3.connectionpool:Retrying (Retry(total=2, connect=None, read=None, redirect=None, status=None)) after connection broken by 'ReadTimeoutError(\"HTTPSConnectionPool(host='www.comet.ml', port=443): Read timed out. (read timeout=10)\",)': /clientlib/status-report/update\n",
      "WARNING:urllib3.connectionpool:Retrying (Retry(total=2, connect=None, read=None, redirect=None, status=None)) after connection broken by 'ReadTimeoutError(\"HTTPSConnectionPool(host='www.comet.ml', port=443): Read timed out. (read timeout=10)\",)': /clientlib/status-report/update\n",
      "WARNING:urllib3.connectionpool:Retrying (Retry(total=2, connect=None, read=None, redirect=None, status=None)) after connection broken by 'ReadTimeoutError(\"HTTPSConnectionPool(host='www.comet.ml', port=443): Read timed out. (read timeout=10)\",)': /clientlib/status-report/update\n",
      "WARNING:urllib3.connectionpool:Retrying (Retry(total=2, connect=None, read=None, redirect=None, status=None)) after connection broken by 'ReadTimeoutError(\"HTTPSConnectionPool(host='www.comet.ml', port=443): Read timed out. (read timeout=10)\",)': /clientlib/status-report/update\n",
      "WARNING:urllib3.connectionpool:Retrying (Retry(total=1, connect=None, read=None, redirect=None, status=None)) after connection broken by 'ReadTimeoutError(\"HTTPSConnectionPool(host='www.comet.ml', port=443): Read timed out. (read timeout=10)\",)': /clientlib/status-report/update\n",
      "WARNING:urllib3.connectionpool:Retrying (Retry(total=2, connect=None, read=None, redirect=None, status=None)) after connection broken by 'ReadTimeoutError(\"HTTPSConnectionPool(host='www.comet.ml', port=443): Read timed out. (read timeout=10)\",)': /clientlib/status-report/update\n",
      "WARNING:urllib3.connectionpool:Retrying (Retry(total=2, connect=None, read=None, redirect=None, status=None)) after connection broken by 'ReadTimeoutError(\"HTTPSConnectionPool(host='www.comet.ml', port=443): Read timed out. (read timeout=10)\",)': /clientlib/status-report/update\n",
      "WARNING:urllib3.connectionpool:Retrying (Retry(total=2, connect=None, read=None, redirect=None, status=None)) after connection broken by 'ReadTimeoutError(\"HTTPSConnectionPool(host='www.comet.ml', port=443): Read timed out. (read timeout=10)\",)': /clientlib/status-report/update\n",
      "WARNING:urllib3.connectionpool:Retrying (Retry(total=2, connect=None, read=None, redirect=None, status=None)) after connection broken by 'ReadTimeoutError(\"HTTPSConnectionPool(host='www.comet.ml', port=443): Read timed out. (read timeout=10)\",)': /clientlib/status-report/update\n",
      "WARNING:urllib3.connectionpool:Retrying (Retry(total=1, connect=None, read=None, redirect=None, status=None)) after connection broken by 'ReadTimeoutError(\"HTTPSConnectionPool(host='www.comet.ml', port=443): Read timed out. (read timeout=10)\",)': /clientlib/status-report/update\n",
      "WARNING:urllib3.connectionpool:Retrying (Retry(total=2, connect=None, read=None, redirect=None, status=None)) after connection broken by 'ReadTimeoutError(\"HTTPSConnectionPool(host='www.comet.ml', port=443): Read timed out. (read timeout=10)\",)': /clientlib/status-report/update\n",
      "WARNING:urllib3.connectionpool:Retrying (Retry(total=2, connect=None, read=None, redirect=None, status=None)) after connection broken by 'ReadTimeoutError(\"HTTPSConnectionPool(host='www.comet.ml', port=443): Read timed out. (read timeout=10)\",)': /clientlib/status-report/update\n",
      "WARNING:urllib3.connectionpool:Retrying (Retry(total=2, connect=None, read=None, redirect=None, status=None)) after connection broken by 'ReadTimeoutError(\"HTTPSConnectionPool(host='www.comet.ml', port=443): Read timed out. (read timeout=10)\",)': /clientlib/status-report/update\n",
      "WARNING:urllib3.connectionpool:Retrying (Retry(total=2, connect=None, read=None, redirect=None, status=None)) after connection broken by 'ReadTimeoutError(\"HTTPSConnectionPool(host='www.comet.ml', port=443): Read timed out. (read timeout=10)\",)': /clientlib/status-report/update\n",
      "WARNING:urllib3.connectionpool:Retrying (Retry(total=1, connect=None, read=None, redirect=None, status=None)) after connection broken by 'ReadTimeoutError(\"HTTPSConnectionPool(host='www.comet.ml', port=443): Read timed out. (read timeout=10)\",)': /clientlib/status-report/update\n",
      "WARNING:urllib3.connectionpool:Retrying (Retry(total=2, connect=None, read=None, redirect=None, status=None)) after connection broken by 'ReadTimeoutError(\"HTTPSConnectionPool(host='www.comet.ml', port=443): Read timed out. (read timeout=10)\",)': /clientlib/status-report/update\n",
      "WARNING:urllib3.connectionpool:Retrying (Retry(total=1, connect=None, read=None, redirect=None, status=None)) after connection broken by 'ReadTimeoutError(\"HTTPSConnectionPool(host='www.comet.ml', port=443): Read timed out. (read timeout=10)\",)': /clientlib/status-report/update\n",
      "WARNING:urllib3.connectionpool:Retrying (Retry(total=2, connect=None, read=None, redirect=None, status=None)) after connection broken by 'ReadTimeoutError(\"HTTPSConnectionPool(host='www.comet.ml', port=443): Read timed out. (read timeout=10)\",)': /clientlib/status-report/update\n",
      "WARNING:urllib3.connectionpool:Retrying (Retry(total=2, connect=None, read=None, redirect=None, status=None)) after connection broken by 'ReadTimeoutError(\"HTTPSConnectionPool(host='www.comet.ml', port=443): Read timed out. (read timeout=10)\",)': /clientlib/status-report/update\n",
      "WARNING:urllib3.connectionpool:Retrying (Retry(total=2, connect=None, read=None, redirect=None, status=None)) after connection broken by 'ReadTimeoutError(\"HTTPSConnectionPool(host='www.comet.ml', port=443): Read timed out. (read timeout=10)\",)': /clientlib/status-report/update\n",
      "WARNING:urllib3.connectionpool:Retrying (Retry(total=2, connect=None, read=None, redirect=None, status=None)) after connection broken by 'ReadTimeoutError(\"HTTPSConnectionPool(host='www.comet.ml', port=443): Read timed out. (read timeout=10)\",)': /clientlib/status-report/update\n",
      "WARNING:urllib3.connectionpool:Retrying (Retry(total=2, connect=None, read=None, redirect=None, status=None)) after connection broken by 'ReadTimeoutError(\"HTTPSConnectionPool(host='www.comet.ml', port=443): Read timed out. (read timeout=10)\",)': /clientlib/status-report/update\n",
      "WARNING:urllib3.connectionpool:Retrying (Retry(total=0, connect=None, read=None, redirect=None, status=None)) after connection broken by 'ReadTimeoutError(\"HTTPSConnectionPool(host='www.comet.ml', port=443): Read timed out. (read timeout=10)\",)': /clientlib/status-report/update\n",
      "WARNING:urllib3.connectionpool:Retrying (Retry(total=0, connect=None, read=None, redirect=None, status=None)) after connection broken by 'ReadTimeoutError(\"HTTPSConnectionPool(host='www.comet.ml', port=443): Read timed out. (read timeout=10)\",)': /clientlib/status-report/update\n",
      "WARNING:urllib3.connectionpool:Retrying (Retry(total=2, connect=None, read=None, redirect=None, status=None)) after connection broken by 'ReadTimeoutError(\"HTTPSConnectionPool(host='www.comet.ml', port=443): Read timed out. (read timeout=10)\",)': /clientlib/status-report/update\n",
      "WARNING:urllib3.connectionpool:Retrying (Retry(total=1, connect=None, read=None, redirect=None, status=None)) after connection broken by 'ReadTimeoutError(\"HTTPSConnectionPool(host='www.comet.ml', port=443): Read timed out. (read timeout=10)\",)': /clientlib/status-report/update\n",
      "WARNING:urllib3.connectionpool:Retrying (Retry(total=2, connect=None, read=None, redirect=None, status=None)) after connection broken by 'ReadTimeoutError(\"HTTPSConnectionPool(host='www.comet.ml', port=443): Read timed out. (read timeout=10)\",)': /clientlib/status-report/update\n",
      "WARNING:urllib3.connectionpool:Retrying (Retry(total=2, connect=None, read=None, redirect=None, status=None)) after connection broken by 'ReadTimeoutError(\"HTTPSConnectionPool(host='www.comet.ml', port=443): Read timed out. (read timeout=10)\",)': /clientlib/status-report/update\n",
      "WARNING:urllib3.connectionpool:Retrying (Retry(total=2, connect=None, read=None, redirect=None, status=None)) after connection broken by 'ReadTimeoutError(\"HTTPSConnectionPool(host='www.comet.ml', port=443): Read timed out. (read timeout=10)\",)': /clientlib/status-report/update\n",
      "WARNING:urllib3.connectionpool:Retrying (Retry(total=0, connect=None, read=None, redirect=None, status=None)) after connection broken by 'ReadTimeoutError(\"HTTPSConnectionPool(host='www.comet.ml', port=443): Read timed out. (read timeout=10)\",)': /clientlib/status-report/update\n",
      "WARNING:urllib3.connectionpool:Retrying (Retry(total=2, connect=None, read=None, redirect=None, status=None)) after connection broken by 'ReadTimeoutError(\"HTTPSConnectionPool(host='www.comet.ml', port=443): Read timed out. (read timeout=10)\",)': /clientlib/status-report/update\n",
      "WARNING:urllib3.connectionpool:Retrying (Retry(total=2, connect=None, read=None, redirect=None, status=None)) after connection broken by 'ReadTimeoutError(\"HTTPSConnectionPool(host='www.comet.ml', port=443): Read timed out. (read timeout=10)\",)': /clientlib/status-report/update\n",
      "WARNING:urllib3.connectionpool:Retrying (Retry(total=1, connect=None, read=None, redirect=None, status=None)) after connection broken by 'ReadTimeoutError(\"HTTPSConnectionPool(host='www.comet.ml', port=443): Read timed out. (read timeout=10)\",)': /clientlib/status-report/update\n",
      "WARNING:urllib3.connectionpool:Retrying (Retry(total=0, connect=None, read=None, redirect=None, status=None)) after connection broken by 'ReadTimeoutError(\"HTTPSConnectionPool(host='www.comet.ml', port=443): Read timed out. (read timeout=10)\",)': /clientlib/status-report/update\n",
      "WARNING:urllib3.connectionpool:Retrying (Retry(total=1, connect=None, read=None, redirect=None, status=None)) after connection broken by 'ReadTimeoutError(\"HTTPSConnectionPool(host='www.comet.ml', port=443): Read timed out. (read timeout=10)\",)': /clientlib/status-report/update\n",
      "WARNING:urllib3.connectionpool:Retrying (Retry(total=2, connect=None, read=None, redirect=None, status=None)) after connection broken by 'ReadTimeoutError(\"HTTPSConnectionPool(host='www.comet.ml', port=443): Read timed out. (read timeout=10)\",)': /clientlib/status-report/update\n",
      "WARNING:urllib3.connectionpool:Retrying (Retry(total=2, connect=None, read=None, redirect=None, status=None)) after connection broken by 'ReadTimeoutError(\"HTTPSConnectionPool(host='www.comet.ml', port=443): Read timed out. (read timeout=10)\",)': /clientlib/status-report/update\n",
      "WARNING:urllib3.connectionpool:Retrying (Retry(total=2, connect=None, read=None, redirect=None, status=None)) after connection broken by 'ReadTimeoutError(\"HTTPSConnectionPool(host='www.comet.ml', port=443): Read timed out. (read timeout=10)\",)': /clientlib/status-report/update\n",
      "WARNING:urllib3.connectionpool:Retrying (Retry(total=2, connect=None, read=None, redirect=None, status=None)) after connection broken by 'ReadTimeoutError(\"HTTPSConnectionPool(host='www.comet.ml', port=443): Read timed out. (read timeout=10)\",)': /clientlib/status-report/update\n",
      "WARNING:urllib3.connectionpool:Retrying (Retry(total=2, connect=None, read=None, redirect=None, status=None)) after connection broken by 'ReadTimeoutError(\"HTTPSConnectionPool(host='www.comet.ml', port=443): Read timed out. (read timeout=10)\",)': /clientlib/status-report/update\n",
      "WARNING:urllib3.connectionpool:Retrying (Retry(total=2, connect=None, read=None, redirect=None, status=None)) after connection broken by 'ReadTimeoutError(\"HTTPSConnectionPool(host='www.comet.ml', port=443): Read timed out. (read timeout=10)\",)': /clientlib/status-report/update\n",
      "WARNING:urllib3.connectionpool:Retrying (Retry(total=2, connect=None, read=None, redirect=None, status=None)) after connection broken by 'ReadTimeoutError(\"HTTPSConnectionPool(host='www.comet.ml', port=443): Read timed out. (read timeout=10)\",)': /clientlib/status-report/update\n",
      "WARNING:urllib3.connectionpool:Retrying (Retry(total=2, connect=None, read=None, redirect=None, status=None)) after connection broken by 'ReadTimeoutError(\"HTTPSConnectionPool(host='www.comet.ml', port=443): Read timed out. (read timeout=10)\",)': /clientlib/status-report/update\n",
      "WARNING:urllib3.connectionpool:Retrying (Retry(total=2, connect=None, read=None, redirect=None, status=None)) after connection broken by 'ReadTimeoutError(\"HTTPSConnectionPool(host='www.comet.ml', port=443): Read timed out. (read timeout=10)\",)': /clientlib/status-report/update\n",
      "WARNING:urllib3.connectionpool:Retrying (Retry(total=2, connect=None, read=None, redirect=None, status=None)) after connection broken by 'ReadTimeoutError(\"HTTPSConnectionPool(host='www.comet.ml', port=443): Read timed out. (read timeout=10)\",)': /clientlib/status-report/update\n",
      "WARNING:urllib3.connectionpool:Retrying (Retry(total=2, connect=None, read=None, redirect=None, status=None)) after connection broken by 'ReadTimeoutError(\"HTTPSConnectionPool(host='www.comet.ml', port=443): Read timed out. (read timeout=10)\",)': /clientlib/status-report/update\n",
      "WARNING:urllib3.connectionpool:Retrying (Retry(total=2, connect=None, read=None, redirect=None, status=None)) after connection broken by 'ReadTimeoutError(\"HTTPSConnectionPool(host='www.comet.ml', port=443): Read timed out. (read timeout=10)\",)': /clientlib/status-report/update\n",
      "WARNING:urllib3.connectionpool:Retrying (Retry(total=2, connect=None, read=None, redirect=None, status=None)) after connection broken by 'ReadTimeoutError(\"HTTPSConnectionPool(host='www.comet.ml', port=443): Read timed out. (read timeout=10)\",)': /clientlib/status-report/update\n",
      "WARNING:urllib3.connectionpool:Retrying (Retry(total=1, connect=None, read=None, redirect=None, status=None)) after connection broken by 'ReadTimeoutError(\"HTTPSConnectionPool(host='www.comet.ml', port=443): Read timed out. (read timeout=10)\",)': /clientlib/status-report/update\n",
      "WARNING:urllib3.connectionpool:Retrying (Retry(total=1, connect=None, read=None, redirect=None, status=None)) after connection broken by 'ReadTimeoutError(\"HTTPSConnectionPool(host='www.comet.ml', port=443): Read timed out. (read timeout=10)\",)': /clientlib/status-report/update\n",
      "WARNING:urllib3.connectionpool:Retrying (Retry(total=1, connect=None, read=None, redirect=None, status=None)) after connection broken by 'ReadTimeoutError(\"HTTPSConnectionPool(host='www.comet.ml', port=443): Read timed out. (read timeout=10)\",)': /clientlib/status-report/update\n",
      "WARNING:urllib3.connectionpool:Retrying (Retry(total=1, connect=None, read=None, redirect=None, status=None)) after connection broken by 'ReadTimeoutError(\"HTTPSConnectionPool(host='www.comet.ml', port=443): Read timed out. (read timeout=10)\",)': /clientlib/status-report/update\n",
      "WARNING:urllib3.connectionpool:Retrying (Retry(total=1, connect=None, read=None, redirect=None, status=None)) after connection broken by 'ReadTimeoutError(\"HTTPSConnectionPool(host='www.comet.ml', port=443): Read timed out. (read timeout=10)\",)': /clientlib/status-report/update\n",
      "WARNING:urllib3.connectionpool:Retrying (Retry(total=2, connect=None, read=None, redirect=None, status=None)) after connection broken by 'ReadTimeoutError(\"HTTPSConnectionPool(host='www.comet.ml', port=443): Read timed out. (read timeout=10)\",)': /clientlib/status-report/update\n",
      "WARNING:urllib3.connectionpool:Retrying (Retry(total=2, connect=None, read=None, redirect=None, status=None)) after connection broken by 'ReadTimeoutError(\"HTTPSConnectionPool(host='www.comet.ml', port=443): Read timed out. (read timeout=10)\",)': /clientlib/status-report/update\n",
      "WARNING:urllib3.connectionpool:Retrying (Retry(total=2, connect=None, read=None, redirect=None, status=None)) after connection broken by 'ReadTimeoutError(\"HTTPSConnectionPool(host='www.comet.ml', port=443): Read timed out. (read timeout=10)\",)': /clientlib/status-report/update\n",
      "WARNING:urllib3.connectionpool:Retrying (Retry(total=2, connect=None, read=None, redirect=None, status=None)) after connection broken by 'ReadTimeoutError(\"HTTPSConnectionPool(host='www.comet.ml', port=443): Read timed out. (read timeout=10)\",)': /clientlib/status-report/update\n",
      "WARNING:urllib3.connectionpool:Retrying (Retry(total=2, connect=None, read=None, redirect=None, status=None)) after connection broken by 'ReadTimeoutError(\"HTTPSConnectionPool(host='www.comet.ml', port=443): Read timed out. (read timeout=10)\",)': /clientlib/status-report/update\n",
      "WARNING:urllib3.connectionpool:Retrying (Retry(total=2, connect=None, read=None, redirect=None, status=None)) after connection broken by 'ReadTimeoutError(\"HTTPSConnectionPool(host='www.comet.ml', port=443): Read timed out. (read timeout=10)\",)': /clientlib/status-report/update\n",
      "WARNING:urllib3.connectionpool:Retrying (Retry(total=2, connect=None, read=None, redirect=None, status=None)) after connection broken by 'ReadTimeoutError(\"HTTPSConnectionPool(host='www.comet.ml', port=443): Read timed out. (read timeout=10)\",)': /clientlib/status-report/update\n",
      "WARNING:urllib3.connectionpool:Retrying (Retry(total=2, connect=None, read=None, redirect=None, status=None)) after connection broken by 'ReadTimeoutError(\"HTTPSConnectionPool(host='www.comet.ml', port=443): Read timed out. (read timeout=10)\",)': /clientlib/status-report/update\n",
      "WARNING:urllib3.connectionpool:Retrying (Retry(total=2, connect=None, read=None, redirect=None, status=None)) after connection broken by 'ReadTimeoutError(\"HTTPSConnectionPool(host='www.comet.ml', port=443): Read timed out. (read timeout=10)\",)': /clientlib/status-report/update\n",
      "WARNING:urllib3.connectionpool:Retrying (Retry(total=1, connect=None, read=None, redirect=None, status=None)) after connection broken by 'ReadTimeoutError(\"HTTPSConnectionPool(host='www.comet.ml', port=443): Read timed out. (read timeout=10)\",)': /clientlib/status-report/update\n",
      "WARNING:urllib3.connectionpool:Retrying (Retry(total=1, connect=None, read=None, redirect=None, status=None)) after connection broken by 'ReadTimeoutError(\"HTTPSConnectionPool(host='www.comet.ml', port=443): Read timed out. (read timeout=10)\",)': /clientlib/status-report/update\n",
      "WARNING:urllib3.connectionpool:Retrying (Retry(total=2, connect=None, read=None, redirect=None, status=None)) after connection broken by 'ReadTimeoutError(\"HTTPSConnectionPool(host='www.comet.ml', port=443): Read timed out. (read timeout=10)\",)': /clientlib/status-report/update\n",
      "WARNING:urllib3.connectionpool:Retrying (Retry(total=2, connect=None, read=None, redirect=None, status=None)) after connection broken by 'ReadTimeoutError(\"HTTPSConnectionPool(host='www.comet.ml', port=443): Read timed out. (read timeout=10)\",)': /clientlib/status-report/update\n",
      "WARNING:urllib3.connectionpool:Retrying (Retry(total=2, connect=None, read=None, redirect=None, status=None)) after connection broken by 'ReadTimeoutError(\"HTTPSConnectionPool(host='www.comet.ml', port=443): Read timed out. (read timeout=10)\",)': /clientlib/status-report/update\n",
      "WARNING:urllib3.connectionpool:Retrying (Retry(total=2, connect=None, read=None, redirect=None, status=None)) after connection broken by 'ReadTimeoutError(\"HTTPSConnectionPool(host='www.comet.ml', port=443): Read timed out. (read timeout=10)\",)': /clientlib/status-report/update\n"
     ]
    }
   ],
   "source": [
    "for experiment in opt.get_experiments():\n",
    "    zzxx=train(x_train,y_train,x_test,y_test,batch=experiment.get_parameter(\"batch\"),epoch=experiment.get_parameter(\"epoch\"))\n",
    "    experiment.log_metric(\"zzxx\",zzxx)\n",
    "    "
   ]
  },
  {
   "cell_type": "code",
   "execution_count": 32,
   "metadata": {},
   "outputs": [],
   "source": [
    "#train(x_train,y_train,x_test,y_test)"
   ]
  },
  {
   "cell_type": "code",
   "execution_count": 33,
   "metadata": {},
   "outputs": [
    {
     "ename": "TypeError",
     "evalue": "object of type 'NoneType' has no len()",
     "output_type": "error",
     "traceback": [
      "\u001b[1;31m---------------------------------------------------------------------------\u001b[0m",
      "\u001b[1;31mTypeError\u001b[0m                                 Traceback (most recent call last)",
      "\u001b[1;32m<ipython-input-33-86c369aed6fc>\u001b[0m in \u001b[0;36m<module>\u001b[1;34m\u001b[0m\n\u001b[1;32m----> 1\u001b[1;33m \u001b[0mexperiment\u001b[0m\u001b[1;33m.\u001b[0m\u001b[0mend\u001b[0m\u001b[1;33m(\u001b[0m\u001b[1;33m)\u001b[0m\u001b[1;33m\u001b[0m\u001b[1;33m\u001b[0m\u001b[0m\n\u001b[0m",
      "\u001b[1;32mC:\\Anaconda\\envs\\py36gpu\\lib\\site-packages\\comet_ml\\experiment.py\u001b[0m in \u001b[0;36mend\u001b[1;34m(self)\u001b[0m\n\u001b[0;32m    350\u001b[0m             \u001b[0msource_code\u001b[0m \u001b[1;33m=\u001b[0m \u001b[0mget_jupyter_source_code\u001b[0m\u001b[1;33m(\u001b[0m\u001b[1;33m)\u001b[0m\u001b[1;33m\u001b[0m\u001b[1;33m\u001b[0m\u001b[0m\n\u001b[0;32m    351\u001b[0m             \u001b[0mself\u001b[0m\u001b[1;33m.\u001b[0m\u001b[0m_set_code\u001b[0m\u001b[1;33m(\u001b[0m\u001b[0msource_code\u001b[0m\u001b[1;33m,\u001b[0m \u001b[0moverwrite\u001b[0m\u001b[1;33m=\u001b[0m\u001b[1;32mTrue\u001b[0m\u001b[1;33m)\u001b[0m\u001b[1;33m\u001b[0m\u001b[1;33m\u001b[0m\u001b[0m\n\u001b[1;32m--> 352\u001b[1;33m         \u001b[0mself\u001b[0m\u001b[1;33m.\u001b[0m\u001b[0m_on_end\u001b[0m\u001b[1;33m(\u001b[0m\u001b[0mwait\u001b[0m\u001b[1;33m=\u001b[0m\u001b[1;32mTrue\u001b[0m\u001b[1;33m)\u001b[0m\u001b[1;33m\u001b[0m\u001b[1;33m\u001b[0m\u001b[0m\n\u001b[0m\u001b[0;32m    353\u001b[0m \u001b[1;33m\u001b[0m\u001b[0m\n\u001b[0;32m    354\u001b[0m     \u001b[1;32mdef\u001b[0m \u001b[0mdisplay\u001b[0m\u001b[1;33m(\u001b[0m\u001b[0mself\u001b[0m\u001b[1;33m,\u001b[0m \u001b[0mclear\u001b[0m\u001b[1;33m=\u001b[0m\u001b[1;32mFalse\u001b[0m\u001b[1;33m,\u001b[0m \u001b[0mwait\u001b[0m\u001b[1;33m=\u001b[0m\u001b[1;32mTrue\u001b[0m\u001b[1;33m,\u001b[0m \u001b[0mnew\u001b[0m\u001b[1;33m=\u001b[0m\u001b[1;36m0\u001b[0m\u001b[1;33m,\u001b[0m \u001b[0mautoraise\u001b[0m\u001b[1;33m=\u001b[0m\u001b[1;32mTrue\u001b[0m\u001b[1;33m,\u001b[0m \u001b[0mtab\u001b[0m\u001b[1;33m=\u001b[0m\u001b[1;32mNone\u001b[0m\u001b[1;33m)\u001b[0m\u001b[1;33m:\u001b[0m\u001b[1;33m\u001b[0m\u001b[1;33m\u001b[0m\u001b[0m\n",
      "\u001b[1;32mC:\\Anaconda\\envs\\py36gpu\\lib\\site-packages\\comet_ml\\__init__.py\u001b[0m in \u001b[0;36m_on_end\u001b[1;34m(self, wait)\u001b[0m\n\u001b[0;32m    346\u001b[0m         \u001b[0mend\u001b[0m \u001b[0mof\u001b[0m \u001b[0mthe\u001b[0m \u001b[0mscript\u001b[0m\u001b[1;33m\u001b[0m\u001b[1;33m\u001b[0m\u001b[0m\n\u001b[0;32m    347\u001b[0m         \"\"\"\n\u001b[1;32m--> 348\u001b[1;33m         \u001b[0msuccessful_clean\u001b[0m \u001b[1;33m=\u001b[0m \u001b[0msuper\u001b[0m\u001b[1;33m(\u001b[0m\u001b[0mExperiment\u001b[0m\u001b[1;33m,\u001b[0m \u001b[0mself\u001b[0m\u001b[1;33m)\u001b[0m\u001b[1;33m.\u001b[0m\u001b[0m_on_end\u001b[0m\u001b[1;33m(\u001b[0m\u001b[0mwait\u001b[0m\u001b[1;33m=\u001b[0m\u001b[0mwait\u001b[0m\u001b[1;33m)\u001b[0m\u001b[1;33m\u001b[0m\u001b[1;33m\u001b[0m\u001b[0m\n\u001b[0m\u001b[0;32m    349\u001b[0m \u001b[1;33m\u001b[0m\u001b[0m\n\u001b[0;32m    350\u001b[0m         \u001b[1;32mif\u001b[0m \u001b[1;32mnot\u001b[0m \u001b[0msuccessful_clean\u001b[0m\u001b[1;33m:\u001b[0m\u001b[1;33m\u001b[0m\u001b[1;33m\u001b[0m\u001b[0m\n",
      "\u001b[1;32mC:\\Anaconda\\envs\\py36gpu\\lib\\site-packages\\comet_ml\\experiment.py\u001b[0m in \u001b[0;36m_on_end\u001b[1;34m(self, wait)\u001b[0m\n\u001b[0;32m    494\u001b[0m             \u001b[1;32mif\u001b[0m \u001b[0mself\u001b[0m\u001b[1;33m.\u001b[0m\u001b[0moptimizer\u001b[0m \u001b[1;32mis\u001b[0m \u001b[1;32mnot\u001b[0m \u001b[1;32mNone\u001b[0m\u001b[1;33m:\u001b[0m\u001b[1;33m\u001b[0m\u001b[1;33m\u001b[0m\u001b[0m\n\u001b[0;32m    495\u001b[0m                 \u001b[0mLOGGER\u001b[0m\u001b[1;33m.\u001b[0m\u001b[0mdebug\u001b[0m\u001b[1;33m(\u001b[0m\u001b[1;34m\"optimizer.end() called\"\u001b[0m\u001b[1;33m)\u001b[0m\u001b[1;33m\u001b[0m\u001b[1;33m\u001b[0m\u001b[0m\n\u001b[1;32m--> 496\u001b[1;33m                 \u001b[0mforce_wait\u001b[0m \u001b[1;33m=\u001b[0m \u001b[0mself\u001b[0m\u001b[1;33m.\u001b[0m\u001b[0moptimizer\u001b[0m\u001b[1;33m[\u001b[0m\u001b[1;34m\"optimizer\"\u001b[0m\u001b[1;33m]\u001b[0m\u001b[1;33m.\u001b[0m\u001b[0mend\u001b[0m\u001b[1;33m(\u001b[0m\u001b[0mself\u001b[0m\u001b[1;33m)\u001b[0m\u001b[1;33m\u001b[0m\u001b[1;33m\u001b[0m\u001b[0m\n\u001b[0m\u001b[0;32m    497\u001b[0m                 \u001b[1;32mif\u001b[0m \u001b[0mforce_wait\u001b[0m\u001b[1;33m:\u001b[0m\u001b[1;33m\u001b[0m\u001b[1;33m\u001b[0m\u001b[0m\n\u001b[0;32m    498\u001b[0m                     \u001b[1;31m# Force wait to be true causes all uploads to finish:\u001b[0m\u001b[1;33m\u001b[0m\u001b[1;33m\u001b[0m\u001b[1;33m\u001b[0m\u001b[0m\n",
      "\u001b[1;32mC:\\Anaconda\\envs\\py36gpu\\lib\\site-packages\\comet_ml\\optimizer.py\u001b[0m in \u001b[0;36mend\u001b[1;34m(self, experiment)\u001b[0m\n\u001b[0;32m    311\u001b[0m         \u001b[0mscore\u001b[0m \u001b[1;33m=\u001b[0m \u001b[1;32mNone\u001b[0m\u001b[1;33m\u001b[0m\u001b[1;33m\u001b[0m\u001b[0m\n\u001b[0;32m    312\u001b[0m         \u001b[1;31m## Find correct, min/max metric\u001b[0m\u001b[1;33m\u001b[0m\u001b[1;33m\u001b[0m\u001b[1;33m\u001b[0m\u001b[0m\n\u001b[1;32m--> 313\u001b[1;33m         \u001b[1;32mif\u001b[0m \u001b[0mmetric\u001b[0m \u001b[1;32min\u001b[0m \u001b[0mmetrics\u001b[0m \u001b[1;32mand\u001b[0m \u001b[0mlen\u001b[0m\u001b[1;33m(\u001b[0m\u001b[0mmetrics\u001b[0m\u001b[1;33m[\u001b[0m\u001b[0mmetric\u001b[0m\u001b[1;33m]\u001b[0m\u001b[1;33m)\u001b[0m \u001b[1;33m==\u001b[0m \u001b[1;36m2\u001b[0m\u001b[1;33m:\u001b[0m\u001b[1;33m\u001b[0m\u001b[1;33m\u001b[0m\u001b[0m\n\u001b[0m\u001b[0;32m    314\u001b[0m             \u001b[1;32mif\u001b[0m \u001b[1;34m\"objective\"\u001b[0m \u001b[1;32mnot\u001b[0m \u001b[1;32min\u001b[0m \u001b[0mstatus\u001b[0m\u001b[1;33m[\u001b[0m\u001b[1;34m\"spec\"\u001b[0m\u001b[1;33m]\u001b[0m\u001b[1;33m:\u001b[0m\u001b[1;33m\u001b[0m\u001b[1;33m\u001b[0m\u001b[0m\n\u001b[0;32m    315\u001b[0m                 \u001b[1;31m# Algorithm doesn't actually need score\u001b[0m\u001b[1;33m\u001b[0m\u001b[1;33m\u001b[0m\u001b[1;33m\u001b[0m\u001b[0m\n",
      "\u001b[1;31mTypeError\u001b[0m: object of type 'NoneType' has no len()"
     ]
    },
    {
     "name": "stderr",
     "output_type": "stream",
     "text": [
      "WARNING:urllib3.connectionpool:Retrying (Retry(total=2, connect=None, read=None, redirect=None, status=None)) after connection broken by 'ReadTimeoutError(\"HTTPSConnectionPool(host='www.comet.ml', port=443): Read timed out. (read timeout=10)\",)': /clientlib/status-report/update\n"
     ]
    }
   ],
   "source": [
    "experiment.end()"
   ]
  },
  {
   "cell_type": "code",
   "execution_count": null,
   "metadata": {},
   "outputs": [],
   "source": []
  }
 ],
 "metadata": {
  "kernelspec": {
   "display_name": "py36gpu_",
   "language": "python",
   "name": "py36gpu_"
  },
  "language_info": {
   "codemirror_mode": {
    "name": "ipython",
    "version": 3
   },
   "file_extension": ".py",
   "mimetype": "text/x-python",
   "name": "python",
   "nbconvert_exporter": "python",
   "pygments_lexer": "ipython3",
   "version": "3.6.7"
  }
 },
 "nbformat": 4,
 "nbformat_minor": 2
}
