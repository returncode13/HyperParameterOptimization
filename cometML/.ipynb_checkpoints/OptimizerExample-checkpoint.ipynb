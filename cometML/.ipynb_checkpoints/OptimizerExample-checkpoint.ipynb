{
 "cells": [
  {
   "cell_type": "markdown",
   "metadata": {},
   "source": [
    "Reference #https://colab.research.google.com/drive/1HEcOKFwK-Bk8T3R_IIqBhNjPO5opmCO0#scrollTo=CK6d-kNzO2hX"
   ]
  },
  {
   "cell_type": "code",
   "execution_count": 1,
   "metadata": {},
   "outputs": [
    {
     "name": "stderr",
     "output_type": "stream",
     "text": [
      "C:\\Anaconda\\envs\\py36gpu\\lib\\site-packages\\h5py\\__init__.py:36: FutureWarning: Conversion of the second argument of issubdtype from `float` to `np.floating` is deprecated. In future, it will be treated as `np.float64 == np.dtype(float).type`.\n",
      "  from ._conv import register_converters as _register_converters\n",
      "Using TensorFlow backend.\n"
     ]
    }
   ],
   "source": [
    "from comet_ml import Experiment\n",
    "import keras\n",
    "from keras.datasets import mnist\n",
    "from keras.layers import Dense,Dropout\n",
    "from keras.models import Sequential, Model\n",
    "from keras.optimizers import  RMSprop\n",
    "from keras.callbacks import Callback\n",
    "from keras.preprocessing import image"
   ]
  },
  {
   "cell_type": "code",
   "execution_count": 2,
   "metadata": {},
   "outputs": [],
   "source": [
    "(x_train, y_train),(x_test,y_test)=mnist.load_data()"
   ]
  },
  {
   "cell_type": "code",
   "execution_count": 3,
   "metadata": {},
   "outputs": [
    {
     "data": {
      "text/plain": [
       "(60000, 28, 28)"
      ]
     },
     "execution_count": 3,
     "metadata": {},
     "output_type": "execute_result"
    }
   ],
   "source": [
    "x_train.shape"
   ]
  },
  {
   "cell_type": "code",
   "execution_count": 6,
   "metadata": {},
   "outputs": [
    {
     "name": "stdout",
     "output_type": "stream",
     "text": [
      "60000 train samples\n",
      "10000 test samples\n"
     ]
    }
   ],
   "source": [
    "x_train=x_train.reshape(60000,784)\n",
    "x_test=x_test.reshape(10000,784)\n",
    "x_train = x_train.astype(\"float32\")\n",
    "x_test= x_test.astype(\"float32\")\n",
    "x_train /=255\n",
    "x_test /=255\n",
    "\n",
    "print(x_train.shape[0],\"train samples\")\n",
    "print(x_test.shape[0],\"test samples\")\n"
   ]
  },
  {
   "cell_type": "code",
   "execution_count": 10,
   "metadata": {},
   "outputs": [
    {
     "data": {
      "text/plain": [
       "(60000,)"
      ]
     },
     "execution_count": 10,
     "metadata": {},
     "output_type": "execute_result"
    }
   ],
   "source": [
    "y_train.shape"
   ]
  },
  {
   "cell_type": "code",
   "execution_count": 11,
   "metadata": {},
   "outputs": [
    {
     "data": {
      "text/plain": [
       "array([0., 0., 0., 0., 0., 1., 0., 0., 0., 0.], dtype=float32)"
      ]
     },
     "execution_count": 11,
     "metadata": {},
     "output_type": "execute_result"
    }
   ],
   "source": [
    "y_train=keras.utils.to_categorical(y_train,10)\n",
    "y_test=keras.utils.to_categorical(y_test,10)\n",
    "y_train[0]"
   ]
  },
  {
   "cell_type": "code",
   "execution_count": 22,
   "metadata": {},
   "outputs": [],
   "source": [
    "def build_model(input_shape=(784,)):\n",
    "    model=Sequential()\n",
    "    model.add(Dense(128,activation=\"sigmoid\",input_shape=(784,)))\n",
    "    model.add(Dense(256,activation=\"sigmoid\"))\n",
    "    model.add(Dense(128,activation=\"sigmoid\"))\n",
    "    model.add(Dense(10,activation=\"softmax\"))\n",
    "    model.compile(\n",
    "        loss=\"categorical_crossentropy\",\n",
    "        optimizer=RMSprop(),\n",
    "        metrics=[\"accuracy\"]\n",
    "    )\n",
    "    return model\n",
    "\n",
    "\n",
    "        "
   ]
  },
  {
   "cell_type": "code",
   "execution_count": 23,
   "metadata": {},
   "outputs": [
    {
     "name": "stdout",
     "output_type": "stream",
     "text": [
      "Model: \"sequential_3\"\n",
      "_________________________________________________________________\n",
      "Layer (type)                 Output Shape              Param #   \n",
      "=================================================================\n",
      "dense_9 (Dense)              (None, 128)               100480    \n",
      "_________________________________________________________________\n",
      "dense_10 (Dense)             (None, 256)               33024     \n",
      "_________________________________________________________________\n",
      "dense_11 (Dense)             (None, 128)               32896     \n",
      "_________________________________________________________________\n",
      "dense_12 (Dense)             (None, 10)                1290      \n",
      "=================================================================\n",
      "Total params: 167,690\n",
      "Trainable params: 167,690\n",
      "Non-trainable params: 0\n",
      "_________________________________________________________________\n"
     ]
    }
   ],
   "source": [
    "model = build_model()\n",
    "model.summary()"
   ]
  },
  {
   "cell_type": "code",
   "execution_count": 27,
   "metadata": {},
   "outputs": [],
   "source": [
    "import logging\n",
    "def train(x_train,y_train,x_test,y_test,batch):\n",
    "    model=build_model()\n",
    "    model.fit(\n",
    "        x_train,\n",
    "        y_train,\n",
    "        batch_size=batch,\n",
    "        epochs=5,\n",
    "        validation_data=(x_test,y_test)\n",
    "    )\n",
    "    score=model.evaluate(x_test,y_test)\n",
    "    logging.info(\"score %s\",score)\n"
   ]
  },
  {
   "cell_type": "code",
   "execution_count": 30,
   "metadata": {},
   "outputs": [],
   "source": [
    "parameters={\n",
    "    \"batch\":[90,100]\n",
    "}\n"
   ]
  },
  {
   "cell_type": "markdown",
   "metadata": {},
   "source": [
    "**Create an  Experiment:**"
   ]
  },
  {
   "cell_type": "code",
   "execution_count": 31,
   "metadata": {},
   "outputs": [
    {
     "name": "stderr",
     "output_type": "stream",
     "text": [
      "COMET INFO: Experiment is live on comet.ml https://www.comet.ml/returncode13/general/56948b9bf0174bfb83932ebd5748bcdf\n",
      "\n"
     ]
    }
   ],
   "source": [
    "experiment = Experiment(api_key=\"6krXLYdn4mMFKPsF8jwrFwXtu\",\n",
    "                        project_name=\"general\", workspace=\"returncode13\")"
   ]
  },
  {
   "cell_type": "code",
   "execution_count": null,
   "metadata": {},
   "outputs": [],
   "source": [
    "#experiment.display()"
   ]
  },
  {
   "cell_type": "code",
   "execution_count": 32,
   "metadata": {},
   "outputs": [],
   "source": [
    "experiment.log_dataset_hash(x_train)"
   ]
  },
  {
   "cell_type": "code",
   "execution_count": 33,
   "metadata": {},
   "outputs": [],
   "source": [
    "experiment.log_parameters(parameters)"
   ]
  },
  {
   "cell_type": "code",
   "execution_count": 35,
   "metadata": {},
   "outputs": [
    {
     "name": "stderr",
     "output_type": "stream",
     "text": [
      "COMET WARNING: Passing Experiment through Optimizer constructor is deprecated; pass them to Optimizer.get_experiments or Optimizer.next\n",
      "COMET INFO: COMET_OPTIMIZER_ID=c83caaf6cb9b4e758f266ae8d01db431\n",
      "COMET INFO: Using optimizer config: {'algorithm': 'bayes', 'configSpaceSize': 'infinite', 'endTime': None, 'id': 'c83caaf6cb9b4e758f266ae8d01db431', 'lastUpdateTime': None, 'maxCombo': 0, 'name': 'c83caaf6cb9b4e758f266ae8d01db431', 'parameters': {'batch': {'max': 5, 'min': 1, 'scalingType': 'uniform', 'type': 'integer'}}, 'predictor': None, 'spec': {'gridSize': 10, 'maxCombo': 0, 'metric': 'accuracy', 'minSampleSize': 100, 'objective': 'minimize', 'retryAssignLimit': 0, 'retryLimit': 20, 'seed': 440683012}, 'startTime': 20290110684, 'state': {'sequence_i': 0, 'sequence_pid': None, 'sequence_retry': 0}, 'status': 'running', 'suggestion_count': 0, 'trials': 1, 'version': '1.0.24'}\n"
     ]
    }
   ],
   "source": [
    "config={\n",
    "    \"algorithm\" : \"bayes\",\n",
    "    \"parameters\": {\n",
    "        \"batch\":{\"type\":\"integer\", \"min\":1 ,\"max\":5}\n",
    "    }\n",
    "    ,\n",
    "    \"spec\":{\n",
    "        \"metric\":\"accuracy\",\n",
    "        \"objective\":\"minimize\"\n",
    "    }\n",
    "}\n",
    "\n",
    "from comet_ml import Optimizer \n",
    "opt=Optimizer(config,api_key=\"6krXLYdn4mMFKPsF8jwrFwXtu\",project_name=\"optimizer-search-01\")"
   ]
  },
  {
   "cell_type": "code",
   "execution_count": 28,
   "metadata": {},
   "outputs": [
    {
     "name": "stderr",
     "output_type": "stream",
     "text": [
      "COMET WARNING: Set model graph by 'keras' ignored; already called. Future attempts are silently ignored.\n"
     ]
    },
    {
     "name": "stdout",
     "output_type": "stream",
     "text": [
      "Train on 60000 samples, validate on 10000 samples\n",
      "Epoch 1/5\n",
      "60000/60000 [==============================] - 3s 44us/step - loss: 0.6582 - accuracy: 0.8002 - val_loss: 0.2764 - val_accuracy: 0.9179\n",
      "Epoch 2/5\n",
      "60000/60000 [==============================] - 3s 43us/step - loss: 0.2385 - accuracy: 0.9288 - val_loss: 0.1915 - val_accuracy: 0.9434\n",
      "Epoch 3/5\n",
      "60000/60000 [==============================] - 3s 42us/step - loss: 0.1670 - accuracy: 0.9496 - val_loss: 0.1686 - val_accuracy: 0.9511\n",
      "Epoch 4/5\n",
      "60000/60000 [==============================] - 3s 42us/step - loss: 0.1313 - accuracy: 0.9600 - val_loss: 0.1424 - val_accuracy: 0.9553\n",
      "Epoch 5/5\n",
      "60000/60000 [==============================] - 3s 42us/step - loss: 0.1096 - accuracy: 0.9665 - val_loss: 0.1247 - val_accuracy: 0.9631\n",
      "10000/10000 [==============================] - 1s 50us/step\n"
     ]
    }
   ],
   "source": [
    "train(x_train,y_train,x_test,y_test)"
   ]
  },
  {
   "cell_type": "code",
   "execution_count": 29,
   "metadata": {},
   "outputs": [
    {
     "name": "stderr",
     "output_type": "stream",
     "text": [
      "COMET INFO: ----------------------------\n",
      "COMET INFO: Comet.ml Experiment Summary:\n",
      "COMET INFO:   Data:\n",
      "COMET INFO:     url: https://www.comet.ml/returncode13/general/75f1b41d633d4cd1928d20f6fcf297e2\n",
      "COMET INFO:   Metrics [count] (min, max):\n",
      "COMET INFO:     accuracy [10]                 : (0.8002166748046875, 0.9664666652679443)\n",
      "COMET INFO:     batch_accuracy [670]          : (0.0555555559694767, 0.9777777791023254)\n",
      "COMET INFO:     batch_loss [670]              : (0.019306275993585587, 2.5423171520233154)\n",
      "COMET INFO:     epoch_duration [10]           : (2.4060000000026776, 3.1089999999967404)\n",
      "COMET INFO:     loss [10]                     : (0.10957649546395987, 0.6581865004748106)\n",
      "COMET INFO:     step                          : 3895\n",
      "COMET INFO:     sys.gpu.0.free_memory [52]    : (559087616.0, 12004491264.0)\n",
      "COMET INFO:     sys.gpu.0.gpu_utilization [52]: (0.0, 50.0)\n",
      "COMET INFO:     sys.gpu.0.total_memory        : (12004491264.0, 12004491264.0)\n",
      "COMET INFO:     sys.gpu.0.used_memory [52]    : (0.0, 11445403648.0)\n",
      "COMET INFO:     sys.gpu.1.free_memory [52]    : (11645288448.0, 12004491264.0)\n",
      "COMET INFO:     sys.gpu.1.gpu_utilization [52]: (0.0, 0.0)\n",
      "COMET INFO:     sys.gpu.1.total_memory        : (12004491264.0, 12004491264.0)\n",
      "COMET INFO:     sys.gpu.1.used_memory [52]    : (0.0, 359202816.0)\n",
      "COMET INFO:     val_accuracy [10]             : (0.9143999814987183, 0.963100016117096)\n",
      "COMET INFO:     val_loss [10]                 : (0.12469258198095486, 0.287226446704939)\n",
      "COMET INFO:     validate_batch_accuracy [120] : (0.8935483694076538, 1.0)\n",
      "COMET INFO:     validate_batch_loss [120]     : (0.012729274109005928, 0.5747101902961731)\n",
      "COMET INFO:   Other [count]:\n",
      "COMET INFO:     trainable_params [2]: 167690\n",
      "COMET INFO: ----------------------------\n",
      "COMET INFO: Uploading stats to Comet before program termination (may take several seconds)\n"
     ]
    }
   ],
   "source": [
    "experiment.end()"
   ]
  },
  {
   "cell_type": "code",
   "execution_count": null,
   "metadata": {},
   "outputs": [],
   "source": []
  }
 ],
 "metadata": {
  "kernelspec": {
   "display_name": "py36gpu_",
   "language": "python",
   "name": "py36gpu_"
  },
  "language_info": {
   "codemirror_mode": {
    "name": "ipython",
    "version": 3
   },
   "file_extension": ".py",
   "mimetype": "text/x-python",
   "name": "python",
   "nbconvert_exporter": "python",
   "pygments_lexer": "ipython3",
   "version": "3.6.7"
  }
 },
 "nbformat": 4,
 "nbformat_minor": 2
}
