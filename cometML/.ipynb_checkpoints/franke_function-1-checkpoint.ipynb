{
 "cells": [
  {
   "cell_type": "code",
   "execution_count": 2,
   "metadata": {},
   "outputs": [],
   "source": [
    "from sigopt.examples import  franke_function\n",
    "from comet_ml import Optimizer "
   ]
  },
  {
   "cell_type": "code",
   "execution_count": 5,
   "metadata": {},
   "outputs": [],
   "source": [
    "def fit(args):\n",
    "    return franke_function(args['x'],args['y'])\n"
   ]
  },
  {
   "cell_type": "code",
   "execution_count": 12,
   "metadata": {},
   "outputs": [],
   "source": [
    "config={\n",
    "    \"algorithm\":\"bayes\",\n",
    "    \"spec\":{\n",
    "        'retryAssignLimit': 1,\n",
    "        'objective': \"maximize\",\n",
    "        'metric':'val'\n",
    "    },\n",
    "    \"parameters\":{\n",
    "        'x':{\n",
    "            \"type\": \"float\",\n",
    "            \"scalingType\":\"uniform\",\n",
    "            \"min\":0.0,\n",
    "            \"max\":1.0\n",
    "        },\n",
    "        'y':{\n",
    "            \"type\": \"float\",\n",
    "            \"scalingType\":\"uniform\",\n",
    "            \"min\":0.0,\n",
    "            \"max\":1.0\n",
    "        }\n",
    "    },\n",
    "    \"name\":\"Franke Function Optimizer\"\n",
    "}"
   ]
  },
  {
   "cell_type": "code",
   "execution_count": 13,
   "metadata": {},
   "outputs": [
    {
     "name": "stderr",
     "output_type": "stream",
     "text": [
      "COMET WARNING: Passing Experiment through Optimizer constructor is deprecated; pass them to Optimizer.get_experiments or Optimizer.next\n",
      "COMET INFO: COMET_OPTIMIZER_ID=66db98276d9a4b199c4d609c846cbf68\n",
      "COMET INFO: Using optimizer config: {'algorithm': 'bayes', 'configSpaceSize': 'infinite', 'endTime': None, 'id': '66db98276d9a4b199c4d609c846cbf68', 'lastUpdateTime': None, 'maxCombo': 0, 'name': '66db98276d9a4b199c4d609c846cbf68', 'parameters': {'x': {'max': 1.0, 'min': 0.0, 'scalingType': 'uniform', 'type': 'float'}, 'y': {'max': 1.0, 'min': 0.0, 'scalingType': 'uniform', 'type': 'float'}}, 'predictor': None, 'spec': {'gridSize': 10, 'maxCombo': 0, 'metric': 'val', 'minSampleSize': 100, 'objective': 'maximize', 'retryAssignLimit': 1, 'retryLimit': 20, 'seed': 1096803558}, 'startTime': 20295385701, 'state': {'sequence_i': 0, 'sequence_pid': None, 'sequence_retry': 0}, 'status': 'running', 'suggestion_count': 0, 'trials': 1, 'version': '1.0.24'}\n"
     ]
    }
   ],
   "source": [
    "opt=Optimizer(config,api_key=\"6krXLYdn4mMFKPsF8jwrFwXtu\",workspace=\"returncode13\",project_name=\"franke-function-opt-01\")"
   ]
  },
  {
   "cell_type": "code",
   "execution_count": null,
   "metadata": {},
   "outputs": [
    {
     "name": "stderr",
     "output_type": "stream",
     "text": [
      "COMET INFO: Experiment is live on comet.ml https://www.comet.ml/returncode13/franke-function-opt-01/369d5cebcb8743e2943d27c006cac8f9\n",
      "\n"
     ]
    },
    {
     "name": "stdout",
     "output_type": "stream",
     "text": [
      "0.7453705114990309 0.5890280279366911\n"
     ]
    },
    {
     "name": "stderr",
     "output_type": "stream",
     "text": [
      "COMET INFO: Optimizer metrics is 'val' but no logged values found. Experiment ignored in sweep.\n",
      "COMET INFO: ----------------------------\n",
      "COMET INFO: Comet.ml Experiment Summary:\n",
      "COMET INFO:   Data:\n",
      "COMET INFO:     url: https://www.comet.ml/returncode13/franke-function-opt-01/369d5cebcb8743e2943d27c006cac8f9\n",
      "COMET INFO:   Metrics [count] (min, max):\n",
      "COMET INFO:     sys.gpu.0.free_memory    : (559087616.0, 559087616.0)\n",
      "COMET INFO:     sys.gpu.0.gpu_utilization: (0.0, 0.0)\n",
      "COMET INFO:     sys.gpu.0.total_memory   : (12004491264.0, 12004491264.0)\n",
      "COMET INFO:     sys.gpu.0.used_memory    : (11445403648.0, 11445403648.0)\n",
      "COMET INFO:     sys.gpu.1.free_memory    : (11644764160.0, 11644764160.0)\n",
      "COMET INFO:     sys.gpu.1.gpu_utilization: (0.0, 0.0)\n",
      "COMET INFO:     sys.gpu.1.total_memory   : (12004491264.0, 12004491264.0)\n",
      "COMET INFO:     sys.gpu.1.used_memory    : (359727104.0, 359727104.0)\n",
      "COMET INFO:   Other [count]:\n",
      "COMET INFO:     optimizer_count       : 1\n",
      "COMET INFO:     optimizer_id          : 66db98276d9a4b199c4d609c846cbf68\n",
      "COMET INFO:     optimizer_metric      : val\n",
      "COMET INFO:     optimizer_metric_value: None\n",
      "COMET INFO:     optimizer_objective   : minimum\n",
      "COMET INFO:     optimizer_parameters  : {\"x\": 0.7453705114990309, \"y\": 0.5890280279366911}\n",
      "COMET INFO:     optimizer_pid         : bd6170bf8c680427a09c908138cdfb359ee86c54\n",
      "COMET INFO:     optimizer_process     : 8680\n",
      "COMET INFO:     optimizer_trial       : 1\n",
      "COMET INFO:     optimizer_version     : 1.0.24\n",
      "COMET INFO: ----------------------------\n"
     ]
    }
   ],
   "source": [
    "for experiment in opt.get_experiments():\n",
    "    #val=fit(experiment.get_parameters())\n",
    "    print(experiment.get_parameter('x'),experiment.get_parameter('y'))"
   ]
  },
  {
   "cell_type": "code",
   "execution_count": null,
   "metadata": {},
   "outputs": [],
   "source": []
  }
 ],
 "metadata": {
  "kernelspec": {
   "display_name": "py36gpu_",
   "language": "python",
   "name": "py36gpu_"
  },
  "language_info": {
   "codemirror_mode": {
    "name": "ipython",
    "version": 3
   },
   "file_extension": ".py",
   "mimetype": "text/x-python",
   "name": "python",
   "nbconvert_exporter": "python",
   "pygments_lexer": "ipython3",
   "version": "3.6.7"
  }
 },
 "nbformat": 4,
 "nbformat_minor": 2
}
